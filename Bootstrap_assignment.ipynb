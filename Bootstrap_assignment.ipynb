{
  "nbformat": 4,
  "nbformat_minor": 0,
  "metadata": {
    "colab": {
      "name": "Bootstrap_assignment.ipynb",
      "provenance": [],
      "collapsed_sections": [],
      "include_colab_link": true
    },
    "kernelspec": {
      "name": "python3",
      "display_name": "Python 3"
    }
  },
  "cells": [
    {
      "cell_type": "markdown",
      "metadata": {
        "id": "view-in-github",
        "colab_type": "text"
      },
      "source": [
        "<a href=\"https://colab.research.google.com/github/subro12/Assignments/blob/master/Bootstrap_assignment.ipynb\" target=\"_parent\"><img src=\"https://colab.research.google.com/assets/colab-badge.svg\" alt=\"Open In Colab\"/></a>"
      ]
    },
    {
      "cell_type": "markdown",
      "metadata": {
        "id": "3sNKZq4XrXQh",
        "colab_type": "text"
      },
      "source": [
        "# <font color='red'><b>Bootstrap assignment</b> </font>"
      ]
    },
    {
      "cell_type": "markdown",
      "metadata": {
        "id": "RAHap1Z3FZC-",
        "colab_type": "text"
      },
      "source": [
        "<b>There will be some functions that start with the word \"grader\" ex: grader_sampples(), grader_30().. etc, you should not change those function definition.\n",
        "\n",
        "Every Grader function has to return True.</b>"
      ]
    },
    {
      "cell_type": "markdown",
      "metadata": {
        "id": "cuxBq_bvrwh2",
        "colab_type": "text"
      },
      "source": [
        "<font color='blue'> <b>Importing packages</b> </font>"
      ]
    },
    {
      "cell_type": "code",
      "metadata": {
        "id": "m6ag91ijrQOs",
        "colab_type": "code",
        "colab": {}
      },
      "source": [
        "import numpy as np # importing numpy for numerical computation\n",
        "from sklearn.datasets import load_boston # here we are using sklearn's boston dataset\n",
        "from sklearn.metrics import mean_squared_error # importing mean_squared_error metric"
      ],
      "execution_count": 2,
      "outputs": []
    },
    {
      "cell_type": "code",
      "metadata": {
        "id": "CcHOsONTt1K_",
        "colab_type": "code",
        "colab": {}
      },
      "source": [
        "boston = load_boston()\n",
        "x=boston.data #independent variables\n",
        "y=boston.target #target variable"
      ],
      "execution_count": 114,
      "outputs": []
    },
    {
      "cell_type": "code",
      "metadata": {
        "id": "pc1htEFYuLRj",
        "colab_type": "code",
        "colab": {
          "base_uri": "https://localhost:8080/",
          "height": 34
        },
        "outputId": "d883b869-f74c-4969-a12e-12d02f5ab661"
      },
      "source": [
        "x.shape"
      ],
      "execution_count": 115,
      "outputs": [
        {
          "output_type": "execute_result",
          "data": {
            "text/plain": [
              "(506, 13)"
            ]
          },
          "metadata": {
            "tags": []
          },
          "execution_count": 115
        }
      ]
    },
    {
      "cell_type": "code",
      "metadata": {
        "id": "kQle3T_wuOa3",
        "colab_type": "code",
        "colab": {
          "base_uri": "https://localhost:8080/",
          "height": 269
        },
        "outputId": "b37df59f-40f2-4f80-ace8-208642889603"
      },
      "source": [
        "x[:5]"
      ],
      "execution_count": 5,
      "outputs": [
        {
          "output_type": "execute_result",
          "data": {
            "text/plain": [
              "array([[6.3200e-03, 1.8000e+01, 2.3100e+00, 0.0000e+00, 5.3800e-01,\n",
              "        6.5750e+00, 6.5200e+01, 4.0900e+00, 1.0000e+00, 2.9600e+02,\n",
              "        1.5300e+01, 3.9690e+02, 4.9800e+00],\n",
              "       [2.7310e-02, 0.0000e+00, 7.0700e+00, 0.0000e+00, 4.6900e-01,\n",
              "        6.4210e+00, 7.8900e+01, 4.9671e+00, 2.0000e+00, 2.4200e+02,\n",
              "        1.7800e+01, 3.9690e+02, 9.1400e+00],\n",
              "       [2.7290e-02, 0.0000e+00, 7.0700e+00, 0.0000e+00, 4.6900e-01,\n",
              "        7.1850e+00, 6.1100e+01, 4.9671e+00, 2.0000e+00, 2.4200e+02,\n",
              "        1.7800e+01, 3.9283e+02, 4.0300e+00],\n",
              "       [3.2370e-02, 0.0000e+00, 2.1800e+00, 0.0000e+00, 4.5800e-01,\n",
              "        6.9980e+00, 4.5800e+01, 6.0622e+00, 3.0000e+00, 2.2200e+02,\n",
              "        1.8700e+01, 3.9463e+02, 2.9400e+00],\n",
              "       [6.9050e-02, 0.0000e+00, 2.1800e+00, 0.0000e+00, 4.5800e-01,\n",
              "        7.1470e+00, 5.4200e+01, 6.0622e+00, 3.0000e+00, 2.2200e+02,\n",
              "        1.8700e+01, 3.9690e+02, 5.3300e+00]])"
            ]
          },
          "metadata": {
            "tags": []
          },
          "execution_count": 5
        }
      ]
    },
    {
      "cell_type": "markdown",
      "metadata": {
        "id": "AEa_HqRZloH4",
        "colab_type": "text"
      },
      "source": [
        "## <font color='red'><b>Task 1</b></font>"
      ]
    },
    {
      "cell_type": "markdown",
      "metadata": {
        "id": "YQ5q8IxHNRk3",
        "colab_type": "text"
      },
      "source": [
        "<font color='red'> <b>Step - 1</b></font>"
      ]
    },
    {
      "cell_type": "markdown",
      "metadata": {
        "id": "GJCFCaOzl7Mr",
        "colab_type": "text"
      },
      "source": [
        "*  <font color='blue'><b>Creating samples</b></font><br>\n",
        "    <b> Randomly create 30 samples from the whole boston data points</b>\n",
        "    *  Creating each sample: Consider any random 303(60% of 506) data points from whole data set and then replicate any 203 points from the sampled points\n",
        "    \n",
        "     For better understanding of this procedure lets check this examples, assume we have 10 data points [1,2,3,4,5,6,7,8,9,10], first we take 6 data points randomly , consider we have selected [4, 5, 7, 8, 9, 3] now we will replicate 4 points from [4, 5, 7, 8, 9, 3], consder they are [5, 8, 3,7] so our final sample will be [4, 5, 7, 8, 9, 3, 5, 8, 3,7]\n",
        "* <font color='blue'><b> Create 30 samples </b></font>\n",
        "    *  Note that as a part of the Bagging when you are taking the random samples <b>make sure each of the sample will have different set of columns</b><br>\n",
        "Ex: Assume we have 10 columns[1 ,2 ,3 ,4 ,5 ,6 ,7 ,8 ,9 ,10] for the first sample we will select [3, 4, 5, 9, 1, 2] and for the second sample  [7, 9, 1, 4, 5, 6, 2] and so on...\n",
        "Make sure each sample will have atleast 3 feautres/columns/attributes"
      ]
    },
    {
      "cell_type": "code",
      "metadata": {
        "id": "pgCKS2tJHX0Z",
        "colab_type": "code",
        "colab": {}
      },
      "source": [
        "random.seed(19)\n",
        "sampled_points=random.sample(range(1,507),303)"
      ],
      "execution_count": 6,
      "outputs": []
    },
    {
      "cell_type": "code",
      "metadata": {
        "id": "DRvEAAvVa3M5",
        "colab_type": "code",
        "colab": {}
      },
      "source": [
        "def get_remaining_points(sampled_points):\n",
        "  return random.sample(sampled_points,203)"
      ],
      "execution_count": 7,
      "outputs": []
    },
    {
      "cell_type": "code",
      "metadata": {
        "id": "VsJcoXOrdwUt",
        "colab_type": "code",
        "colab": {
          "base_uri": "https://localhost:8080/",
          "height": 34
        },
        "outputId": "cefee0df-ff73-4321-fbbb-d5a33e43f392"
      },
      "source": [
        "int(len(x)*.6)"
      ],
      "execution_count": 8,
      "outputs": [
        {
          "output_type": "execute_result",
          "data": {
            "text/plain": [
              "303"
            ]
          },
          "metadata": {
            "tags": []
          },
          "execution_count": 8
        }
      ]
    },
    {
      "cell_type": "code",
      "metadata": {
        "id": "PRbZV4zsdwrR",
        "colab_type": "code",
        "colab": {}
      },
      "source": [
        ""
      ],
      "execution_count": 8,
      "outputs": []
    },
    {
      "cell_type": "markdown",
      "metadata": {
        "id": "zUqFEBSvNjCa",
        "colab_type": "text"
      },
      "source": [
        "<font color='red'><b>Step - 2 </b></font>"
      ]
    },
    {
      "cell_type": "markdown",
      "metadata": {
        "id": "uqi9AhCYNq3Z",
        "colab_type": "text"
      },
      "source": [
        "<font color='blue'><b>Building High Variance Models on each of the sample and finding train MSE value</b></font>"
      ]
    },
    {
      "cell_type": "markdown",
      "metadata": {
        "id": "-lLBnZHXOFln",
        "colab_type": "text"
      },
      "source": [
        "*  Build a regression trees on each of 30 samples.\n",
        "*  Computed the predicted values of each data point(506 data points) in your corpus.\n",
        "*  Predicted house price of $i^{th}$ data point $y^{i}_{pred} =  \\frac{1}{30}\\sum_{k=1}^{30}(\\text{predicted value of } x^{i} \\text{ with } k^{th} \\text{ model})$\n",
        "*  Now calculate the $MSE =  \\frac{1}{506}\\sum_{i=1}^{506}(y^{i} - y^{i}_{pred})^{2}$"
      ]
    },
    {
      "cell_type": "markdown",
      "metadata": {
        "id": "Kls23JLnSN23",
        "colab_type": "text"
      },
      "source": [
        "<font color='red'> <b>Step - 3 </b></font>"
      ]
    },
    {
      "cell_type": "markdown",
      "metadata": {
        "id": "rz2GchkGSWnh",
        "colab_type": "text"
      },
      "source": [
        "*  <font color='blue'><b>Calculating the OOB score </b></font>"
      ]
    },
    {
      "cell_type": "markdown",
      "metadata": {
        "id": "DGHkVV2kSibm",
        "colab_type": "text"
      },
      "source": [
        "*  Predicted house price of $i^{th}$ data point $y^{i}_{pred} =  \\frac{1}{k}\\sum_{\\text{k= model which was buit on samples not included } x^{i}}(\\text{predicted value of } x^{i} \\text{ with } k^{th} \\text{ model})$.\n",
        "*  Now calculate the $OOB Score =  \\frac{1}{506}\\sum_{i=1}^{506}(y^{i} - y^{i}_{pred})^{2}$."
      ]
    },
    {
      "cell_type": "markdown",
      "metadata": {
        "id": "RK860ocxTyoz",
        "colab_type": "text"
      },
      "source": [
        "# <font color='red'><b>Task 2</b></font>"
      ]
    },
    {
      "cell_type": "markdown",
      "metadata": {
        "id": "1dme-N6TUCrY",
        "colab_type": "text"
      },
      "source": [
        "*  <font color='blue'><b>Computing CI of OOB Score and Train MSE</b></font>\n",
        "  *   Repeat Task 1 for 35 times, and for each iteration store the Train MSE and OOB score </li>\n",
        "<li> After this we will have 35 Train MSE values and 35 OOB scores </li>\n",
        "<li> using these 35 values (assume like a sample) find the confidence intravels of MSE and OOB Score </li>\n",
        "<li> you need to report CI of MSE and CI of OOB Score </li>\n",
        "<li> Note: Refer the Central_Limit_theorem.ipynb to check how to find the confidence intravel</li>\n",
        "</ol>"
      ]
    },
    {
      "cell_type": "markdown",
      "metadata": {
        "id": "O6UcH1x9Uwrj",
        "colab_type": "text"
      },
      "source": [
        "# <font color='red'><b>Task 3</b></font>"
      ]
    },
    {
      "cell_type": "markdown",
      "metadata": {
        "id": "bOC_AgsLU7OH",
        "colab_type": "text"
      },
      "source": [
        "*  <font color='blue'><b>Given a single query point predict the price of house.</b></font>"
      ]
    },
    {
      "cell_type": "markdown",
      "metadata": {
        "id": "HYs5jSFdVILe",
        "colab_type": "text"
      },
      "source": [
        "Consider xq= [0.18,20.0,5.00,0.0,0.421,5.60,72.2,7.95,7.0,30.0,19.1,372.13,18.60] \n",
        "Predict the house price for this point as mentioned in the step 2 of Task 1."
      ]
    },
    {
      "cell_type": "markdown",
      "metadata": {
        "id": "_6gxZEsFWm-8",
        "colab_type": "text"
      },
      "source": [
        "<br><br><br>"
      ]
    },
    {
      "cell_type": "markdown",
      "metadata": {
        "id": "V2fHTdS_zpgG",
        "colab_type": "text"
      },
      "source": [
        "# <font color='blue'> <b>Task - 1</b></font>"
      ]
    },
    {
      "cell_type": "markdown",
      "metadata": {
        "id": "e0yGBuryOwHz",
        "colab_type": "text"
      },
      "source": [
        "<font color='blue'><b>Step - 1</b></font>"
      ]
    },
    {
      "cell_type": "markdown",
      "metadata": {
        "id": "lJXX8vf3z073",
        "colab_type": "text"
      },
      "source": [
        "*  <font color='blue'> <b>Creating samples</b></font>"
      ]
    },
    {
      "cell_type": "markdown",
      "metadata": {
        "id": "CSVaWG1F4uCZ",
        "colab_type": "text"
      },
      "source": [
        "<font color='Orange'><b>Algorithm</b></font>\n",
        "\n",
        "![alt text](https://i.imgur.com/BTVYXQ1.jpg/)"
      ]
    },
    {
      "cell_type": "markdown",
      "metadata": {
        "id": "f_oWoN97BhDY",
        "colab_type": "text"
      },
      "source": [
        "*  <font color='blue'><b> Write code for generating samples</b></font>"
      ]
    },
    {
      "cell_type": "code",
      "metadata": {
        "id": "Ph_6D2SDzz7F",
        "colab_type": "code",
        "colab": {}
      },
      "source": [
        "def generating_samples(input_data, target_data):\n",
        "  lnth = len(input_data)\n",
        "  selecting_rows = random.sample(range(0,lnth),int(lnth*.6))\n",
        "  replacing_rows = random.sample(selecting_rows,lnth-len(selecting_rows))\n",
        "  # print(replacing_rows,'\\n',len(replacing_rows))\n",
        "  col_length = len(input_data[0])\n",
        "  # print(col_length)\n",
        "  selecting_columns = sorted(random.sample(range(0,13),np.random.randint(3,12)))\n",
        "  #     print(\"selecting_rows-->\",selecting_rows)\n",
        "  #     print(\"selecting_columns-->\",selecting_columns)\n",
        "  sample_data = input_data[selecting_rows][:,selecting_columns]\n",
        "  target_of_sample_data = target_data[selecting_rows]\n",
        "  #     print(\"sample_data\")\n",
        "  #     print(sample_data)\n",
        "  replicated_sample_data = input_data[replacing_rows][:,selecting_columns]\n",
        "  #     print(\"replicated_sample_data\")\n",
        "  #     print(replicated_sample_data)\n",
        "  target_of_replicated_sample_data = target_data[replacing_rows]\n",
        "  final_sample_data = np.vstack((sample_data,replicated_sample_data))\n",
        "  final_target_data = np.vstack((target_of_sample_data.reshape(-1,1),target_of_replicated_sample_data.reshape(-1,1)))\n",
        "  return final_sample_data , final_target_data,selecting_rows,selecting_columns"
      ],
      "execution_count": 17,
      "outputs": []
    },
    {
      "cell_type": "markdown",
      "metadata": {
        "id": "MivEQFlm7iOg",
        "colab_type": "text"
      },
      "source": [
        "<font color='cyan'> <b> Grader function - 1 </b> </fongt>"
      ]
    },
    {
      "cell_type": "code",
      "metadata": {
        "id": "AVvuhNzm7uld",
        "colab_type": "code",
        "colab": {
          "base_uri": "https://localhost:8080/",
          "height": 34
        },
        "outputId": "2b8b854a-32e7-4615-d8eb-e6d50cb692d5"
      },
      "source": [
        "def grader_samples(a,b,c,d):\n",
        "    length = (len(a)==506  and len(b)==506)\n",
        "    sampled = (len(a)-len(set([str(i) for i in a]))==203)\n",
        "    rows_length = (len(c)==303)\n",
        "    column_length= (len(d)>=3)\n",
        "    assert(length and sampled and rows_length and column_length)\n",
        "    return True\n",
        "a,b,c,d = generating_samples(x, y)\n",
        "grader_samples(a,b,c,d)"
      ],
      "execution_count": 18,
      "outputs": [
        {
          "output_type": "execute_result",
          "data": {
            "text/plain": [
              "True"
            ]
          },
          "metadata": {
            "tags": []
          },
          "execution_count": 18
        }
      ]
    },
    {
      "cell_type": "markdown",
      "metadata": {
        "id": "b4LSsmn4Jn2_",
        "colab_type": "text"
      },
      "source": [
        "*  <font color='blue'> <b>Create 30 samples </b>"
      ]
    },
    {
      "cell_type": "markdown",
      "metadata": {
        "id": "3ec7MN6sL2BZ",
        "colab_type": "text"
      },
      "source": [
        "![alt text](https://i.imgur.com/p8eZaWL.jpg)"
      ]
    },
    {
      "cell_type": "code",
      "metadata": {
        "id": "XXlKWjCcBvTk",
        "colab_type": "code",
        "colab": {}
      },
      "source": [
        "# Use generating_samples function to create 30 samples \n",
        "# store these created samples in a list\n",
        "list_input_data =[]\n",
        "list_output_data =[]\n",
        "list_selected_row= []\n",
        "list_selected_columns=[]\n",
        "\n",
        "for i in range(0,30):\n",
        "  a,b,c,d = generating_samples(x,y)\n",
        "  list_input_data.append(a)\n",
        "  list_output_data.append(b)\n",
        "  list_selected_row.append(c)\n",
        "  list_selected_columns.append(d)"
      ],
      "execution_count": 19,
      "outputs": []
    },
    {
      "cell_type": "markdown",
      "metadata": {
        "id": "MXUz9VFiMQkh",
        "colab_type": "text"
      },
      "source": [
        "<font color='cyan'> <b>Grader function - 2 </b></font>"
      ]
    },
    {
      "cell_type": "code",
      "metadata": {
        "id": "hCvIq8NuMWOC",
        "colab_type": "code",
        "colab": {
          "base_uri": "https://localhost:8080/",
          "height": 34
        },
        "outputId": "ec52914b-aea9-4612-fe2a-5f083db6e992"
      },
      "source": [
        "def grader_30(a):\n",
        "    assert(len(a)==30 and len(a[0])==506)\n",
        "    return True\n",
        "grader_30(list_input_data)"
      ],
      "execution_count": 78,
      "outputs": [
        {
          "output_type": "execute_result",
          "data": {
            "text/plain": [
              "True"
            ]
          },
          "metadata": {
            "tags": []
          },
          "execution_count": 78
        }
      ]
    },
    {
      "cell_type": "markdown",
      "metadata": {
        "id": "7Pv-mkZkO6dh",
        "colab_type": "text"
      },
      "source": [
        "<br>"
      ]
    },
    {
      "cell_type": "markdown",
      "metadata": {
        "id": "whaHCPB0O8qF",
        "colab_type": "text"
      },
      "source": [
        "<font color='red'><b>Step - 2 </b></font>"
      ]
    },
    {
      "cell_type": "markdown",
      "metadata": {
        "id": "XBy4zXSWPtU8",
        "colab_type": "text"
      },
      "source": [
        "<font color='orange'><b>Flowchart for building tree</b></font>"
      ]
    },
    {
      "cell_type": "markdown",
      "metadata": {
        "id": "5xvH06HPQBdP",
        "colab_type": "text"
      },
      "source": [
        "![alt text](https://i.imgur.com/pcXfSmp.png)"
      ]
    },
    {
      "cell_type": "markdown",
      "metadata": {
        "id": "WRwPO_uHQjul",
        "colab_type": "text"
      },
      "source": [
        "*  <font color='blue'><b> Write code for building regression trees</b></font>"
      ]
    },
    {
      "cell_type": "code",
      "metadata": {
        "id": "YWQp6tRwMthq",
        "colab_type": "code",
        "colab": {}
      },
      "source": [
        "from sklearn.tree import DecisionTreeRegressor\n",
        "list_of_all_models=[]\n",
        "for i in range(1,31):\n",
        "  globals()['reg_tree_{}'.format(i)]=DecisionTreeRegressor(max_depth=None)\n",
        "  globals()['reg_tree_{}'.format(i)].fit(list_input_data[i-1],list_output_data[i-1])\n",
        "  list_of_all_models.append(globals()['reg_tree_{}'.format(i)])"
      ],
      "execution_count": 79,
      "outputs": []
    },
    {
      "cell_type": "markdown",
      "metadata": {
        "id": "21j8BKfAQ1U8",
        "colab_type": "text"
      },
      "source": [
        "<font color='orange'><b>Flowchart for calculating MSE </b></font>"
      ]
    },
    {
      "cell_type": "markdown",
      "metadata": {
        "id": "8Q0mTBD2RBx_",
        "colab_type": "text"
      },
      "source": [
        "![alt text](https://i.imgur.com/sPEE618.png)"
      ]
    },
    {
      "cell_type": "markdown",
      "metadata": {
        "id": "6e-UamlHRjPy",
        "colab_type": "text"
      },
      "source": [
        "After getting predicted_y for each data point, we can use sklearns mean_squared_error to calculate the MSE between predicted_y and actual_y."
      ]
    },
    {
      "cell_type": "markdown",
      "metadata": {
        "id": "TnIMT7_oR312",
        "colab_type": "text"
      },
      "source": [
        "*  <font color='blue'><b> Write code for calculating MSE</b></font>"
      ]
    },
    {
      "cell_type": "code",
      "metadata": {
        "id": "qWhcvMRWRA9b",
        "colab_type": "code",
        "colab": {}
      },
      "source": [
        "array_of_Y=[]\n",
        "for i in range(1,31):\n",
        "  globals()['Y_{}'.format(i)]=globals()['reg_tree_{}'.format(i)].predict(list_input_data[i-1])\n",
        "  array_of_Y.append(globals()['Y_{}'.format(i)])"
      ],
      "execution_count": 80,
      "outputs": []
    },
    {
      "cell_type": "code",
      "metadata": {
        "id": "2VAxpNXEKS8H",
        "colab_type": "code",
        "colab": {}
      },
      "source": [
        "y_pred=np.median(array_of_Y,axis=0)"
      ],
      "execution_count": 81,
      "outputs": []
    },
    {
      "cell_type": "code",
      "metadata": {
        "id": "RmHUarIBQHZT",
        "colab_type": "code",
        "colab": {
          "base_uri": "https://localhost:8080/",
          "height": 34
        },
        "outputId": "6212db77-cb0f-4b1c-a547-673c1710aaac"
      },
      "source": [
        "from sklearn.metrics import mean_squared_error\n",
        "mean_squared_error(y,y_pred)"
      ],
      "execution_count": 82,
      "outputs": [
        {
          "output_type": "execute_result",
          "data": {
            "text/plain": [
              "89.12460824054796"
            ]
          },
          "metadata": {
            "tags": []
          },
          "execution_count": 82
        }
      ]
    },
    {
      "cell_type": "markdown",
      "metadata": {
        "id": "RuclPDMnSz8F",
        "colab_type": "text"
      },
      "source": [
        "<font color='blue'><b>Step - 3 </b></font>"
      ]
    },
    {
      "cell_type": "markdown",
      "metadata": {
        "id": "ESb9FSIDTM5V",
        "colab_type": "text"
      },
      "source": [
        "<font color='orange'><b>Flowchart for calculating OOB score</b></font>"
      ]
    },
    {
      "cell_type": "markdown",
      "metadata": {
        "id": "HB-d6NMETbd9",
        "colab_type": "text"
      },
      "source": [
        "![alt text](https://i.imgur.com/95S5Mtm.png)"
      ]
    },
    {
      "cell_type": "markdown",
      "metadata": {
        "id": "WW3GOcFzTqbt",
        "colab_type": "text"
      },
      "source": [
        "Now calculate the $OOB Score =  \\frac{1}{506}\\sum_{i=1}^{506}(y^{i} - y^{i}_{pred})^{2}$."
      ]
    },
    {
      "cell_type": "markdown",
      "metadata": {
        "id": "zBqcS03pUYSZ",
        "colab_type": "text"
      },
      "source": [
        "*  <font color='blue'><b> Write code for calculating OOB score </b></font>"
      ]
    },
    {
      "cell_type": "code",
      "metadata": {
        "id": "183zF6j0gLoH",
        "colab_type": "code",
        "colab": {
          "base_uri": "https://localhost:8080/",
          "height": 541
        },
        "outputId": "8db87aa3-1ca7-42c3-b737-337d63582b9e"
      },
      "source": [
        "for indx,i in enumerate(list_selected_row):\n",
        "  print(indx,sorted(i))"
      ],
      "execution_count": 100,
      "outputs": [
        {
          "output_type": "stream",
          "text": [
            "0 [0, 3, 4, 6, 7, 8, 11, 12, 13, 15, 16, 17, 21, 23, 25, 26, 28, 29, 30, 33, 34, 35, 36, 39, 41, 42, 50, 51, 52, 53, 54, 55, 56, 57, 61, 62, 63, 66, 67, 68, 69, 71, 74, 75, 77, 79, 80, 82, 83, 84, 85, 86, 87, 89, 90, 93, 101, 102, 103, 104, 105, 107, 110, 111, 112, 113, 116, 118, 119, 120, 122, 123, 124, 125, 126, 127, 129, 130, 131, 135, 137, 138, 139, 140, 144, 149, 150, 152, 154, 155, 156, 161, 162, 163, 169, 170, 171, 173, 175, 177, 178, 179, 180, 181, 182, 183, 184, 185, 187, 189, 190, 191, 192, 193, 194, 195, 197, 198, 199, 200, 202, 203, 204, 205, 207, 209, 210, 211, 212, 216, 217, 218, 220, 221, 225, 226, 228, 231, 233, 234, 235, 236, 237, 239, 240, 241, 243, 246, 247, 248, 249, 251, 253, 254, 255, 256, 257, 258, 260, 261, 264, 266, 267, 268, 270, 275, 276, 282, 283, 286, 291, 292, 293, 295, 299, 300, 301, 302, 303, 304, 307, 309, 311, 312, 314, 317, 318, 319, 320, 322, 323, 324, 325, 326, 327, 330, 331, 335, 336, 337, 338, 339, 340, 342, 343, 344, 345, 347, 348, 350, 351, 357, 359, 362, 363, 365, 366, 367, 368, 372, 373, 374, 375, 377, 378, 379, 380, 381, 382, 383, 385, 386, 388, 389, 393, 395, 396, 399, 400, 402, 403, 404, 405, 406, 407, 412, 413, 414, 415, 416, 417, 418, 423, 424, 425, 426, 430, 432, 433, 438, 439, 441, 442, 443, 444, 449, 450, 451, 452, 454, 458, 459, 460, 462, 463, 464, 465, 466, 467, 468, 470, 472, 474, 476, 477, 478, 479, 481, 482, 484, 485, 486, 488, 492, 495, 497, 498, 500, 501, 502, 503, 504, 505]\n",
            "1 [0, 5, 8, 11, 13, 15, 18, 19, 20, 22, 23, 24, 25, 26, 29, 30, 31, 32, 33, 34, 35, 37, 38, 40, 41, 43, 44, 46, 48, 49, 50, 52, 53, 54, 56, 57, 59, 60, 63, 64, 65, 66, 67, 68, 69, 70, 71, 72, 73, 74, 76, 77, 79, 80, 81, 83, 84, 85, 86, 91, 92, 96, 97, 98, 99, 100, 101, 103, 104, 105, 106, 107, 110, 112, 113, 118, 120, 121, 122, 127, 128, 129, 133, 135, 137, 139, 140, 146, 149, 150, 151, 152, 155, 156, 158, 159, 162, 163, 164, 165, 166, 168, 169, 170, 171, 172, 173, 174, 176, 178, 180, 181, 182, 185, 186, 188, 189, 190, 191, 194, 195, 196, 197, 201, 204, 205, 206, 207, 208, 209, 214, 216, 218, 219, 220, 221, 223, 224, 227, 228, 229, 231, 234, 236, 237, 240, 242, 243, 244, 246, 256, 257, 258, 259, 260, 261, 262, 263, 266, 267, 268, 270, 271, 272, 273, 274, 275, 276, 277, 278, 279, 282, 284, 285, 286, 289, 290, 291, 292, 293, 294, 295, 297, 298, 300, 301, 303, 305, 306, 307, 310, 311, 312, 313, 317, 318, 320, 322, 326, 329, 331, 332, 334, 335, 336, 338, 339, 340, 342, 343, 344, 347, 350, 351, 352, 353, 356, 357, 358, 361, 363, 366, 367, 368, 371, 372, 373, 375, 377, 380, 381, 383, 387, 389, 390, 391, 394, 395, 397, 398, 399, 401, 402, 406, 408, 409, 412, 413, 414, 415, 416, 419, 421, 422, 423, 427, 429, 430, 432, 438, 439, 441, 445, 447, 448, 450, 452, 453, 455, 456, 457, 459, 461, 462, 463, 464, 466, 467, 469, 470, 471, 472, 474, 475, 480, 482, 483, 485, 486, 487, 489, 490, 491, 493, 494, 495, 496, 497, 498, 499, 501, 503, 504]\n",
            "2 [0, 2, 3, 5, 12, 13, 15, 16, 20, 21, 22, 24, 25, 28, 31, 32, 33, 36, 37, 39, 42, 43, 44, 47, 48, 50, 51, 52, 54, 56, 58, 59, 61, 66, 67, 68, 69, 70, 71, 72, 76, 77, 78, 79, 81, 82, 83, 84, 85, 86, 88, 90, 91, 93, 95, 98, 99, 100, 101, 103, 104, 105, 108, 109, 110, 111, 112, 114, 116, 117, 118, 119, 120, 121, 122, 123, 124, 125, 126, 127, 128, 130, 133, 136, 137, 141, 144, 145, 146, 148, 149, 151, 152, 154, 156, 157, 158, 160, 161, 163, 164, 165, 168, 169, 170, 171, 172, 176, 177, 178, 179, 181, 183, 184, 187, 190, 193, 194, 195, 196, 197, 198, 201, 203, 205, 206, 207, 209, 211, 212, 214, 215, 217, 218, 219, 220, 221, 222, 224, 225, 226, 227, 228, 229, 230, 231, 232, 233, 235, 238, 239, 240, 241, 242, 244, 246, 248, 249, 250, 252, 253, 255, 256, 257, 258, 260, 263, 264, 267, 268, 269, 270, 271, 275, 276, 278, 279, 280, 281, 283, 285, 286, 287, 289, 292, 295, 296, 298, 299, 300, 301, 303, 305, 307, 308, 309, 310, 311, 313, 316, 319, 320, 321, 322, 323, 325, 326, 329, 330, 333, 334, 336, 337, 338, 339, 340, 341, 345, 346, 347, 348, 352, 353, 355, 358, 359, 360, 361, 362, 364, 365, 367, 368, 370, 371, 372, 374, 375, 376, 379, 380, 381, 383, 384, 385, 390, 394, 396, 398, 403, 404, 405, 407, 408, 409, 413, 417, 418, 419, 420, 422, 424, 427, 428, 429, 433, 435, 436, 437, 439, 441, 442, 443, 445, 447, 449, 451, 457, 458, 459, 461, 466, 467, 468, 470, 471, 472, 473, 474, 475, 476, 478, 480, 481, 486, 489, 491, 492, 497, 499, 500, 501, 505]\n",
            "3 [1, 2, 3, 4, 5, 6, 7, 8, 9, 10, 11, 12, 16, 19, 20, 21, 23, 24, 25, 29, 30, 31, 32, 33, 34, 35, 36, 38, 40, 41, 45, 47, 50, 51, 54, 55, 56, 57, 59, 62, 63, 64, 67, 69, 70, 71, 72, 74, 75, 81, 84, 85, 88, 89, 90, 91, 92, 93, 94, 96, 99, 100, 101, 102, 103, 104, 105, 107, 108, 109, 112, 113, 114, 115, 121, 122, 123, 124, 127, 128, 129, 131, 132, 133, 136, 137, 140, 142, 144, 145, 147, 151, 153, 154, 155, 156, 157, 163, 167, 168, 170, 171, 172, 174, 175, 176, 178, 179, 180, 184, 185, 187, 188, 189, 190, 191, 192, 193, 194, 196, 200, 202, 204, 205, 207, 208, 209, 212, 213, 216, 217, 219, 220, 221, 226, 227, 229, 230, 231, 232, 233, 235, 237, 239, 240, 242, 246, 247, 251, 252, 253, 255, 256, 257, 260, 261, 262, 263, 264, 268, 272, 273, 275, 276, 277, 278, 279, 280, 281, 283, 284, 287, 288, 289, 290, 292, 294, 295, 297, 299, 301, 302, 305, 306, 307, 308, 309, 310, 312, 313, 315, 316, 317, 318, 319, 320, 321, 322, 324, 328, 329, 330, 331, 332, 335, 339, 340, 342, 343, 346, 347, 348, 349, 351, 353, 355, 357, 360, 361, 362, 363, 364, 365, 367, 368, 371, 372, 374, 379, 380, 381, 384, 385, 387, 388, 389, 390, 391, 392, 395, 397, 398, 399, 400, 401, 403, 404, 408, 410, 413, 415, 416, 417, 421, 422, 423, 425, 429, 431, 433, 434, 435, 437, 439, 441, 442, 443, 447, 449, 450, 451, 452, 454, 456, 457, 460, 461, 464, 465, 466, 469, 470, 471, 472, 474, 475, 476, 478, 480, 484, 486, 487, 488, 491, 493, 494, 496, 497, 498, 500, 501, 503, 505]\n",
            "4 [2, 3, 4, 6, 7, 8, 9, 10, 14, 16, 20, 21, 22, 23, 26, 27, 32, 33, 34, 35, 36, 38, 39, 40, 42, 45, 49, 50, 53, 54, 55, 57, 61, 62, 63, 64, 65, 66, 68, 69, 70, 71, 74, 75, 77, 79, 80, 81, 84, 86, 89, 91, 93, 94, 102, 104, 105, 106, 108, 109, 112, 113, 116, 117, 119, 121, 125, 126, 127, 129, 131, 133, 134, 135, 136, 137, 139, 140, 141, 142, 143, 145, 146, 148, 149, 150, 151, 152, 153, 155, 156, 157, 159, 160, 161, 164, 166, 167, 168, 170, 172, 173, 174, 175, 177, 178, 180, 181, 182, 183, 184, 185, 187, 188, 189, 190, 191, 192, 193, 194, 195, 196, 199, 200, 201, 203, 204, 205, 206, 208, 209, 211, 212, 213, 215, 217, 218, 219, 220, 221, 223, 225, 226, 227, 229, 230, 232, 234, 235, 236, 238, 239, 240, 241, 242, 250, 251, 252, 253, 257, 258, 263, 264, 266, 267, 268, 269, 272, 274, 275, 276, 277, 279, 280, 282, 283, 287, 288, 289, 290, 291, 292, 296, 297, 298, 299, 301, 302, 304, 305, 307, 308, 309, 310, 312, 315, 319, 321, 322, 323, 324, 326, 329, 330, 333, 334, 336, 337, 342, 343, 344, 345, 347, 348, 349, 351, 355, 356, 357, 358, 361, 364, 365, 367, 369, 371, 372, 373, 375, 376, 379, 381, 382, 383, 384, 385, 389, 390, 392, 395, 396, 397, 399, 404, 405, 407, 409, 410, 412, 413, 415, 416, 418, 420, 423, 424, 429, 430, 432, 435, 436, 440, 442, 443, 444, 445, 446, 449, 450, 451, 454, 456, 457, 459, 460, 461, 463, 464, 465, 467, 468, 469, 471, 472, 473, 474, 475, 477, 479, 480, 481, 486, 487, 490, 493, 494, 496, 498, 500, 501, 502, 504, 505]\n",
            "5 [0, 1, 2, 3, 5, 7, 8, 9, 10, 12, 13, 14, 16, 17, 18, 19, 20, 21, 22, 24, 27, 29, 30, 31, 32, 34, 35, 39, 42, 43, 44, 45, 49, 50, 52, 53, 56, 57, 58, 62, 66, 67, 68, 69, 70, 71, 72, 73, 75, 79, 80, 81, 84, 86, 87, 89, 90, 91, 92, 93, 94, 95, 96, 97, 100, 102, 105, 106, 107, 111, 112, 113, 116, 117, 119, 120, 122, 123, 125, 129, 130, 131, 132, 133, 134, 135, 136, 138, 139, 141, 144, 145, 146, 148, 149, 150, 151, 152, 153, 155, 156, 159, 160, 161, 162, 164, 165, 170, 171, 173, 176, 178, 179, 180, 183, 184, 185, 188, 190, 192, 193, 194, 195, 198, 199, 200, 201, 202, 204, 205, 206, 209, 211, 215, 217, 218, 220, 221, 222, 223, 225, 227, 230, 236, 237, 238, 239, 240, 241, 242, 243, 244, 245, 247, 248, 249, 250, 252, 254, 255, 256, 259, 260, 266, 271, 272, 273, 274, 275, 277, 278, 279, 281, 284, 285, 286, 287, 289, 290, 291, 293, 294, 296, 298, 300, 301, 304, 306, 307, 308, 309, 311, 312, 313, 314, 316, 318, 323, 324, 326, 328, 329, 332, 333, 334, 335, 337, 338, 339, 340, 343, 345, 346, 347, 350, 354, 355, 356, 358, 359, 361, 365, 366, 368, 369, 370, 371, 374, 377, 382, 385, 386, 389, 392, 393, 395, 396, 399, 400, 401, 402, 405, 407, 409, 410, 411, 412, 413, 414, 416, 417, 418, 420, 422, 423, 425, 429, 430, 432, 433, 434, 436, 438, 439, 440, 441, 442, 443, 444, 445, 450, 451, 454, 455, 458, 459, 461, 462, 463, 467, 470, 471, 474, 475, 476, 478, 480, 481, 482, 483, 484, 485, 487, 489, 490, 491, 493, 497, 499, 500, 501, 504, 505]\n",
            "6 [0, 3, 4, 5, 7, 10, 12, 13, 14, 16, 17, 20, 22, 23, 24, 25, 26, 28, 31, 32, 33, 34, 36, 37, 38, 39, 41, 43, 44, 45, 46, 47, 49, 50, 51, 52, 53, 57, 58, 61, 63, 64, 66, 67, 69, 72, 74, 75, 77, 79, 81, 82, 83, 84, 86, 87, 88, 89, 91, 94, 98, 99, 100, 101, 102, 104, 105, 107, 109, 111, 113, 115, 116, 119, 120, 121, 122, 124, 129, 130, 133, 136, 138, 139, 140, 145, 147, 151, 156, 157, 158, 159, 160, 161, 162, 163, 164, 166, 167, 168, 169, 170, 171, 172, 175, 176, 179, 181, 183, 185, 186, 188, 189, 191, 192, 193, 196, 197, 199, 201, 202, 203, 204, 206, 210, 212, 213, 214, 217, 218, 219, 223, 224, 225, 226, 227, 228, 229, 232, 233, 235, 239, 244, 245, 246, 248, 250, 251, 252, 253, 256, 258, 259, 260, 261, 262, 263, 265, 266, 267, 268, 269, 270, 271, 273, 274, 275, 276, 278, 280, 284, 286, 287, 288, 289, 291, 292, 293, 300, 302, 303, 304, 305, 306, 307, 309, 310, 311, 315, 318, 320, 321, 324, 327, 328, 336, 337, 340, 342, 343, 346, 347, 351, 352, 354, 355, 356, 357, 358, 359, 361, 363, 364, 366, 369, 372, 374, 376, 377, 378, 379, 380, 383, 384, 387, 388, 389, 390, 392, 393, 394, 397, 398, 399, 400, 401, 402, 404, 405, 407, 408, 411, 412, 413, 414, 416, 417, 418, 420, 421, 422, 424, 427, 428, 429, 430, 434, 436, 437, 438, 440, 441, 442, 444, 445, 447, 448, 449, 452, 453, 454, 455, 458, 459, 460, 461, 463, 465, 466, 467, 469, 471, 472, 475, 478, 479, 481, 482, 484, 485, 486, 488, 489, 490, 491, 493, 494, 498, 499, 500, 501, 503, 504]\n",
            "7 [0, 3, 4, 5, 6, 7, 8, 11, 12, 14, 15, 16, 19, 20, 21, 24, 25, 26, 28, 30, 31, 32, 33, 36, 37, 38, 39, 40, 41, 43, 46, 47, 52, 53, 55, 56, 58, 59, 60, 63, 64, 65, 67, 69, 71, 73, 76, 79, 80, 81, 82, 83, 84, 87, 90, 91, 92, 93, 95, 97, 98, 99, 100, 102, 104, 105, 106, 109, 113, 114, 115, 116, 119, 121, 122, 125, 128, 129, 133, 134, 135, 136, 137, 138, 139, 143, 144, 148, 150, 151, 153, 154, 155, 157, 159, 161, 162, 164, 166, 167, 168, 169, 173, 175, 177, 178, 180, 181, 182, 183, 184, 189, 190, 192, 194, 195, 196, 197, 198, 199, 200, 201, 202, 203, 205, 206, 208, 209, 211, 214, 218, 219, 220, 221, 225, 226, 227, 229, 234, 235, 236, 237, 239, 243, 244, 247, 248, 249, 251, 252, 253, 255, 258, 259, 260, 261, 262, 263, 265, 266, 267, 268, 269, 270, 271, 276, 277, 279, 280, 281, 283, 284, 288, 289, 290, 291, 292, 293, 294, 295, 296, 299, 306, 308, 309, 310, 312, 313, 316, 319, 322, 324, 325, 326, 328, 329, 332, 335, 340, 344, 345, 346, 350, 352, 353, 354, 356, 359, 360, 361, 364, 366, 367, 368, 369, 370, 371, 373, 374, 377, 378, 382, 383, 384, 385, 386, 388, 390, 391, 392, 394, 396, 397, 398, 400, 403, 404, 405, 406, 407, 410, 412, 413, 414, 415, 420, 423, 425, 426, 427, 428, 429, 431, 433, 434, 435, 437, 440, 441, 444, 447, 448, 449, 450, 453, 457, 458, 459, 460, 461, 462, 463, 465, 466, 467, 468, 470, 471, 472, 473, 474, 475, 476, 480, 481, 482, 483, 484, 485, 488, 489, 490, 492, 494, 495, 496, 497, 498, 499, 501, 502, 503, 505]\n",
            "8 [0, 3, 4, 7, 8, 9, 10, 11, 12, 14, 17, 18, 20, 22, 24, 25, 26, 27, 28, 31, 32, 33, 34, 36, 38, 39, 40, 41, 42, 43, 44, 45, 47, 50, 51, 52, 53, 54, 57, 58, 61, 62, 66, 67, 71, 73, 74, 75, 77, 78, 81, 83, 87, 89, 90, 91, 92, 94, 97, 98, 99, 101, 102, 104, 105, 106, 107, 108, 110, 112, 114, 115, 116, 118, 119, 120, 121, 122, 123, 125, 126, 127, 128, 130, 132, 133, 134, 135, 136, 138, 139, 140, 144, 145, 146, 147, 149, 150, 153, 155, 156, 159, 160, 162, 165, 166, 168, 170, 171, 173, 175, 177, 179, 182, 183, 184, 185, 188, 189, 190, 191, 193, 194, 195, 196, 197, 204, 205, 207, 208, 210, 213, 214, 219, 222, 224, 225, 226, 227, 228, 232, 233, 234, 235, 237, 241, 243, 245, 246, 247, 248, 250, 251, 254, 262, 263, 265, 266, 269, 270, 272, 275, 278, 280, 281, 282, 283, 290, 291, 292, 293, 295, 296, 297, 299, 301, 307, 308, 309, 310, 311, 313, 316, 317, 318, 319, 321, 322, 327, 328, 329, 330, 332, 333, 334, 336, 337, 338, 341, 342, 343, 345, 347, 350, 351, 352, 353, 354, 358, 361, 363, 364, 366, 367, 368, 369, 373, 375, 377, 379, 380, 381, 383, 384, 385, 386, 387, 391, 392, 393, 394, 395, 396, 397, 398, 399, 400, 401, 403, 404, 406, 408, 410, 412, 413, 414, 415, 417, 422, 424, 427, 428, 429, 430, 431, 432, 433, 434, 435, 437, 438, 439, 440, 441, 443, 444, 445, 447, 448, 449, 450, 452, 453, 454, 455, 456, 460, 461, 462, 463, 466, 467, 468, 470, 471, 474, 476, 478, 479, 481, 483, 484, 485, 488, 489, 490, 492, 494, 497, 499, 500, 501, 502]\n",
            "9 [0, 1, 3, 6, 7, 8, 9, 13, 15, 16, 18, 21, 22, 23, 24, 26, 27, 28, 29, 30, 31, 33, 34, 35, 40, 41, 42, 44, 47, 48, 54, 55, 56, 58, 59, 61, 62, 63, 65, 66, 67, 68, 69, 70, 73, 74, 78, 79, 80, 81, 83, 85, 87, 89, 90, 91, 92, 94, 95, 99, 102, 103, 105, 106, 112, 114, 115, 117, 119, 120, 124, 125, 127, 128, 131, 133, 136, 137, 138, 142, 144, 145, 146, 147, 148, 149, 150, 151, 153, 155, 156, 157, 159, 161, 162, 165, 166, 167, 168, 172, 173, 174, 177, 178, 179, 181, 182, 183, 184, 185, 186, 187, 189, 192, 193, 196, 199, 200, 203, 205, 206, 207, 208, 210, 214, 216, 217, 218, 219, 220, 221, 222, 225, 226, 228, 229, 231, 232, 233, 235, 238, 239, 242, 243, 244, 245, 246, 248, 249, 254, 258, 259, 260, 261, 262, 266, 267, 268, 269, 270, 272, 273, 274, 275, 276, 277, 278, 281, 283, 284, 285, 287, 289, 292, 294, 296, 298, 299, 301, 305, 306, 308, 309, 311, 314, 315, 316, 318, 320, 321, 323, 324, 329, 331, 332, 334, 336, 337, 338, 339, 340, 343, 345, 346, 347, 348, 350, 351, 353, 354, 355, 356, 357, 359, 360, 361, 362, 363, 364, 365, 366, 367, 369, 371, 373, 374, 375, 376, 379, 382, 383, 384, 385, 387, 388, 390, 391, 393, 398, 400, 402, 403, 404, 405, 408, 409, 410, 411, 412, 413, 415, 418, 421, 422, 425, 427, 429, 430, 431, 432, 435, 436, 438, 439, 440, 441, 443, 444, 446, 448, 451, 452, 453, 454, 455, 457, 458, 459, 461, 464, 465, 466, 467, 470, 471, 473, 474, 475, 476, 479, 481, 482, 483, 484, 485, 492, 495, 497, 498, 499, 500, 502, 505]\n",
            "10 [1, 3, 4, 5, 7, 9, 10, 11, 12, 14, 15, 17, 19, 20, 21, 23, 24, 27, 28, 29, 30, 31, 32, 33, 34, 36, 38, 39, 41, 43, 44, 45, 47, 50, 52, 54, 55, 57, 58, 60, 62, 63, 69, 71, 72, 74, 75, 76, 78, 79, 83, 84, 85, 86, 88, 89, 90, 92, 94, 96, 98, 99, 102, 105, 107, 108, 110, 114, 115, 116, 121, 123, 124, 128, 132, 133, 134, 135, 136, 139, 140, 141, 143, 144, 145, 146, 147, 149, 150, 151, 152, 154, 155, 156, 157, 158, 159, 160, 161, 163, 167, 169, 170, 172, 173, 174, 175, 177, 178, 179, 180, 181, 182, 185, 186, 188, 190, 191, 192, 193, 195, 196, 197, 198, 199, 202, 203, 204, 205, 207, 209, 210, 211, 213, 214, 217, 218, 219, 220, 221, 228, 229, 230, 231, 236, 239, 240, 241, 246, 248, 250, 251, 252, 253, 254, 255, 256, 257, 258, 261, 262, 263, 265, 266, 267, 268, 269, 272, 274, 276, 277, 278, 279, 281, 282, 283, 287, 289, 291, 292, 293, 294, 296, 299, 300, 301, 302, 303, 304, 306, 310, 311, 314, 315, 316, 317, 318, 319, 320, 321, 323, 325, 326, 327, 328, 329, 331, 332, 335, 337, 340, 341, 342, 346, 347, 348, 350, 351, 352, 353, 354, 356, 357, 358, 360, 362, 363, 364, 365, 366, 367, 369, 372, 374, 375, 377, 382, 383, 384, 386, 392, 394, 397, 398, 399, 400, 402, 403, 405, 406, 407, 409, 410, 411, 413, 417, 419, 422, 423, 428, 429, 430, 431, 432, 433, 435, 437, 438, 439, 442, 443, 445, 447, 450, 451, 452, 453, 454, 455, 458, 459, 460, 466, 468, 471, 472, 473, 476, 477, 478, 479, 480, 481, 486, 491, 492, 493, 496, 498, 499, 502, 503, 504]\n",
            "11 [1, 2, 3, 4, 5, 6, 8, 11, 13, 14, 15, 19, 21, 22, 23, 24, 26, 27, 30, 34, 36, 37, 39, 40, 41, 42, 43, 44, 45, 46, 48, 53, 55, 57, 58, 60, 63, 64, 65, 68, 70, 73, 76, 77, 78, 81, 83, 84, 88, 89, 90, 94, 95, 97, 99, 100, 101, 102, 103, 105, 108, 110, 113, 115, 116, 118, 120, 126, 127, 128, 129, 130, 131, 133, 134, 135, 136, 138, 142, 143, 145, 146, 147, 148, 151, 152, 153, 155, 156, 157, 158, 160, 162, 163, 164, 167, 168, 170, 173, 174, 177, 178, 180, 185, 186, 190, 192, 193, 194, 195, 199, 200, 202, 203, 206, 207, 211, 212, 213, 214, 215, 219, 220, 221, 222, 223, 225, 226, 227, 228, 229, 230, 231, 232, 233, 234, 235, 238, 239, 241, 242, 243, 244, 247, 249, 251, 253, 254, 255, 257, 261, 262, 263, 264, 265, 268, 271, 272, 273, 274, 276, 277, 281, 282, 283, 284, 285, 286, 288, 289, 291, 292, 293, 295, 296, 297, 299, 300, 301, 302, 307, 308, 309, 310, 312, 313, 316, 317, 318, 319, 320, 322, 324, 325, 330, 332, 333, 334, 335, 336, 337, 340, 341, 342, 344, 348, 349, 353, 356, 357, 359, 360, 362, 365, 369, 370, 371, 372, 373, 375, 377, 379, 380, 381, 382, 384, 386, 388, 389, 390, 391, 392, 394, 395, 397, 399, 400, 401, 402, 404, 405, 407, 408, 409, 410, 411, 413, 414, 415, 416, 421, 422, 423, 427, 428, 430, 433, 435, 436, 441, 442, 443, 444, 447, 449, 452, 454, 455, 459, 460, 461, 462, 463, 464, 465, 466, 467, 470, 472, 473, 474, 475, 476, 477, 478, 479, 480, 481, 483, 484, 485, 486, 487, 488, 489, 490, 492, 493, 494, 500, 502, 503, 504]\n",
            "12 [0, 2, 3, 5, 7, 10, 11, 12, 14, 17, 19, 20, 22, 23, 25, 26, 27, 28, 29, 33, 36, 37, 38, 39, 40, 42, 43, 44, 46, 47, 49, 50, 51, 53, 54, 55, 58, 59, 60, 62, 66, 68, 69, 70, 71, 73, 74, 75, 76, 77, 78, 80, 82, 84, 85, 87, 91, 92, 94, 98, 99, 101, 102, 103, 104, 107, 108, 109, 110, 113, 114, 117, 119, 121, 122, 124, 125, 126, 127, 130, 132, 133, 137, 138, 141, 143, 145, 146, 149, 153, 154, 155, 156, 159, 160, 161, 162, 164, 165, 167, 168, 169, 170, 174, 175, 176, 178, 180, 182, 183, 186, 192, 193, 194, 195, 199, 200, 201, 203, 206, 207, 209, 210, 215, 216, 217, 218, 219, 220, 221, 222, 224, 225, 227, 228, 229, 231, 232, 233, 234, 236, 237, 240, 241, 243, 244, 245, 247, 249, 250, 251, 253, 254, 256, 258, 260, 263, 265, 266, 268, 269, 272, 273, 274, 275, 277, 278, 279, 282, 283, 285, 288, 289, 291, 293, 294, 297, 298, 299, 302, 304, 305, 306, 307, 308, 309, 311, 312, 313, 315, 316, 320, 321, 322, 328, 329, 332, 333, 334, 337, 339, 342, 343, 346, 347, 348, 349, 350, 351, 352, 353, 354, 355, 358, 360, 361, 362, 364, 365, 369, 370, 373, 374, 376, 377, 379, 382, 384, 385, 387, 389, 390, 391, 394, 395, 396, 397, 400, 401, 403, 404, 406, 407, 408, 409, 410, 411, 412, 413, 414, 415, 416, 417, 419, 421, 424, 425, 426, 429, 430, 432, 433, 435, 436, 437, 439, 440, 441, 442, 444, 445, 450, 451, 452, 454, 458, 459, 460, 463, 465, 466, 467, 470, 473, 474, 479, 480, 482, 483, 484, 487, 488, 491, 492, 493, 494, 495, 498, 499, 500, 501, 502, 504]\n",
            "13 [0, 3, 5, 7, 9, 11, 17, 18, 20, 22, 24, 25, 26, 28, 29, 30, 32, 36, 39, 40, 41, 43, 45, 46, 48, 49, 50, 51, 52, 55, 56, 57, 59, 60, 61, 63, 65, 66, 67, 68, 69, 71, 72, 75, 76, 77, 78, 79, 81, 82, 83, 84, 86, 87, 89, 94, 95, 96, 97, 98, 100, 104, 105, 106, 108, 109, 110, 114, 118, 120, 123, 126, 127, 130, 132, 133, 135, 137, 139, 140, 143, 145, 146, 147, 149, 150, 154, 155, 156, 157, 158, 159, 160, 161, 163, 164, 165, 166, 168, 173, 174, 176, 177, 178, 179, 182, 184, 185, 187, 188, 195, 197, 198, 199, 200, 201, 203, 204, 206, 207, 210, 211, 215, 216, 217, 218, 222, 223, 225, 227, 229, 231, 232, 236, 238, 240, 241, 242, 243, 244, 246, 248, 249, 250, 253, 254, 256, 257, 258, 260, 261, 264, 265, 266, 267, 268, 269, 270, 272, 273, 274, 279, 280, 283, 284, 285, 287, 288, 290, 291, 294, 299, 300, 301, 302, 306, 308, 310, 312, 313, 316, 317, 318, 322, 323, 325, 326, 329, 330, 331, 332, 333, 335, 336, 338, 342, 343, 345, 347, 348, 349, 350, 351, 352, 357, 358, 360, 362, 363, 365, 367, 370, 371, 372, 373, 374, 376, 378, 380, 381, 382, 384, 386, 387, 389, 390, 391, 393, 395, 398, 399, 401, 402, 406, 407, 409, 410, 412, 413, 416, 420, 421, 422, 423, 424, 425, 427, 428, 430, 431, 432, 433, 434, 435, 436, 437, 438, 440, 441, 443, 445, 446, 447, 448, 449, 450, 451, 454, 455, 458, 459, 460, 461, 462, 465, 467, 468, 472, 473, 474, 475, 477, 478, 479, 480, 481, 482, 486, 488, 489, 490, 492, 493, 494, 495, 496, 498, 499, 500, 501, 503, 504, 505]\n",
            "14 [0, 3, 5, 7, 11, 12, 15, 17, 19, 20, 22, 23, 24, 25, 26, 27, 30, 31, 33, 34, 37, 40, 42, 44, 45, 49, 51, 52, 53, 54, 56, 58, 60, 61, 63, 64, 66, 67, 69, 77, 78, 82, 83, 87, 88, 90, 91, 92, 93, 95, 96, 97, 99, 102, 103, 104, 106, 107, 108, 112, 113, 114, 116, 117, 119, 120, 123, 125, 128, 130, 132, 134, 135, 137, 138, 140, 143, 144, 145, 148, 150, 151, 152, 153, 154, 155, 156, 159, 160, 161, 162, 163, 164, 165, 166, 167, 171, 172, 173, 174, 175, 177, 178, 179, 181, 185, 186, 187, 196, 197, 198, 199, 200, 202, 203, 205, 209, 210, 212, 215, 217, 219, 220, 221, 224, 225, 226, 227, 228, 229, 230, 232, 233, 234, 235, 236, 237, 238, 239, 241, 242, 243, 244, 245, 246, 247, 249, 250, 252, 254, 255, 256, 258, 259, 260, 262, 263, 264, 266, 268, 269, 270, 272, 276, 277, 278, 280, 281, 282, 284, 285, 286, 287, 288, 292, 294, 295, 296, 299, 300, 302, 303, 305, 307, 308, 310, 312, 314, 315, 316, 317, 319, 320, 321, 322, 325, 326, 331, 333, 334, 335, 336, 337, 338, 340, 345, 349, 350, 353, 354, 358, 359, 361, 363, 365, 366, 367, 370, 371, 372, 373, 374, 375, 376, 377, 378, 379, 381, 382, 389, 390, 391, 393, 395, 402, 403, 404, 405, 406, 409, 410, 412, 415, 416, 417, 418, 419, 420, 422, 423, 425, 426, 427, 428, 429, 430, 432, 433, 434, 437, 438, 439, 441, 442, 445, 446, 447, 448, 449, 451, 453, 454, 455, 457, 461, 462, 463, 464, 465, 466, 468, 469, 470, 471, 472, 473, 475, 477, 478, 479, 480, 481, 482, 483, 485, 486, 489, 491, 498, 500, 501, 504, 505]\n",
            "15 [0, 2, 3, 5, 6, 8, 11, 12, 14, 15, 16, 18, 19, 20, 26, 28, 29, 31, 32, 33, 36, 38, 41, 42, 45, 47, 48, 50, 52, 55, 56, 58, 61, 64, 65, 66, 67, 70, 71, 72, 73, 74, 76, 78, 79, 80, 81, 82, 85, 87, 88, 89, 91, 92, 94, 98, 100, 102, 107, 110, 112, 118, 119, 120, 121, 122, 123, 125, 126, 133, 134, 135, 136, 138, 139, 140, 144, 146, 149, 151, 153, 154, 160, 161, 163, 164, 165, 167, 169, 171, 173, 174, 175, 176, 178, 179, 180, 181, 183, 186, 187, 188, 189, 190, 191, 192, 193, 194, 195, 196, 197, 198, 199, 200, 201, 202, 203, 204, 205, 207, 208, 209, 210, 213, 217, 219, 221, 222, 224, 227, 231, 232, 233, 235, 237, 238, 241, 242, 244, 249, 250, 252, 253, 254, 255, 256, 259, 262, 263, 264, 265, 270, 272, 274, 275, 276, 277, 278, 280, 282, 283, 284, 285, 288, 289, 294, 295, 296, 298, 299, 300, 302, 303, 305, 306, 307, 308, 310, 311, 312, 313, 314, 315, 318, 320, 321, 322, 324, 325, 328, 329, 330, 331, 332, 335, 337, 338, 339, 342, 343, 346, 348, 349, 354, 355, 358, 361, 362, 363, 365, 366, 368, 369, 371, 372, 375, 376, 378, 379, 380, 381, 382, 383, 384, 385, 387, 388, 390, 391, 392, 393, 395, 397, 398, 400, 401, 402, 403, 404, 405, 406, 408, 411, 413, 414, 416, 417, 421, 422, 423, 425, 426, 428, 430, 434, 436, 442, 445, 446, 448, 449, 450, 451, 453, 454, 455, 456, 458, 459, 460, 461, 463, 464, 465, 466, 467, 468, 469, 471, 472, 475, 478, 479, 481, 483, 485, 486, 487, 488, 489, 491, 492, 493, 494, 495, 496, 497, 498, 499, 500, 502, 503, 505]\n",
            "16 [1, 4, 5, 6, 7, 8, 9, 10, 12, 13, 16, 19, 22, 23, 24, 25, 26, 27, 30, 32, 33, 39, 40, 43, 44, 45, 46, 47, 51, 52, 55, 56, 57, 58, 60, 62, 63, 67, 68, 69, 71, 73, 77, 78, 81, 84, 85, 88, 89, 90, 91, 92, 93, 94, 95, 96, 98, 99, 102, 103, 105, 106, 108, 111, 112, 114, 119, 120, 121, 122, 123, 124, 129, 131, 132, 133, 136, 137, 138, 139, 140, 141, 142, 149, 151, 155, 156, 159, 160, 161, 164, 166, 169, 170, 171, 172, 173, 175, 176, 182, 183, 184, 185, 187, 191, 192, 194, 197, 198, 199, 200, 201, 202, 203, 205, 206, 207, 208, 210, 212, 216, 217, 218, 219, 220, 221, 222, 223, 224, 225, 226, 227, 228, 230, 231, 232, 233, 234, 236, 237, 238, 239, 242, 245, 247, 248, 249, 251, 254, 256, 257, 258, 260, 261, 262, 263, 265, 266, 268, 272, 273, 274, 276, 278, 279, 281, 282, 284, 285, 286, 287, 293, 295, 296, 297, 298, 299, 305, 308, 309, 311, 312, 314, 315, 317, 320, 321, 324, 327, 329, 331, 332, 333, 336, 338, 340, 341, 342, 343, 344, 347, 348, 350, 352, 354, 358, 359, 360, 361, 364, 365, 366, 368, 370, 371, 374, 376, 378, 380, 381, 383, 385, 386, 388, 389, 390, 393, 394, 396, 398, 399, 402, 403, 404, 406, 407, 408, 410, 411, 412, 414, 415, 416, 417, 419, 420, 421, 422, 424, 426, 427, 428, 429, 430, 432, 433, 434, 436, 437, 438, 439, 442, 443, 446, 448, 450, 451, 453, 455, 456, 457, 459, 460, 461, 462, 463, 464, 465, 466, 468, 473, 474, 475, 476, 477, 478, 481, 482, 483, 484, 485, 490, 492, 493, 494, 495, 496, 497, 499, 500, 501, 502, 504]\n",
            "17 [1, 2, 4, 5, 6, 7, 8, 13, 14, 16, 18, 19, 20, 21, 23, 25, 26, 28, 30, 32, 33, 34, 36, 37, 38, 39, 42, 43, 44, 45, 46, 47, 48, 51, 52, 53, 55, 57, 60, 61, 62, 64, 66, 68, 70, 73, 74, 77, 80, 83, 85, 86, 87, 91, 93, 94, 96, 97, 98, 101, 105, 106, 108, 109, 111, 112, 115, 116, 120, 121, 124, 125, 126, 127, 128, 129, 130, 132, 133, 136, 137, 139, 140, 141, 144, 145, 146, 147, 148, 149, 150, 151, 153, 154, 157, 158, 160, 162, 163, 165, 166, 167, 169, 171, 172, 173, 177, 178, 180, 181, 182, 185, 186, 188, 193, 194, 195, 196, 198, 199, 201, 205, 206, 208, 209, 211, 213, 214, 215, 219, 220, 222, 224, 227, 228, 230, 234, 235, 237, 238, 239, 240, 241, 242, 243, 246, 247, 249, 250, 253, 256, 257, 259, 262, 264, 265, 266, 268, 270, 271, 272, 273, 275, 277, 278, 281, 282, 283, 284, 285, 287, 291, 292, 294, 296, 298, 299, 300, 301, 302, 305, 307, 308, 310, 311, 312, 313, 314, 315, 320, 322, 323, 324, 325, 327, 328, 329, 330, 331, 332, 333, 337, 339, 341, 342, 347, 348, 349, 352, 353, 354, 357, 360, 362, 363, 364, 368, 369, 371, 372, 373, 378, 380, 381, 382, 383, 384, 385, 386, 390, 392, 395, 396, 398, 399, 400, 401, 404, 405, 407, 408, 409, 411, 412, 414, 415, 416, 417, 418, 420, 422, 423, 425, 426, 427, 428, 429, 430, 433, 435, 437, 440, 441, 442, 444, 446, 447, 448, 451, 452, 454, 455, 456, 458, 459, 460, 461, 462, 463, 464, 465, 466, 467, 470, 471, 472, 476, 477, 481, 484, 485, 486, 487, 489, 492, 493, 494, 497, 499, 500, 501, 502, 504]\n",
            "18 [0, 1, 4, 5, 6, 7, 10, 11, 12, 14, 15, 19, 21, 23, 25, 27, 28, 30, 33, 34, 35, 36, 37, 38, 39, 40, 41, 43, 44, 45, 46, 50, 51, 52, 53, 54, 55, 57, 58, 60, 61, 62, 64, 67, 69, 70, 73, 75, 76, 78, 79, 80, 81, 84, 85, 86, 88, 89, 90, 91, 92, 93, 94, 95, 97, 98, 100, 101, 104, 106, 108, 109, 110, 111, 113, 115, 119, 122, 124, 125, 126, 128, 129, 133, 134, 135, 138, 140, 141, 143, 145, 148, 151, 152, 154, 155, 156, 157, 160, 161, 163, 165, 166, 167, 168, 169, 170, 172, 173, 174, 175, 176, 178, 179, 180, 181, 182, 185, 187, 188, 190, 191, 192, 195, 198, 201, 202, 205, 206, 207, 208, 209, 211, 214, 215, 217, 222, 223, 224, 225, 226, 230, 231, 235, 238, 241, 243, 245, 246, 249, 250, 253, 257, 259, 260, 261, 262, 264, 265, 267, 268, 269, 271, 272, 273, 274, 276, 277, 279, 280, 281, 282, 285, 286, 287, 288, 289, 291, 293, 294, 295, 296, 298, 300, 303, 304, 305, 306, 307, 308, 309, 312, 313, 316, 317, 319, 320, 322, 323, 324, 327, 328, 331, 332, 333, 334, 336, 337, 340, 341, 345, 346, 351, 353, 355, 358, 359, 360, 362, 363, 364, 365, 367, 369, 370, 371, 372, 373, 374, 375, 376, 377, 378, 379, 382, 383, 384, 387, 388, 390, 392, 396, 397, 400, 401, 402, 404, 405, 406, 407, 408, 409, 410, 411, 412, 420, 421, 422, 424, 426, 427, 428, 430, 431, 433, 434, 437, 438, 439, 441, 442, 443, 444, 445, 449, 451, 453, 455, 456, 458, 460, 462, 463, 465, 466, 469, 470, 474, 478, 479, 480, 484, 485, 486, 488, 491, 494, 496, 497, 498, 499, 501, 504]\n",
            "19 [1, 2, 4, 5, 7, 8, 10, 11, 12, 15, 18, 19, 20, 25, 26, 27, 29, 31, 32, 33, 34, 35, 36, 37, 38, 41, 44, 45, 47, 48, 49, 51, 55, 56, 57, 61, 62, 63, 65, 69, 70, 73, 74, 76, 77, 78, 79, 80, 81, 85, 86, 88, 89, 90, 91, 93, 94, 95, 96, 97, 98, 99, 100, 101, 102, 104, 105, 109, 111, 113, 117, 120, 122, 124, 127, 129, 130, 131, 133, 134, 136, 137, 138, 139, 142, 143, 144, 145, 147, 148, 149, 151, 152, 153, 154, 155, 156, 159, 161, 162, 163, 164, 166, 168, 170, 171, 173, 174, 175, 176, 177, 178, 179, 180, 181, 182, 183, 184, 185, 186, 188, 190, 192, 193, 194, 195, 197, 198, 199, 201, 202, 203, 204, 205, 206, 208, 209, 211, 212, 215, 216, 217, 221, 224, 225, 227, 229, 235, 236, 237, 239, 241, 243, 245, 246, 247, 249, 251, 252, 253, 254, 256, 257, 259, 260, 261, 265, 268, 270, 271, 275, 276, 279, 280, 284, 285, 287, 288, 290, 291, 292, 293, 294, 296, 301, 302, 303, 304, 305, 306, 308, 311, 316, 318, 319, 321, 323, 324, 325, 326, 330, 331, 338, 339, 340, 341, 342, 343, 346, 347, 349, 350, 351, 352, 353, 354, 355, 356, 358, 361, 364, 365, 368, 369, 375, 376, 378, 380, 381, 382, 383, 385, 386, 387, 388, 392, 395, 396, 397, 398, 399, 400, 401, 402, 406, 409, 410, 411, 421, 422, 424, 425, 427, 428, 431, 433, 436, 438, 441, 442, 443, 444, 446, 447, 449, 452, 453, 454, 455, 456, 457, 458, 459, 461, 462, 466, 467, 468, 469, 470, 471, 473, 475, 477, 479, 481, 482, 483, 485, 487, 488, 489, 490, 491, 492, 493, 494, 496, 497, 499, 500, 502, 503]\n",
            "20 [0, 7, 8, 9, 11, 12, 14, 15, 16, 17, 18, 19, 20, 25, 26, 27, 28, 30, 34, 36, 37, 38, 39, 40, 41, 43, 44, 45, 48, 49, 51, 52, 53, 54, 56, 57, 60, 63, 66, 67, 70, 71, 72, 75, 77, 79, 80, 82, 84, 87, 88, 90, 93, 94, 95, 96, 97, 98, 99, 100, 103, 106, 107, 108, 111, 114, 115, 119, 122, 123, 125, 128, 129, 130, 131, 132, 134, 135, 136, 138, 139, 141, 144, 148, 149, 150, 151, 152, 153, 154, 155, 157, 159, 161, 166, 168, 169, 170, 171, 174, 177, 182, 184, 185, 187, 190, 191, 192, 194, 195, 197, 198, 202, 204, 206, 208, 209, 212, 213, 215, 216, 217, 218, 220, 221, 222, 223, 226, 228, 229, 230, 231, 232, 235, 237, 238, 239, 240, 241, 242, 243, 244, 246, 247, 248, 249, 250, 251, 252, 253, 254, 257, 258, 260, 261, 262, 263, 265, 266, 268, 271, 273, 276, 277, 278, 280, 283, 285, 286, 287, 288, 290, 291, 292, 294, 295, 296, 297, 298, 299, 300, 301, 302, 304, 306, 307, 308, 310, 311, 312, 313, 316, 319, 322, 323, 326, 327, 328, 331, 333, 334, 335, 336, 337, 338, 341, 344, 345, 347, 349, 350, 351, 353, 354, 356, 357, 362, 366, 367, 368, 369, 370, 371, 374, 376, 377, 381, 383, 385, 388, 389, 390, 391, 392, 393, 395, 396, 397, 398, 400, 402, 403, 404, 406, 407, 408, 409, 410, 411, 412, 413, 414, 416, 417, 418, 421, 424, 425, 426, 428, 430, 432, 433, 436, 437, 438, 439, 442, 444, 446, 447, 453, 454, 457, 458, 460, 461, 463, 465, 466, 469, 472, 474, 476, 477, 478, 480, 483, 484, 485, 487, 488, 489, 490, 493, 494, 495, 497, 499, 500, 501, 503, 505]\n",
            "21 [0, 1, 2, 4, 5, 9, 10, 12, 13, 14, 15, 16, 17, 18, 20, 21, 25, 26, 27, 28, 29, 32, 35, 37, 38, 39, 40, 44, 46, 47, 48, 50, 51, 53, 54, 55, 56, 58, 59, 61, 62, 63, 67, 69, 73, 74, 75, 77, 78, 81, 82, 85, 86, 87, 88, 90, 94, 95, 99, 101, 103, 104, 105, 106, 108, 109, 111, 112, 116, 117, 118, 119, 120, 121, 122, 123, 124, 126, 127, 128, 129, 130, 132, 134, 137, 138, 139, 141, 144, 146, 147, 148, 149, 150, 151, 153, 154, 155, 157, 158, 160, 161, 162, 163, 164, 165, 169, 172, 173, 174, 176, 177, 179, 180, 181, 183, 185, 190, 191, 193, 195, 196, 197, 199, 200, 204, 205, 206, 212, 214, 215, 218, 219, 220, 222, 223, 224, 226, 227, 228, 229, 230, 231, 233, 234, 235, 238, 240, 241, 242, 243, 244, 245, 246, 247, 249, 250, 253, 254, 259, 261, 263, 264, 266, 270, 271, 273, 275, 282, 283, 284, 286, 287, 290, 291, 292, 293, 294, 295, 297, 298, 299, 305, 307, 308, 309, 311, 312, 314, 315, 317, 318, 322, 325, 326, 327, 328, 329, 330, 332, 333, 334, 335, 336, 337, 338, 340, 341, 342, 347, 348, 350, 351, 352, 354, 355, 357, 358, 364, 365, 366, 368, 369, 373, 374, 376, 377, 378, 379, 380, 386, 387, 388, 390, 391, 392, 393, 394, 395, 396, 397, 399, 402, 403, 404, 405, 406, 407, 409, 410, 413, 414, 417, 420, 421, 423, 424, 426, 427, 429, 433, 436, 438, 439, 441, 444, 447, 449, 451, 452, 453, 456, 458, 460, 463, 465, 466, 467, 468, 470, 471, 473, 475, 477, 478, 479, 481, 482, 483, 484, 490, 491, 492, 494, 495, 496, 497, 499, 500, 502, 503, 504, 505]\n",
            "22 [0, 2, 3, 4, 5, 6, 7, 8, 9, 10, 11, 13, 17, 18, 20, 23, 24, 26, 30, 31, 34, 35, 36, 37, 38, 39, 40, 42, 45, 46, 47, 48, 53, 54, 55, 56, 57, 59, 60, 63, 65, 66, 67, 69, 70, 72, 73, 74, 75, 76, 77, 79, 81, 82, 84, 85, 90, 91, 92, 95, 96, 98, 99, 100, 103, 105, 107, 108, 109, 110, 112, 113, 114, 115, 116, 118, 119, 120, 125, 127, 129, 131, 132, 135, 137, 139, 140, 142, 143, 144, 146, 148, 151, 152, 153, 155, 158, 160, 161, 162, 164, 166, 167, 168, 170, 171, 172, 176, 177, 179, 180, 182, 183, 185, 186, 187, 190, 192, 193, 195, 196, 197, 198, 200, 201, 203, 204, 207, 209, 210, 212, 215, 216, 218, 220, 221, 223, 225, 229, 230, 231, 232, 235, 236, 238, 239, 241, 242, 243, 247, 248, 249, 252, 254, 255, 256, 257, 258, 261, 262, 263, 264, 265, 268, 269, 270, 271, 272, 276, 278, 279, 280, 281, 283, 286, 289, 290, 293, 295, 296, 297, 298, 299, 300, 303, 304, 305, 309, 310, 311, 312, 314, 315, 316, 317, 319, 320, 321, 323, 324, 326, 328, 332, 333, 334, 335, 337, 338, 339, 340, 341, 343, 344, 345, 347, 348, 349, 350, 351, 353, 354, 356, 357, 359, 360, 362, 364, 365, 366, 367, 370, 372, 374, 375, 376, 378, 379, 380, 384, 386, 387, 388, 389, 395, 399, 400, 404, 405, 408, 413, 415, 416, 419, 422, 423, 428, 430, 431, 434, 435, 437, 438, 441, 444, 445, 447, 448, 450, 452, 455, 456, 457, 459, 460, 461, 464, 465, 466, 467, 469, 471, 472, 473, 474, 475, 477, 481, 482, 484, 485, 486, 488, 489, 490, 491, 495, 497, 499, 500, 501, 502, 503, 505]\n",
            "23 [0, 1, 3, 4, 5, 6, 7, 8, 9, 10, 11, 14, 15, 18, 19, 20, 22, 25, 26, 27, 31, 32, 33, 34, 36, 38, 39, 41, 42, 43, 44, 49, 50, 51, 54, 55, 57, 58, 59, 60, 61, 62, 64, 66, 67, 68, 69, 70, 71, 72, 74, 76, 78, 79, 80, 82, 86, 87, 93, 94, 96, 97, 98, 100, 101, 102, 103, 105, 108, 109, 110, 114, 115, 117, 120, 121, 122, 123, 124, 126, 128, 130, 132, 133, 134, 135, 136, 138, 140, 141, 145, 147, 148, 149, 150, 151, 152, 153, 154, 156, 159, 163, 169, 170, 171, 172, 173, 174, 175, 176, 177, 179, 184, 185, 189, 190, 191, 193, 195, 197, 200, 203, 204, 205, 209, 210, 212, 213, 215, 216, 217, 220, 221, 222, 223, 226, 227, 229, 234, 235, 238, 239, 240, 241, 242, 243, 244, 245, 246, 247, 248, 250, 252, 253, 255, 256, 258, 259, 260, 261, 262, 265, 266, 268, 272, 273, 274, 275, 276, 277, 279, 280, 282, 283, 285, 286, 287, 288, 289, 290, 291, 294, 295, 298, 299, 300, 302, 306, 308, 313, 314, 315, 318, 319, 321, 325, 326, 328, 329, 333, 336, 339, 342, 343, 344, 345, 346, 348, 349, 351, 354, 356, 357, 360, 362, 363, 368, 370, 371, 372, 373, 374, 375, 376, 377, 379, 381, 382, 383, 384, 386, 388, 389, 390, 391, 392, 394, 396, 397, 399, 400, 406, 407, 408, 409, 411, 415, 416, 417, 419, 421, 422, 424, 427, 428, 430, 431, 433, 434, 435, 436, 437, 439, 444, 445, 446, 447, 448, 449, 450, 451, 453, 454, 455, 456, 458, 459, 460, 461, 462, 463, 465, 466, 467, 470, 473, 479, 480, 481, 482, 485, 486, 487, 488, 489, 490, 491, 493, 494, 496, 501, 502, 503]\n",
            "24 [1, 2, 4, 5, 6, 7, 8, 10, 11, 14, 15, 16, 17, 19, 20, 23, 24, 25, 26, 27, 28, 29, 35, 36, 37, 38, 39, 40, 43, 44, 45, 46, 50, 52, 54, 57, 58, 59, 60, 62, 63, 64, 65, 68, 69, 70, 72, 73, 74, 75, 76, 77, 78, 79, 80, 81, 82, 85, 90, 92, 93, 97, 100, 101, 102, 104, 105, 113, 114, 119, 120, 121, 124, 125, 126, 129, 131, 133, 137, 138, 142, 143, 144, 145, 146, 149, 150, 152, 153, 154, 155, 156, 157, 161, 162, 164, 167, 168, 169, 170, 171, 173, 174, 175, 176, 178, 179, 181, 182, 183, 184, 186, 187, 189, 190, 191, 193, 194, 197, 198, 199, 200, 201, 202, 203, 204, 206, 207, 210, 211, 212, 214, 216, 217, 220, 221, 222, 223, 226, 229, 230, 232, 233, 235, 236, 237, 240, 242, 244, 245, 246, 251, 252, 253, 254, 255, 256, 257, 259, 260, 263, 264, 266, 267, 270, 271, 274, 276, 279, 280, 281, 282, 283, 284, 285, 287, 288, 290, 292, 294, 296, 297, 298, 300, 301, 305, 307, 308, 312, 313, 314, 315, 317, 318, 322, 323, 325, 327, 329, 332, 333, 337, 338, 339, 340, 341, 342, 346, 348, 349, 350, 352, 354, 355, 356, 358, 361, 363, 364, 365, 366, 367, 368, 371, 374, 376, 377, 379, 381, 382, 383, 387, 388, 389, 390, 391, 392, 393, 394, 395, 396, 398, 399, 400, 401, 404, 405, 406, 407, 408, 410, 412, 416, 417, 418, 419, 420, 421, 424, 427, 428, 429, 431, 432, 433, 434, 436, 438, 439, 441, 442, 443, 447, 448, 449, 451, 454, 456, 457, 459, 460, 464, 465, 466, 470, 471, 473, 474, 475, 476, 481, 485, 486, 488, 492, 494, 497, 498, 499, 500, 501, 502, 505]\n",
            "25 [0, 1, 5, 6, 8, 9, 12, 15, 17, 21, 22, 24, 26, 27, 30, 31, 32, 34, 35, 37, 38, 39, 47, 50, 52, 54, 55, 59, 61, 62, 64, 66, 67, 68, 70, 71, 72, 73, 74, 75, 78, 79, 80, 82, 85, 86, 90, 91, 92, 93, 94, 95, 96, 99, 100, 102, 103, 105, 106, 107, 108, 110, 111, 112, 114, 115, 116, 118, 119, 121, 123, 125, 126, 127, 130, 131, 132, 134, 136, 137, 138, 140, 142, 144, 146, 148, 151, 153, 154, 155, 156, 157, 158, 160, 165, 167, 168, 169, 171, 172, 173, 176, 177, 178, 180, 182, 184, 187, 188, 189, 190, 191, 194, 195, 198, 199, 201, 203, 205, 206, 207, 209, 211, 213, 214, 215, 217, 218, 219, 221, 223, 224, 226, 228, 230, 231, 232, 233, 234, 237, 238, 239, 241, 242, 244, 245, 247, 248, 249, 251, 255, 256, 258, 260, 261, 262, 263, 264, 265, 267, 269, 270, 274, 275, 279, 280, 281, 283, 285, 286, 288, 290, 291, 293, 294, 295, 296, 304, 305, 308, 311, 313, 314, 315, 317, 320, 321, 322, 329, 330, 332, 335, 336, 337, 338, 341, 342, 343, 344, 345, 346, 347, 350, 353, 354, 355, 356, 357, 360, 361, 363, 365, 369, 371, 372, 376, 377, 378, 379, 380, 382, 384, 385, 387, 388, 389, 391, 392, 393, 394, 395, 397, 398, 399, 400, 401, 402, 407, 410, 411, 412, 414, 415, 416, 417, 419, 421, 423, 425, 427, 428, 429, 430, 432, 433, 434, 435, 436, 439, 440, 441, 442, 444, 445, 446, 447, 449, 451, 452, 457, 458, 459, 461, 462, 463, 464, 465, 467, 469, 470, 471, 472, 473, 476, 477, 478, 479, 485, 488, 489, 490, 491, 492, 494, 495, 496, 497, 498, 500, 501, 502, 504, 505]\n",
            "26 [1, 2, 4, 5, 6, 7, 8, 9, 10, 14, 15, 16, 17, 19, 20, 21, 22, 24, 26, 28, 30, 33, 34, 35, 36, 42, 43, 44, 45, 46, 49, 51, 52, 54, 55, 57, 62, 63, 64, 66, 68, 69, 70, 73, 74, 76, 78, 79, 82, 83, 84, 85, 87, 88, 90, 91, 92, 93, 94, 96, 98, 99, 100, 102, 105, 106, 107, 108, 109, 110, 111, 113, 114, 115, 117, 118, 119, 120, 125, 127, 129, 131, 132, 133, 135, 136, 137, 140, 141, 142, 144, 149, 150, 153, 155, 156, 157, 158, 161, 163, 164, 165, 167, 168, 169, 170, 171, 173, 174, 176, 178, 180, 181, 182, 183, 184, 186, 187, 188, 189, 190, 195, 196, 197, 198, 201, 203, 204, 205, 206, 208, 212, 213, 214, 215, 217, 218, 219, 221, 223, 227, 228, 229, 230, 232, 233, 234, 237, 238, 239, 240, 241, 242, 245, 247, 248, 249, 251, 252, 253, 254, 255, 256, 258, 259, 260, 261, 262, 265, 267, 271, 272, 274, 275, 277, 279, 280, 281, 283, 284, 285, 287, 289, 290, 291, 294, 295, 302, 305, 307, 308, 309, 310, 312, 313, 314, 316, 317, 319, 323, 326, 328, 329, 333, 334, 335, 339, 340, 342, 343, 346, 347, 351, 352, 354, 355, 356, 357, 358, 359, 360, 361, 362, 367, 372, 373, 376, 377, 378, 380, 381, 383, 384, 385, 386, 387, 389, 390, 391, 393, 395, 396, 398, 399, 401, 403, 406, 407, 409, 412, 415, 417, 418, 419, 421, 422, 423, 424, 425, 426, 428, 429, 435, 437, 440, 444, 446, 449, 450, 451, 452, 453, 454, 455, 456, 457, 458, 460, 463, 464, 465, 466, 467, 468, 475, 476, 477, 478, 480, 481, 482, 485, 486, 488, 489, 490, 491, 493, 495, 496, 499, 500, 504]\n",
            "27 [1, 2, 5, 6, 7, 8, 10, 11, 12, 13, 14, 16, 17, 18, 20, 21, 22, 24, 26, 30, 31, 32, 34, 35, 36, 37, 38, 42, 44, 45, 46, 49, 52, 53, 54, 55, 59, 62, 64, 66, 68, 69, 70, 71, 73, 74, 75, 76, 77, 78, 83, 87, 88, 91, 92, 93, 94, 96, 97, 99, 102, 103, 105, 106, 107, 109, 111, 112, 113, 114, 115, 117, 122, 125, 126, 127, 129, 130, 131, 132, 135, 138, 141, 144, 145, 146, 147, 151, 154, 155, 157, 158, 160, 161, 162, 163, 164, 165, 166, 170, 171, 173, 174, 175, 176, 177, 178, 179, 181, 182, 184, 185, 187, 188, 190, 192, 193, 195, 196, 199, 203, 208, 210, 211, 212, 213, 214, 216, 217, 219, 220, 224, 226, 227, 228, 229, 230, 231, 232, 235, 239, 240, 241, 242, 243, 244, 246, 247, 248, 249, 251, 256, 259, 261, 262, 263, 264, 265, 266, 267, 268, 269, 270, 272, 273, 274, 275, 276, 280, 281, 285, 289, 291, 296, 297, 301, 302, 303, 304, 305, 307, 308, 309, 310, 311, 313, 316, 317, 320, 322, 327, 329, 330, 335, 338, 339, 340, 342, 344, 346, 347, 348, 350, 352, 354, 355, 356, 357, 358, 359, 361, 362, 363, 364, 365, 366, 369, 371, 372, 373, 375, 376, 378, 379, 381, 382, 383, 384, 385, 388, 389, 390, 395, 397, 398, 399, 401, 404, 406, 407, 408, 410, 414, 415, 416, 417, 418, 419, 423, 424, 425, 429, 430, 431, 433, 434, 435, 437, 438, 439, 440, 442, 444, 446, 448, 449, 451, 453, 454, 457, 458, 461, 465, 468, 469, 470, 471, 472, 473, 474, 475, 476, 477, 480, 481, 482, 483, 484, 485, 486, 488, 489, 490, 491, 493, 494, 495, 497, 499, 500, 501, 504, 505]\n",
            "28 [2, 3, 5, 6, 9, 10, 11, 12, 13, 14, 15, 16, 18, 19, 21, 22, 23, 26, 29, 33, 35, 36, 37, 38, 39, 40, 42, 43, 47, 48, 49, 50, 53, 54, 55, 56, 57, 58, 62, 63, 64, 66, 67, 71, 72, 73, 74, 75, 77, 78, 79, 80, 81, 83, 85, 90, 91, 92, 97, 99, 100, 101, 102, 104, 105, 107, 108, 109, 110, 112, 114, 115, 116, 117, 118, 119, 121, 122, 124, 126, 127, 128, 129, 131, 132, 135, 137, 139, 141, 145, 146, 148, 150, 151, 152, 153, 154, 157, 158, 159, 163, 164, 165, 166, 168, 169, 170, 176, 177, 178, 179, 181, 182, 186, 188, 189, 190, 192, 193, 197, 198, 199, 200, 201, 202, 203, 205, 207, 211, 214, 216, 217, 218, 219, 223, 225, 227, 229, 230, 231, 232, 233, 234, 238, 239, 240, 242, 245, 246, 247, 249, 250, 251, 253, 254, 257, 261, 262, 263, 264, 269, 270, 272, 275, 276, 277, 278, 279, 281, 282, 283, 284, 286, 288, 289, 292, 293, 294, 295, 296, 297, 298, 300, 301, 302, 306, 308, 311, 312, 313, 316, 317, 318, 321, 323, 324, 328, 329, 330, 331, 336, 337, 338, 340, 341, 343, 344, 345, 346, 348, 350, 351, 352, 354, 355, 356, 360, 363, 365, 366, 370, 371, 372, 375, 377, 378, 379, 380, 381, 382, 383, 387, 388, 392, 393, 394, 395, 398, 400, 401, 402, 406, 407, 408, 409, 410, 411, 412, 413, 414, 416, 420, 421, 422, 423, 428, 430, 431, 432, 433, 435, 437, 438, 440, 441, 442, 443, 444, 447, 448, 449, 451, 453, 454, 455, 456, 458, 460, 461, 462, 464, 468, 471, 474, 475, 476, 477, 479, 480, 481, 482, 484, 487, 489, 490, 491, 492, 496, 497, 498, 501, 504, 505]\n",
            "29 [1, 2, 3, 6, 7, 8, 9, 10, 11, 12, 13, 14, 15, 16, 17, 18, 22, 25, 26, 27, 28, 29, 30, 31, 33, 34, 35, 36, 37, 38, 39, 40, 41, 43, 45, 47, 49, 50, 51, 54, 55, 56, 57, 59, 60, 62, 63, 66, 68, 69, 70, 72, 73, 74, 75, 76, 80, 83, 84, 87, 89, 90, 91, 92, 93, 95, 96, 97, 98, 99, 101, 102, 103, 105, 106, 111, 112, 114, 115, 116, 120, 122, 123, 125, 126, 127, 128, 130, 131, 132, 133, 135, 137, 140, 142, 149, 150, 151, 152, 153, 154, 155, 156, 160, 162, 163, 168, 169, 170, 174, 175, 176, 179, 183, 184, 185, 187, 188, 189, 192, 193, 194, 198, 201, 202, 203, 204, 205, 206, 208, 210, 211, 212, 213, 215, 217, 220, 223, 224, 225, 227, 228, 229, 230, 231, 232, 233, 235, 237, 238, 241, 242, 243, 244, 245, 246, 247, 248, 249, 251, 254, 257, 260, 261, 262, 263, 266, 272, 274, 276, 277, 278, 279, 280, 281, 283, 284, 285, 288, 289, 291, 292, 293, 298, 300, 301, 304, 305, 306, 307, 309, 310, 311, 312, 313, 315, 316, 318, 320, 321, 325, 328, 330, 332, 334, 335, 339, 340, 341, 342, 343, 344, 346, 347, 348, 350, 352, 353, 355, 357, 358, 363, 365, 366, 367, 368, 369, 370, 371, 372, 374, 377, 378, 382, 383, 384, 386, 387, 388, 389, 391, 392, 395, 396, 397, 398, 399, 400, 401, 403, 406, 407, 408, 409, 411, 412, 416, 421, 423, 424, 425, 427, 428, 429, 432, 435, 437, 438, 442, 443, 448, 449, 450, 451, 452, 453, 454, 455, 456, 458, 461, 462, 463, 464, 468, 469, 470, 471, 472, 475, 476, 477, 479, 481, 482, 483, 485, 488, 489, 492, 494, 496, 502]\n"
          ],
          "name": "stdout"
        }
      ]
    },
    {
      "cell_type": "code",
      "metadata": {
        "id": "rbKBS_1OlnHI",
        "colab_type": "code",
        "colab": {
          "base_uri": "https://localhost:8080/",
          "height": 34
        },
        "outputId": "c3d59d60-7c48-4776-ba30-7063d0e90f85"
      },
      "source": [
        "reg_tree_4.n_features_,list_selected_columns[3]"
      ],
      "execution_count": 123,
      "outputs": [
        {
          "output_type": "execute_result",
          "data": {
            "text/plain": [
              "(4, [0, 1, 2, 12])"
            ]
          },
          "metadata": {
            "tags": []
          },
          "execution_count": 123
        }
      ]
    },
    {
      "cell_type": "code",
      "metadata": {
        "id": "C9fdfW1Lzviu",
        "colab_type": "code",
        "colab": {
          "base_uri": "https://localhost:8080/",
          "height": 238
        },
        "outputId": "37f98690-704d-4dd2-adba-1652b2e3243a"
      },
      "source": [
        "for indx,j in enumerate(list_selected_row):\n",
        "  if 0 not in j:\n",
        "    print(indx,sorted(j))"
      ],
      "execution_count": 137,
      "outputs": [
        {
          "output_type": "stream",
          "text": [
            "3 [1, 2, 3, 4, 5, 6, 7, 8, 9, 10, 11, 12, 16, 19, 20, 21, 23, 24, 25, 29, 30, 31, 32, 33, 34, 35, 36, 38, 40, 41, 45, 47, 50, 51, 54, 55, 56, 57, 59, 62, 63, 64, 67, 69, 70, 71, 72, 74, 75, 81, 84, 85, 88, 89, 90, 91, 92, 93, 94, 96, 99, 100, 101, 102, 103, 104, 105, 107, 108, 109, 112, 113, 114, 115, 121, 122, 123, 124, 127, 128, 129, 131, 132, 133, 136, 137, 140, 142, 144, 145, 147, 151, 153, 154, 155, 156, 157, 163, 167, 168, 170, 171, 172, 174, 175, 176, 178, 179, 180, 184, 185, 187, 188, 189, 190, 191, 192, 193, 194, 196, 200, 202, 204, 205, 207, 208, 209, 212, 213, 216, 217, 219, 220, 221, 226, 227, 229, 230, 231, 232, 233, 235, 237, 239, 240, 242, 246, 247, 251, 252, 253, 255, 256, 257, 260, 261, 262, 263, 264, 268, 272, 273, 275, 276, 277, 278, 279, 280, 281, 283, 284, 287, 288, 289, 290, 292, 294, 295, 297, 299, 301, 302, 305, 306, 307, 308, 309, 310, 312, 313, 315, 316, 317, 318, 319, 320, 321, 322, 324, 328, 329, 330, 331, 332, 335, 339, 340, 342, 343, 346, 347, 348, 349, 351, 353, 355, 357, 360, 361, 362, 363, 364, 365, 367, 368, 371, 372, 374, 379, 380, 381, 384, 385, 387, 388, 389, 390, 391, 392, 395, 397, 398, 399, 400, 401, 403, 404, 408, 410, 413, 415, 416, 417, 421, 422, 423, 425, 429, 431, 433, 434, 435, 437, 439, 441, 442, 443, 447, 449, 450, 451, 452, 454, 456, 457, 460, 461, 464, 465, 466, 469, 470, 471, 472, 474, 475, 476, 478, 480, 484, 486, 487, 488, 491, 493, 494, 496, 497, 498, 500, 501, 503, 505]\n",
            "4 [2, 3, 4, 6, 7, 8, 9, 10, 14, 16, 20, 21, 22, 23, 26, 27, 32, 33, 34, 35, 36, 38, 39, 40, 42, 45, 49, 50, 53, 54, 55, 57, 61, 62, 63, 64, 65, 66, 68, 69, 70, 71, 74, 75, 77, 79, 80, 81, 84, 86, 89, 91, 93, 94, 102, 104, 105, 106, 108, 109, 112, 113, 116, 117, 119, 121, 125, 126, 127, 129, 131, 133, 134, 135, 136, 137, 139, 140, 141, 142, 143, 145, 146, 148, 149, 150, 151, 152, 153, 155, 156, 157, 159, 160, 161, 164, 166, 167, 168, 170, 172, 173, 174, 175, 177, 178, 180, 181, 182, 183, 184, 185, 187, 188, 189, 190, 191, 192, 193, 194, 195, 196, 199, 200, 201, 203, 204, 205, 206, 208, 209, 211, 212, 213, 215, 217, 218, 219, 220, 221, 223, 225, 226, 227, 229, 230, 232, 234, 235, 236, 238, 239, 240, 241, 242, 250, 251, 252, 253, 257, 258, 263, 264, 266, 267, 268, 269, 272, 274, 275, 276, 277, 279, 280, 282, 283, 287, 288, 289, 290, 291, 292, 296, 297, 298, 299, 301, 302, 304, 305, 307, 308, 309, 310, 312, 315, 319, 321, 322, 323, 324, 326, 329, 330, 333, 334, 336, 337, 342, 343, 344, 345, 347, 348, 349, 351, 355, 356, 357, 358, 361, 364, 365, 367, 369, 371, 372, 373, 375, 376, 379, 381, 382, 383, 384, 385, 389, 390, 392, 395, 396, 397, 399, 404, 405, 407, 409, 410, 412, 413, 415, 416, 418, 420, 423, 424, 429, 430, 432, 435, 436, 440, 442, 443, 444, 445, 446, 449, 450, 451, 454, 456, 457, 459, 460, 461, 463, 464, 465, 467, 468, 469, 471, 472, 473, 474, 475, 477, 479, 480, 481, 486, 487, 490, 493, 494, 496, 498, 500, 501, 502, 504, 505]\n",
            "10 [1, 3, 4, 5, 7, 9, 10, 11, 12, 14, 15, 17, 19, 20, 21, 23, 24, 27, 28, 29, 30, 31, 32, 33, 34, 36, 38, 39, 41, 43, 44, 45, 47, 50, 52, 54, 55, 57, 58, 60, 62, 63, 69, 71, 72, 74, 75, 76, 78, 79, 83, 84, 85, 86, 88, 89, 90, 92, 94, 96, 98, 99, 102, 105, 107, 108, 110, 114, 115, 116, 121, 123, 124, 128, 132, 133, 134, 135, 136, 139, 140, 141, 143, 144, 145, 146, 147, 149, 150, 151, 152, 154, 155, 156, 157, 158, 159, 160, 161, 163, 167, 169, 170, 172, 173, 174, 175, 177, 178, 179, 180, 181, 182, 185, 186, 188, 190, 191, 192, 193, 195, 196, 197, 198, 199, 202, 203, 204, 205, 207, 209, 210, 211, 213, 214, 217, 218, 219, 220, 221, 228, 229, 230, 231, 236, 239, 240, 241, 246, 248, 250, 251, 252, 253, 254, 255, 256, 257, 258, 261, 262, 263, 265, 266, 267, 268, 269, 272, 274, 276, 277, 278, 279, 281, 282, 283, 287, 289, 291, 292, 293, 294, 296, 299, 300, 301, 302, 303, 304, 306, 310, 311, 314, 315, 316, 317, 318, 319, 320, 321, 323, 325, 326, 327, 328, 329, 331, 332, 335, 337, 340, 341, 342, 346, 347, 348, 350, 351, 352, 353, 354, 356, 357, 358, 360, 362, 363, 364, 365, 366, 367, 369, 372, 374, 375, 377, 382, 383, 384, 386, 392, 394, 397, 398, 399, 400, 402, 403, 405, 406, 407, 409, 410, 411, 413, 417, 419, 422, 423, 428, 429, 430, 431, 432, 433, 435, 437, 438, 439, 442, 443, 445, 447, 450, 451, 452, 453, 454, 455, 458, 459, 460, 466, 468, 471, 472, 473, 476, 477, 478, 479, 480, 481, 486, 491, 492, 493, 496, 498, 499, 502, 503, 504]\n",
            "11 [1, 2, 3, 4, 5, 6, 8, 11, 13, 14, 15, 19, 21, 22, 23, 24, 26, 27, 30, 34, 36, 37, 39, 40, 41, 42, 43, 44, 45, 46, 48, 53, 55, 57, 58, 60, 63, 64, 65, 68, 70, 73, 76, 77, 78, 81, 83, 84, 88, 89, 90, 94, 95, 97, 99, 100, 101, 102, 103, 105, 108, 110, 113, 115, 116, 118, 120, 126, 127, 128, 129, 130, 131, 133, 134, 135, 136, 138, 142, 143, 145, 146, 147, 148, 151, 152, 153, 155, 156, 157, 158, 160, 162, 163, 164, 167, 168, 170, 173, 174, 177, 178, 180, 185, 186, 190, 192, 193, 194, 195, 199, 200, 202, 203, 206, 207, 211, 212, 213, 214, 215, 219, 220, 221, 222, 223, 225, 226, 227, 228, 229, 230, 231, 232, 233, 234, 235, 238, 239, 241, 242, 243, 244, 247, 249, 251, 253, 254, 255, 257, 261, 262, 263, 264, 265, 268, 271, 272, 273, 274, 276, 277, 281, 282, 283, 284, 285, 286, 288, 289, 291, 292, 293, 295, 296, 297, 299, 300, 301, 302, 307, 308, 309, 310, 312, 313, 316, 317, 318, 319, 320, 322, 324, 325, 330, 332, 333, 334, 335, 336, 337, 340, 341, 342, 344, 348, 349, 353, 356, 357, 359, 360, 362, 365, 369, 370, 371, 372, 373, 375, 377, 379, 380, 381, 382, 384, 386, 388, 389, 390, 391, 392, 394, 395, 397, 399, 400, 401, 402, 404, 405, 407, 408, 409, 410, 411, 413, 414, 415, 416, 421, 422, 423, 427, 428, 430, 433, 435, 436, 441, 442, 443, 444, 447, 449, 452, 454, 455, 459, 460, 461, 462, 463, 464, 465, 466, 467, 470, 472, 473, 474, 475, 476, 477, 478, 479, 480, 481, 483, 484, 485, 486, 487, 488, 489, 490, 492, 493, 494, 500, 502, 503, 504]\n",
            "16 [1, 4, 5, 6, 7, 8, 9, 10, 12, 13, 16, 19, 22, 23, 24, 25, 26, 27, 30, 32, 33, 39, 40, 43, 44, 45, 46, 47, 51, 52, 55, 56, 57, 58, 60, 62, 63, 67, 68, 69, 71, 73, 77, 78, 81, 84, 85, 88, 89, 90, 91, 92, 93, 94, 95, 96, 98, 99, 102, 103, 105, 106, 108, 111, 112, 114, 119, 120, 121, 122, 123, 124, 129, 131, 132, 133, 136, 137, 138, 139, 140, 141, 142, 149, 151, 155, 156, 159, 160, 161, 164, 166, 169, 170, 171, 172, 173, 175, 176, 182, 183, 184, 185, 187, 191, 192, 194, 197, 198, 199, 200, 201, 202, 203, 205, 206, 207, 208, 210, 212, 216, 217, 218, 219, 220, 221, 222, 223, 224, 225, 226, 227, 228, 230, 231, 232, 233, 234, 236, 237, 238, 239, 242, 245, 247, 248, 249, 251, 254, 256, 257, 258, 260, 261, 262, 263, 265, 266, 268, 272, 273, 274, 276, 278, 279, 281, 282, 284, 285, 286, 287, 293, 295, 296, 297, 298, 299, 305, 308, 309, 311, 312, 314, 315, 317, 320, 321, 324, 327, 329, 331, 332, 333, 336, 338, 340, 341, 342, 343, 344, 347, 348, 350, 352, 354, 358, 359, 360, 361, 364, 365, 366, 368, 370, 371, 374, 376, 378, 380, 381, 383, 385, 386, 388, 389, 390, 393, 394, 396, 398, 399, 402, 403, 404, 406, 407, 408, 410, 411, 412, 414, 415, 416, 417, 419, 420, 421, 422, 424, 426, 427, 428, 429, 430, 432, 433, 434, 436, 437, 438, 439, 442, 443, 446, 448, 450, 451, 453, 455, 456, 457, 459, 460, 461, 462, 463, 464, 465, 466, 468, 473, 474, 475, 476, 477, 478, 481, 482, 483, 484, 485, 490, 492, 493, 494, 495, 496, 497, 499, 500, 501, 502, 504]\n",
            "17 [1, 2, 4, 5, 6, 7, 8, 13, 14, 16, 18, 19, 20, 21, 23, 25, 26, 28, 30, 32, 33, 34, 36, 37, 38, 39, 42, 43, 44, 45, 46, 47, 48, 51, 52, 53, 55, 57, 60, 61, 62, 64, 66, 68, 70, 73, 74, 77, 80, 83, 85, 86, 87, 91, 93, 94, 96, 97, 98, 101, 105, 106, 108, 109, 111, 112, 115, 116, 120, 121, 124, 125, 126, 127, 128, 129, 130, 132, 133, 136, 137, 139, 140, 141, 144, 145, 146, 147, 148, 149, 150, 151, 153, 154, 157, 158, 160, 162, 163, 165, 166, 167, 169, 171, 172, 173, 177, 178, 180, 181, 182, 185, 186, 188, 193, 194, 195, 196, 198, 199, 201, 205, 206, 208, 209, 211, 213, 214, 215, 219, 220, 222, 224, 227, 228, 230, 234, 235, 237, 238, 239, 240, 241, 242, 243, 246, 247, 249, 250, 253, 256, 257, 259, 262, 264, 265, 266, 268, 270, 271, 272, 273, 275, 277, 278, 281, 282, 283, 284, 285, 287, 291, 292, 294, 296, 298, 299, 300, 301, 302, 305, 307, 308, 310, 311, 312, 313, 314, 315, 320, 322, 323, 324, 325, 327, 328, 329, 330, 331, 332, 333, 337, 339, 341, 342, 347, 348, 349, 352, 353, 354, 357, 360, 362, 363, 364, 368, 369, 371, 372, 373, 378, 380, 381, 382, 383, 384, 385, 386, 390, 392, 395, 396, 398, 399, 400, 401, 404, 405, 407, 408, 409, 411, 412, 414, 415, 416, 417, 418, 420, 422, 423, 425, 426, 427, 428, 429, 430, 433, 435, 437, 440, 441, 442, 444, 446, 447, 448, 451, 452, 454, 455, 456, 458, 459, 460, 461, 462, 463, 464, 465, 466, 467, 470, 471, 472, 476, 477, 481, 484, 485, 486, 487, 489, 492, 493, 494, 497, 499, 500, 501, 502, 504]\n",
            "19 [1, 2, 4, 5, 7, 8, 10, 11, 12, 15, 18, 19, 20, 25, 26, 27, 29, 31, 32, 33, 34, 35, 36, 37, 38, 41, 44, 45, 47, 48, 49, 51, 55, 56, 57, 61, 62, 63, 65, 69, 70, 73, 74, 76, 77, 78, 79, 80, 81, 85, 86, 88, 89, 90, 91, 93, 94, 95, 96, 97, 98, 99, 100, 101, 102, 104, 105, 109, 111, 113, 117, 120, 122, 124, 127, 129, 130, 131, 133, 134, 136, 137, 138, 139, 142, 143, 144, 145, 147, 148, 149, 151, 152, 153, 154, 155, 156, 159, 161, 162, 163, 164, 166, 168, 170, 171, 173, 174, 175, 176, 177, 178, 179, 180, 181, 182, 183, 184, 185, 186, 188, 190, 192, 193, 194, 195, 197, 198, 199, 201, 202, 203, 204, 205, 206, 208, 209, 211, 212, 215, 216, 217, 221, 224, 225, 227, 229, 235, 236, 237, 239, 241, 243, 245, 246, 247, 249, 251, 252, 253, 254, 256, 257, 259, 260, 261, 265, 268, 270, 271, 275, 276, 279, 280, 284, 285, 287, 288, 290, 291, 292, 293, 294, 296, 301, 302, 303, 304, 305, 306, 308, 311, 316, 318, 319, 321, 323, 324, 325, 326, 330, 331, 338, 339, 340, 341, 342, 343, 346, 347, 349, 350, 351, 352, 353, 354, 355, 356, 358, 361, 364, 365, 368, 369, 375, 376, 378, 380, 381, 382, 383, 385, 386, 387, 388, 392, 395, 396, 397, 398, 399, 400, 401, 402, 406, 409, 410, 411, 421, 422, 424, 425, 427, 428, 431, 433, 436, 438, 441, 442, 443, 444, 446, 447, 449, 452, 453, 454, 455, 456, 457, 458, 459, 461, 462, 466, 467, 468, 469, 470, 471, 473, 475, 477, 479, 481, 482, 483, 485, 487, 488, 489, 490, 491, 492, 493, 494, 496, 497, 499, 500, 502, 503]\n",
            "24 [1, 2, 4, 5, 6, 7, 8, 10, 11, 14, 15, 16, 17, 19, 20, 23, 24, 25, 26, 27, 28, 29, 35, 36, 37, 38, 39, 40, 43, 44, 45, 46, 50, 52, 54, 57, 58, 59, 60, 62, 63, 64, 65, 68, 69, 70, 72, 73, 74, 75, 76, 77, 78, 79, 80, 81, 82, 85, 90, 92, 93, 97, 100, 101, 102, 104, 105, 113, 114, 119, 120, 121, 124, 125, 126, 129, 131, 133, 137, 138, 142, 143, 144, 145, 146, 149, 150, 152, 153, 154, 155, 156, 157, 161, 162, 164, 167, 168, 169, 170, 171, 173, 174, 175, 176, 178, 179, 181, 182, 183, 184, 186, 187, 189, 190, 191, 193, 194, 197, 198, 199, 200, 201, 202, 203, 204, 206, 207, 210, 211, 212, 214, 216, 217, 220, 221, 222, 223, 226, 229, 230, 232, 233, 235, 236, 237, 240, 242, 244, 245, 246, 251, 252, 253, 254, 255, 256, 257, 259, 260, 263, 264, 266, 267, 270, 271, 274, 276, 279, 280, 281, 282, 283, 284, 285, 287, 288, 290, 292, 294, 296, 297, 298, 300, 301, 305, 307, 308, 312, 313, 314, 315, 317, 318, 322, 323, 325, 327, 329, 332, 333, 337, 338, 339, 340, 341, 342, 346, 348, 349, 350, 352, 354, 355, 356, 358, 361, 363, 364, 365, 366, 367, 368, 371, 374, 376, 377, 379, 381, 382, 383, 387, 388, 389, 390, 391, 392, 393, 394, 395, 396, 398, 399, 400, 401, 404, 405, 406, 407, 408, 410, 412, 416, 417, 418, 419, 420, 421, 424, 427, 428, 429, 431, 432, 433, 434, 436, 438, 439, 441, 442, 443, 447, 448, 449, 451, 454, 456, 457, 459, 460, 464, 465, 466, 470, 471, 473, 474, 475, 476, 481, 485, 486, 488, 492, 494, 497, 498, 499, 500, 501, 502, 505]\n",
            "26 [1, 2, 4, 5, 6, 7, 8, 9, 10, 14, 15, 16, 17, 19, 20, 21, 22, 24, 26, 28, 30, 33, 34, 35, 36, 42, 43, 44, 45, 46, 49, 51, 52, 54, 55, 57, 62, 63, 64, 66, 68, 69, 70, 73, 74, 76, 78, 79, 82, 83, 84, 85, 87, 88, 90, 91, 92, 93, 94, 96, 98, 99, 100, 102, 105, 106, 107, 108, 109, 110, 111, 113, 114, 115, 117, 118, 119, 120, 125, 127, 129, 131, 132, 133, 135, 136, 137, 140, 141, 142, 144, 149, 150, 153, 155, 156, 157, 158, 161, 163, 164, 165, 167, 168, 169, 170, 171, 173, 174, 176, 178, 180, 181, 182, 183, 184, 186, 187, 188, 189, 190, 195, 196, 197, 198, 201, 203, 204, 205, 206, 208, 212, 213, 214, 215, 217, 218, 219, 221, 223, 227, 228, 229, 230, 232, 233, 234, 237, 238, 239, 240, 241, 242, 245, 247, 248, 249, 251, 252, 253, 254, 255, 256, 258, 259, 260, 261, 262, 265, 267, 271, 272, 274, 275, 277, 279, 280, 281, 283, 284, 285, 287, 289, 290, 291, 294, 295, 302, 305, 307, 308, 309, 310, 312, 313, 314, 316, 317, 319, 323, 326, 328, 329, 333, 334, 335, 339, 340, 342, 343, 346, 347, 351, 352, 354, 355, 356, 357, 358, 359, 360, 361, 362, 367, 372, 373, 376, 377, 378, 380, 381, 383, 384, 385, 386, 387, 389, 390, 391, 393, 395, 396, 398, 399, 401, 403, 406, 407, 409, 412, 415, 417, 418, 419, 421, 422, 423, 424, 425, 426, 428, 429, 435, 437, 440, 444, 446, 449, 450, 451, 452, 453, 454, 455, 456, 457, 458, 460, 463, 464, 465, 466, 467, 468, 475, 476, 477, 478, 480, 481, 482, 485, 486, 488, 489, 490, 491, 493, 495, 496, 499, 500, 504]\n",
            "27 [1, 2, 5, 6, 7, 8, 10, 11, 12, 13, 14, 16, 17, 18, 20, 21, 22, 24, 26, 30, 31, 32, 34, 35, 36, 37, 38, 42, 44, 45, 46, 49, 52, 53, 54, 55, 59, 62, 64, 66, 68, 69, 70, 71, 73, 74, 75, 76, 77, 78, 83, 87, 88, 91, 92, 93, 94, 96, 97, 99, 102, 103, 105, 106, 107, 109, 111, 112, 113, 114, 115, 117, 122, 125, 126, 127, 129, 130, 131, 132, 135, 138, 141, 144, 145, 146, 147, 151, 154, 155, 157, 158, 160, 161, 162, 163, 164, 165, 166, 170, 171, 173, 174, 175, 176, 177, 178, 179, 181, 182, 184, 185, 187, 188, 190, 192, 193, 195, 196, 199, 203, 208, 210, 211, 212, 213, 214, 216, 217, 219, 220, 224, 226, 227, 228, 229, 230, 231, 232, 235, 239, 240, 241, 242, 243, 244, 246, 247, 248, 249, 251, 256, 259, 261, 262, 263, 264, 265, 266, 267, 268, 269, 270, 272, 273, 274, 275, 276, 280, 281, 285, 289, 291, 296, 297, 301, 302, 303, 304, 305, 307, 308, 309, 310, 311, 313, 316, 317, 320, 322, 327, 329, 330, 335, 338, 339, 340, 342, 344, 346, 347, 348, 350, 352, 354, 355, 356, 357, 358, 359, 361, 362, 363, 364, 365, 366, 369, 371, 372, 373, 375, 376, 378, 379, 381, 382, 383, 384, 385, 388, 389, 390, 395, 397, 398, 399, 401, 404, 406, 407, 408, 410, 414, 415, 416, 417, 418, 419, 423, 424, 425, 429, 430, 431, 433, 434, 435, 437, 438, 439, 440, 442, 444, 446, 448, 449, 451, 453, 454, 457, 458, 461, 465, 468, 469, 470, 471, 472, 473, 474, 475, 476, 477, 480, 481, 482, 483, 484, 485, 486, 488, 489, 490, 491, 493, 494, 495, 497, 499, 500, 501, 504, 505]\n",
            "28 [2, 3, 5, 6, 9, 10, 11, 12, 13, 14, 15, 16, 18, 19, 21, 22, 23, 26, 29, 33, 35, 36, 37, 38, 39, 40, 42, 43, 47, 48, 49, 50, 53, 54, 55, 56, 57, 58, 62, 63, 64, 66, 67, 71, 72, 73, 74, 75, 77, 78, 79, 80, 81, 83, 85, 90, 91, 92, 97, 99, 100, 101, 102, 104, 105, 107, 108, 109, 110, 112, 114, 115, 116, 117, 118, 119, 121, 122, 124, 126, 127, 128, 129, 131, 132, 135, 137, 139, 141, 145, 146, 148, 150, 151, 152, 153, 154, 157, 158, 159, 163, 164, 165, 166, 168, 169, 170, 176, 177, 178, 179, 181, 182, 186, 188, 189, 190, 192, 193, 197, 198, 199, 200, 201, 202, 203, 205, 207, 211, 214, 216, 217, 218, 219, 223, 225, 227, 229, 230, 231, 232, 233, 234, 238, 239, 240, 242, 245, 246, 247, 249, 250, 251, 253, 254, 257, 261, 262, 263, 264, 269, 270, 272, 275, 276, 277, 278, 279, 281, 282, 283, 284, 286, 288, 289, 292, 293, 294, 295, 296, 297, 298, 300, 301, 302, 306, 308, 311, 312, 313, 316, 317, 318, 321, 323, 324, 328, 329, 330, 331, 336, 337, 338, 340, 341, 343, 344, 345, 346, 348, 350, 351, 352, 354, 355, 356, 360, 363, 365, 366, 370, 371, 372, 375, 377, 378, 379, 380, 381, 382, 383, 387, 388, 392, 393, 394, 395, 398, 400, 401, 402, 406, 407, 408, 409, 410, 411, 412, 413, 414, 416, 420, 421, 422, 423, 428, 430, 431, 432, 433, 435, 437, 438, 440, 441, 442, 443, 444, 447, 448, 449, 451, 453, 454, 455, 456, 458, 460, 461, 462, 464, 468, 471, 474, 475, 476, 477, 479, 480, 481, 482, 484, 487, 489, 490, 491, 492, 496, 497, 498, 501, 504, 505]\n",
            "29 [1, 2, 3, 6, 7, 8, 9, 10, 11, 12, 13, 14, 15, 16, 17, 18, 22, 25, 26, 27, 28, 29, 30, 31, 33, 34, 35, 36, 37, 38, 39, 40, 41, 43, 45, 47, 49, 50, 51, 54, 55, 56, 57, 59, 60, 62, 63, 66, 68, 69, 70, 72, 73, 74, 75, 76, 80, 83, 84, 87, 89, 90, 91, 92, 93, 95, 96, 97, 98, 99, 101, 102, 103, 105, 106, 111, 112, 114, 115, 116, 120, 122, 123, 125, 126, 127, 128, 130, 131, 132, 133, 135, 137, 140, 142, 149, 150, 151, 152, 153, 154, 155, 156, 160, 162, 163, 168, 169, 170, 174, 175, 176, 179, 183, 184, 185, 187, 188, 189, 192, 193, 194, 198, 201, 202, 203, 204, 205, 206, 208, 210, 211, 212, 213, 215, 217, 220, 223, 224, 225, 227, 228, 229, 230, 231, 232, 233, 235, 237, 238, 241, 242, 243, 244, 245, 246, 247, 248, 249, 251, 254, 257, 260, 261, 262, 263, 266, 272, 274, 276, 277, 278, 279, 280, 281, 283, 284, 285, 288, 289, 291, 292, 293, 298, 300, 301, 304, 305, 306, 307, 309, 310, 311, 312, 313, 315, 316, 318, 320, 321, 325, 328, 330, 332, 334, 335, 339, 340, 341, 342, 343, 344, 346, 347, 348, 350, 352, 353, 355, 357, 358, 363, 365, 366, 367, 368, 369, 370, 371, 372, 374, 377, 378, 382, 383, 384, 386, 387, 388, 389, 391, 392, 395, 396, 397, 398, 399, 400, 401, 403, 406, 407, 408, 409, 411, 412, 416, 421, 423, 424, 425, 427, 428, 429, 432, 435, 437, 438, 442, 443, 448, 449, 450, 451, 452, 453, 454, 455, 456, 458, 461, 462, 463, 464, 468, 469, 470, 471, 472, 475, 476, 477, 479, 481, 482, 483, 485, 488, 489, 492, 494, 496, 502]\n"
          ],
          "name": "stdout"
        }
      ]
    },
    {
      "cell_type": "code",
      "metadata": {
        "id": "quvTZAQe3bzR",
        "colab_type": "code",
        "colab": {}
      },
      "source": [
        "def mean(array):\n",
        "  return sum(array)/max(len(array),1)"
      ],
      "execution_count": 145,
      "outputs": []
    },
    {
      "cell_type": "code",
      "metadata": {
        "id": "b0w8C0Er4Py9",
        "colab_type": "code",
        "colab": {
          "base_uri": "https://localhost:8080/",
          "height": 34
        },
        "outputId": "e13ee872-fc47-4e61-f5fc-5ca66d5a6f01"
      },
      "source": [
        "mean([1,2,3])"
      ],
      "execution_count": 146,
      "outputs": [
        {
          "output_type": "execute_result",
          "data": {
            "text/plain": [
              "2.0"
            ]
          },
          "metadata": {
            "tags": []
          },
          "execution_count": 146
        }
      ]
    },
    {
      "cell_type": "code",
      "metadata": {
        "id": "Fog_6DNdS-h_",
        "colab_type": "code",
        "colab": {
          "base_uri": "https://localhost:8080/",
          "height": 134
        },
        "outputId": "dca52779-f194-479e-c937-b6468b0973df"
      },
      "source": [
        "y_oob=[]\n",
        "for i in range(0,6):\n",
        "  cnt,y_oob_internal=0,[]\n",
        "  for indx,j in enumerate(list_selected_row):\n",
        "    if i not in j:\n",
        "      cnt+=1\n",
        "      # print(\"i-->\",i,\"indx-->\",indx,\"reg_tree_{}\".format(indx),\"j-->\",sorted(j))\n",
        "      y_oob_internal.append(globals()['reg_tree_{}'.format(indx+1)].predict(x[i][list_selected_columns[indx]].reshape(1,-1))[0])\n",
        "      # print(\"cnt-->\",cnt,\"y_oob_internal-->\",y_oob_internal)\n",
        "  print(mean(y_oob_internal))\n",
        "  y_oob.append(mean(y_oob_internal))\n",
        "      # print(x[list_selected_row[indx+1]][:,list_selected_columns[indx+1]])\n",
        "print(y_oob)"
      ],
      "execution_count": 165,
      "outputs": [
        {
          "output_type": "stream",
          "text": [
            "26.71666666666667\n",
            "24.22857142857143\n",
            "32.400000000000006\n",
            "34.89090909090908\n",
            "33.21153846153846\n",
            "22.916666666666668\n",
            "[26.71666666666667, 24.22857142857143, 32.400000000000006, 34.89090909090908, 33.21153846153846, 22.916666666666668]\n"
          ],
          "name": "stdout"
        }
      ]
    },
    {
      "cell_type": "code",
      "metadata": {
        "id": "KYUkZzWU4_tr",
        "colab_type": "code",
        "colab": {
          "base_uri": "https://localhost:8080/",
          "height": 790
        },
        "outputId": "d002407b-2a77-47a5-8784-3c98630ce476"
      },
      "source": [
        "y"
      ],
      "execution_count": 148,
      "outputs": [
        {
          "output_type": "execute_result",
          "data": {
            "text/plain": [
              "array([24. , 21.6, 34.7, 33.4, 36.2, 28.7, 22.9, 27.1, 16.5, 18.9, 15. ,\n",
              "       18.9, 21.7, 20.4, 18.2, 19.9, 23.1, 17.5, 20.2, 18.2, 13.6, 19.6,\n",
              "       15.2, 14.5, 15.6, 13.9, 16.6, 14.8, 18.4, 21. , 12.7, 14.5, 13.2,\n",
              "       13.1, 13.5, 18.9, 20. , 21. , 24.7, 30.8, 34.9, 26.6, 25.3, 24.7,\n",
              "       21.2, 19.3, 20. , 16.6, 14.4, 19.4, 19.7, 20.5, 25. , 23.4, 18.9,\n",
              "       35.4, 24.7, 31.6, 23.3, 19.6, 18.7, 16. , 22.2, 25. , 33. , 23.5,\n",
              "       19.4, 22. , 17.4, 20.9, 24.2, 21.7, 22.8, 23.4, 24.1, 21.4, 20. ,\n",
              "       20.8, 21.2, 20.3, 28. , 23.9, 24.8, 22.9, 23.9, 26.6, 22.5, 22.2,\n",
              "       23.6, 28.7, 22.6, 22. , 22.9, 25. , 20.6, 28.4, 21.4, 38.7, 43.8,\n",
              "       33.2, 27.5, 26.5, 18.6, 19.3, 20.1, 19.5, 19.5, 20.4, 19.8, 19.4,\n",
              "       21.7, 22.8, 18.8, 18.7, 18.5, 18.3, 21.2, 19.2, 20.4, 19.3, 22. ,\n",
              "       20.3, 20.5, 17.3, 18.8, 21.4, 15.7, 16.2, 18. , 14.3, 19.2, 19.6,\n",
              "       23. , 18.4, 15.6, 18.1, 17.4, 17.1, 13.3, 17.8, 14. , 14.4, 13.4,\n",
              "       15.6, 11.8, 13.8, 15.6, 14.6, 17.8, 15.4, 21.5, 19.6, 15.3, 19.4,\n",
              "       17. , 15.6, 13.1, 41.3, 24.3, 23.3, 27. , 50. , 50. , 50. , 22.7,\n",
              "       25. , 50. , 23.8, 23.8, 22.3, 17.4, 19.1, 23.1, 23.6, 22.6, 29.4,\n",
              "       23.2, 24.6, 29.9, 37.2, 39.8, 36.2, 37.9, 32.5, 26.4, 29.6, 50. ,\n",
              "       32. , 29.8, 34.9, 37. , 30.5, 36.4, 31.1, 29.1, 50. , 33.3, 30.3,\n",
              "       34.6, 34.9, 32.9, 24.1, 42.3, 48.5, 50. , 22.6, 24.4, 22.5, 24.4,\n",
              "       20. , 21.7, 19.3, 22.4, 28.1, 23.7, 25. , 23.3, 28.7, 21.5, 23. ,\n",
              "       26.7, 21.7, 27.5, 30.1, 44.8, 50. , 37.6, 31.6, 46.7, 31.5, 24.3,\n",
              "       31.7, 41.7, 48.3, 29. , 24. , 25.1, 31.5, 23.7, 23.3, 22. , 20.1,\n",
              "       22.2, 23.7, 17.6, 18.5, 24.3, 20.5, 24.5, 26.2, 24.4, 24.8, 29.6,\n",
              "       42.8, 21.9, 20.9, 44. , 50. , 36. , 30.1, 33.8, 43.1, 48.8, 31. ,\n",
              "       36.5, 22.8, 30.7, 50. , 43.5, 20.7, 21.1, 25.2, 24.4, 35.2, 32.4,\n",
              "       32. , 33.2, 33.1, 29.1, 35.1, 45.4, 35.4, 46. , 50. , 32.2, 22. ,\n",
              "       20.1, 23.2, 22.3, 24.8, 28.5, 37.3, 27.9, 23.9, 21.7, 28.6, 27.1,\n",
              "       20.3, 22.5, 29. , 24.8, 22. , 26.4, 33.1, 36.1, 28.4, 33.4, 28.2,\n",
              "       22.8, 20.3, 16.1, 22.1, 19.4, 21.6, 23.8, 16.2, 17.8, 19.8, 23.1,\n",
              "       21. , 23.8, 23.1, 20.4, 18.5, 25. , 24.6, 23. , 22.2, 19.3, 22.6,\n",
              "       19.8, 17.1, 19.4, 22.2, 20.7, 21.1, 19.5, 18.5, 20.6, 19. , 18.7,\n",
              "       32.7, 16.5, 23.9, 31.2, 17.5, 17.2, 23.1, 24.5, 26.6, 22.9, 24.1,\n",
              "       18.6, 30.1, 18.2, 20.6, 17.8, 21.7, 22.7, 22.6, 25. , 19.9, 20.8,\n",
              "       16.8, 21.9, 27.5, 21.9, 23.1, 50. , 50. , 50. , 50. , 50. , 13.8,\n",
              "       13.8, 15. , 13.9, 13.3, 13.1, 10.2, 10.4, 10.9, 11.3, 12.3,  8.8,\n",
              "        7.2, 10.5,  7.4, 10.2, 11.5, 15.1, 23.2,  9.7, 13.8, 12.7, 13.1,\n",
              "       12.5,  8.5,  5. ,  6.3,  5.6,  7.2, 12.1,  8.3,  8.5,  5. , 11.9,\n",
              "       27.9, 17.2, 27.5, 15. , 17.2, 17.9, 16.3,  7. ,  7.2,  7.5, 10.4,\n",
              "        8.8,  8.4, 16.7, 14.2, 20.8, 13.4, 11.7,  8.3, 10.2, 10.9, 11. ,\n",
              "        9.5, 14.5, 14.1, 16.1, 14.3, 11.7, 13.4,  9.6,  8.7,  8.4, 12.8,\n",
              "       10.5, 17.1, 18.4, 15.4, 10.8, 11.8, 14.9, 12.6, 14.1, 13. , 13.4,\n",
              "       15.2, 16.1, 17.8, 14.9, 14.1, 12.7, 13.5, 14.9, 20. , 16.4, 17.7,\n",
              "       19.5, 20.2, 21.4, 19.9, 19. , 19.1, 19.1, 20.1, 19.9, 19.6, 23.2,\n",
              "       29.8, 13.8, 13.3, 16.7, 12. , 14.6, 21.4, 23. , 23.7, 25. , 21.8,\n",
              "       20.6, 21.2, 19.1, 20.6, 15.2,  7. ,  8.1, 13.6, 20.1, 21.8, 24.5,\n",
              "       23.1, 19.7, 18.3, 21.2, 17.5, 16.8, 22.4, 20.6, 23.9, 22. , 11.9])"
            ]
          },
          "metadata": {
            "tags": []
          },
          "execution_count": 148
        }
      ]
    },
    {
      "cell_type": "code",
      "metadata": {
        "id": "4liPVG3klltM",
        "colab_type": "code",
        "colab": {}
      },
      "source": [
        ""
      ],
      "execution_count": null,
      "outputs": []
    },
    {
      "cell_type": "code",
      "metadata": {
        "id": "fbuysKeUir6w",
        "colab_type": "code",
        "colab": {
          "base_uri": "https://localhost:8080/",
          "height": 238
        },
        "outputId": "e6482703-5343-492a-a576-fe7a4ca22e44"
      },
      "source": [
        "for i in range(0,1):\n",
        "  for indx,j in enumerate(list_selected_row):\n",
        "    if i not in j:\n",
        "      print(\"i-->\",i,\"indx-->\",indx,\"j-->\",sorted(j))\n",
        "      # globals() ['Y_pred_{}'.format(i)]=globals()['reg_tree_{}'.format(indx+1)].predict(x[list_selected_row[indx+1]][:,list_selected_columns[indx+1]])\n",
        "      # print(globals()['reg_tree_{}'.format(i+1)].predict(x[list_selected_row[i]][:,list_selected_columns[i]]))"
      ],
      "execution_count": 98,
      "outputs": [
        {
          "output_type": "stream",
          "text": [
            "i--> 0 indx--> 3 j--> [1, 2, 3, 4, 5, 6, 7, 8, 9, 10, 11, 12, 16, 19, 20, 21, 23, 24, 25, 29, 30, 31, 32, 33, 34, 35, 36, 38, 40, 41, 45, 47, 50, 51, 54, 55, 56, 57, 59, 62, 63, 64, 67, 69, 70, 71, 72, 74, 75, 81, 84, 85, 88, 89, 90, 91, 92, 93, 94, 96, 99, 100, 101, 102, 103, 104, 105, 107, 108, 109, 112, 113, 114, 115, 121, 122, 123, 124, 127, 128, 129, 131, 132, 133, 136, 137, 140, 142, 144, 145, 147, 151, 153, 154, 155, 156, 157, 163, 167, 168, 170, 171, 172, 174, 175, 176, 178, 179, 180, 184, 185, 187, 188, 189, 190, 191, 192, 193, 194, 196, 200, 202, 204, 205, 207, 208, 209, 212, 213, 216, 217, 219, 220, 221, 226, 227, 229, 230, 231, 232, 233, 235, 237, 239, 240, 242, 246, 247, 251, 252, 253, 255, 256, 257, 260, 261, 262, 263, 264, 268, 272, 273, 275, 276, 277, 278, 279, 280, 281, 283, 284, 287, 288, 289, 290, 292, 294, 295, 297, 299, 301, 302, 305, 306, 307, 308, 309, 310, 312, 313, 315, 316, 317, 318, 319, 320, 321, 322, 324, 328, 329, 330, 331, 332, 335, 339, 340, 342, 343, 346, 347, 348, 349, 351, 353, 355, 357, 360, 361, 362, 363, 364, 365, 367, 368, 371, 372, 374, 379, 380, 381, 384, 385, 387, 388, 389, 390, 391, 392, 395, 397, 398, 399, 400, 401, 403, 404, 408, 410, 413, 415, 416, 417, 421, 422, 423, 425, 429, 431, 433, 434, 435, 437, 439, 441, 442, 443, 447, 449, 450, 451, 452, 454, 456, 457, 460, 461, 464, 465, 466, 469, 470, 471, 472, 474, 475, 476, 478, 480, 484, 486, 487, 488, 491, 493, 494, 496, 497, 498, 500, 501, 503, 505]\n",
            "i--> 0 indx--> 4 j--> [2, 3, 4, 6, 7, 8, 9, 10, 14, 16, 20, 21, 22, 23, 26, 27, 32, 33, 34, 35, 36, 38, 39, 40, 42, 45, 49, 50, 53, 54, 55, 57, 61, 62, 63, 64, 65, 66, 68, 69, 70, 71, 74, 75, 77, 79, 80, 81, 84, 86, 89, 91, 93, 94, 102, 104, 105, 106, 108, 109, 112, 113, 116, 117, 119, 121, 125, 126, 127, 129, 131, 133, 134, 135, 136, 137, 139, 140, 141, 142, 143, 145, 146, 148, 149, 150, 151, 152, 153, 155, 156, 157, 159, 160, 161, 164, 166, 167, 168, 170, 172, 173, 174, 175, 177, 178, 180, 181, 182, 183, 184, 185, 187, 188, 189, 190, 191, 192, 193, 194, 195, 196, 199, 200, 201, 203, 204, 205, 206, 208, 209, 211, 212, 213, 215, 217, 218, 219, 220, 221, 223, 225, 226, 227, 229, 230, 232, 234, 235, 236, 238, 239, 240, 241, 242, 250, 251, 252, 253, 257, 258, 263, 264, 266, 267, 268, 269, 272, 274, 275, 276, 277, 279, 280, 282, 283, 287, 288, 289, 290, 291, 292, 296, 297, 298, 299, 301, 302, 304, 305, 307, 308, 309, 310, 312, 315, 319, 321, 322, 323, 324, 326, 329, 330, 333, 334, 336, 337, 342, 343, 344, 345, 347, 348, 349, 351, 355, 356, 357, 358, 361, 364, 365, 367, 369, 371, 372, 373, 375, 376, 379, 381, 382, 383, 384, 385, 389, 390, 392, 395, 396, 397, 399, 404, 405, 407, 409, 410, 412, 413, 415, 416, 418, 420, 423, 424, 429, 430, 432, 435, 436, 440, 442, 443, 444, 445, 446, 449, 450, 451, 454, 456, 457, 459, 460, 461, 463, 464, 465, 467, 468, 469, 471, 472, 473, 474, 475, 477, 479, 480, 481, 486, 487, 490, 493, 494, 496, 498, 500, 501, 502, 504, 505]\n",
            "i--> 0 indx--> 10 j--> [1, 3, 4, 5, 7, 9, 10, 11, 12, 14, 15, 17, 19, 20, 21, 23, 24, 27, 28, 29, 30, 31, 32, 33, 34, 36, 38, 39, 41, 43, 44, 45, 47, 50, 52, 54, 55, 57, 58, 60, 62, 63, 69, 71, 72, 74, 75, 76, 78, 79, 83, 84, 85, 86, 88, 89, 90, 92, 94, 96, 98, 99, 102, 105, 107, 108, 110, 114, 115, 116, 121, 123, 124, 128, 132, 133, 134, 135, 136, 139, 140, 141, 143, 144, 145, 146, 147, 149, 150, 151, 152, 154, 155, 156, 157, 158, 159, 160, 161, 163, 167, 169, 170, 172, 173, 174, 175, 177, 178, 179, 180, 181, 182, 185, 186, 188, 190, 191, 192, 193, 195, 196, 197, 198, 199, 202, 203, 204, 205, 207, 209, 210, 211, 213, 214, 217, 218, 219, 220, 221, 228, 229, 230, 231, 236, 239, 240, 241, 246, 248, 250, 251, 252, 253, 254, 255, 256, 257, 258, 261, 262, 263, 265, 266, 267, 268, 269, 272, 274, 276, 277, 278, 279, 281, 282, 283, 287, 289, 291, 292, 293, 294, 296, 299, 300, 301, 302, 303, 304, 306, 310, 311, 314, 315, 316, 317, 318, 319, 320, 321, 323, 325, 326, 327, 328, 329, 331, 332, 335, 337, 340, 341, 342, 346, 347, 348, 350, 351, 352, 353, 354, 356, 357, 358, 360, 362, 363, 364, 365, 366, 367, 369, 372, 374, 375, 377, 382, 383, 384, 386, 392, 394, 397, 398, 399, 400, 402, 403, 405, 406, 407, 409, 410, 411, 413, 417, 419, 422, 423, 428, 429, 430, 431, 432, 433, 435, 437, 438, 439, 442, 443, 445, 447, 450, 451, 452, 453, 454, 455, 458, 459, 460, 466, 468, 471, 472, 473, 476, 477, 478, 479, 480, 481, 486, 491, 492, 493, 496, 498, 499, 502, 503, 504]\n",
            "i--> 0 indx--> 11 j--> [1, 2, 3, 4, 5, 6, 8, 11, 13, 14, 15, 19, 21, 22, 23, 24, 26, 27, 30, 34, 36, 37, 39, 40, 41, 42, 43, 44, 45, 46, 48, 53, 55, 57, 58, 60, 63, 64, 65, 68, 70, 73, 76, 77, 78, 81, 83, 84, 88, 89, 90, 94, 95, 97, 99, 100, 101, 102, 103, 105, 108, 110, 113, 115, 116, 118, 120, 126, 127, 128, 129, 130, 131, 133, 134, 135, 136, 138, 142, 143, 145, 146, 147, 148, 151, 152, 153, 155, 156, 157, 158, 160, 162, 163, 164, 167, 168, 170, 173, 174, 177, 178, 180, 185, 186, 190, 192, 193, 194, 195, 199, 200, 202, 203, 206, 207, 211, 212, 213, 214, 215, 219, 220, 221, 222, 223, 225, 226, 227, 228, 229, 230, 231, 232, 233, 234, 235, 238, 239, 241, 242, 243, 244, 247, 249, 251, 253, 254, 255, 257, 261, 262, 263, 264, 265, 268, 271, 272, 273, 274, 276, 277, 281, 282, 283, 284, 285, 286, 288, 289, 291, 292, 293, 295, 296, 297, 299, 300, 301, 302, 307, 308, 309, 310, 312, 313, 316, 317, 318, 319, 320, 322, 324, 325, 330, 332, 333, 334, 335, 336, 337, 340, 341, 342, 344, 348, 349, 353, 356, 357, 359, 360, 362, 365, 369, 370, 371, 372, 373, 375, 377, 379, 380, 381, 382, 384, 386, 388, 389, 390, 391, 392, 394, 395, 397, 399, 400, 401, 402, 404, 405, 407, 408, 409, 410, 411, 413, 414, 415, 416, 421, 422, 423, 427, 428, 430, 433, 435, 436, 441, 442, 443, 444, 447, 449, 452, 454, 455, 459, 460, 461, 462, 463, 464, 465, 466, 467, 470, 472, 473, 474, 475, 476, 477, 478, 479, 480, 481, 483, 484, 485, 486, 487, 488, 489, 490, 492, 493, 494, 500, 502, 503, 504]\n",
            "i--> 0 indx--> 16 j--> [1, 4, 5, 6, 7, 8, 9, 10, 12, 13, 16, 19, 22, 23, 24, 25, 26, 27, 30, 32, 33, 39, 40, 43, 44, 45, 46, 47, 51, 52, 55, 56, 57, 58, 60, 62, 63, 67, 68, 69, 71, 73, 77, 78, 81, 84, 85, 88, 89, 90, 91, 92, 93, 94, 95, 96, 98, 99, 102, 103, 105, 106, 108, 111, 112, 114, 119, 120, 121, 122, 123, 124, 129, 131, 132, 133, 136, 137, 138, 139, 140, 141, 142, 149, 151, 155, 156, 159, 160, 161, 164, 166, 169, 170, 171, 172, 173, 175, 176, 182, 183, 184, 185, 187, 191, 192, 194, 197, 198, 199, 200, 201, 202, 203, 205, 206, 207, 208, 210, 212, 216, 217, 218, 219, 220, 221, 222, 223, 224, 225, 226, 227, 228, 230, 231, 232, 233, 234, 236, 237, 238, 239, 242, 245, 247, 248, 249, 251, 254, 256, 257, 258, 260, 261, 262, 263, 265, 266, 268, 272, 273, 274, 276, 278, 279, 281, 282, 284, 285, 286, 287, 293, 295, 296, 297, 298, 299, 305, 308, 309, 311, 312, 314, 315, 317, 320, 321, 324, 327, 329, 331, 332, 333, 336, 338, 340, 341, 342, 343, 344, 347, 348, 350, 352, 354, 358, 359, 360, 361, 364, 365, 366, 368, 370, 371, 374, 376, 378, 380, 381, 383, 385, 386, 388, 389, 390, 393, 394, 396, 398, 399, 402, 403, 404, 406, 407, 408, 410, 411, 412, 414, 415, 416, 417, 419, 420, 421, 422, 424, 426, 427, 428, 429, 430, 432, 433, 434, 436, 437, 438, 439, 442, 443, 446, 448, 450, 451, 453, 455, 456, 457, 459, 460, 461, 462, 463, 464, 465, 466, 468, 473, 474, 475, 476, 477, 478, 481, 482, 483, 484, 485, 490, 492, 493, 494, 495, 496, 497, 499, 500, 501, 502, 504]\n",
            "i--> 0 indx--> 17 j--> [1, 2, 4, 5, 6, 7, 8, 13, 14, 16, 18, 19, 20, 21, 23, 25, 26, 28, 30, 32, 33, 34, 36, 37, 38, 39, 42, 43, 44, 45, 46, 47, 48, 51, 52, 53, 55, 57, 60, 61, 62, 64, 66, 68, 70, 73, 74, 77, 80, 83, 85, 86, 87, 91, 93, 94, 96, 97, 98, 101, 105, 106, 108, 109, 111, 112, 115, 116, 120, 121, 124, 125, 126, 127, 128, 129, 130, 132, 133, 136, 137, 139, 140, 141, 144, 145, 146, 147, 148, 149, 150, 151, 153, 154, 157, 158, 160, 162, 163, 165, 166, 167, 169, 171, 172, 173, 177, 178, 180, 181, 182, 185, 186, 188, 193, 194, 195, 196, 198, 199, 201, 205, 206, 208, 209, 211, 213, 214, 215, 219, 220, 222, 224, 227, 228, 230, 234, 235, 237, 238, 239, 240, 241, 242, 243, 246, 247, 249, 250, 253, 256, 257, 259, 262, 264, 265, 266, 268, 270, 271, 272, 273, 275, 277, 278, 281, 282, 283, 284, 285, 287, 291, 292, 294, 296, 298, 299, 300, 301, 302, 305, 307, 308, 310, 311, 312, 313, 314, 315, 320, 322, 323, 324, 325, 327, 328, 329, 330, 331, 332, 333, 337, 339, 341, 342, 347, 348, 349, 352, 353, 354, 357, 360, 362, 363, 364, 368, 369, 371, 372, 373, 378, 380, 381, 382, 383, 384, 385, 386, 390, 392, 395, 396, 398, 399, 400, 401, 404, 405, 407, 408, 409, 411, 412, 414, 415, 416, 417, 418, 420, 422, 423, 425, 426, 427, 428, 429, 430, 433, 435, 437, 440, 441, 442, 444, 446, 447, 448, 451, 452, 454, 455, 456, 458, 459, 460, 461, 462, 463, 464, 465, 466, 467, 470, 471, 472, 476, 477, 481, 484, 485, 486, 487, 489, 492, 493, 494, 497, 499, 500, 501, 502, 504]\n",
            "i--> 0 indx--> 19 j--> [1, 2, 4, 5, 7, 8, 10, 11, 12, 15, 18, 19, 20, 25, 26, 27, 29, 31, 32, 33, 34, 35, 36, 37, 38, 41, 44, 45, 47, 48, 49, 51, 55, 56, 57, 61, 62, 63, 65, 69, 70, 73, 74, 76, 77, 78, 79, 80, 81, 85, 86, 88, 89, 90, 91, 93, 94, 95, 96, 97, 98, 99, 100, 101, 102, 104, 105, 109, 111, 113, 117, 120, 122, 124, 127, 129, 130, 131, 133, 134, 136, 137, 138, 139, 142, 143, 144, 145, 147, 148, 149, 151, 152, 153, 154, 155, 156, 159, 161, 162, 163, 164, 166, 168, 170, 171, 173, 174, 175, 176, 177, 178, 179, 180, 181, 182, 183, 184, 185, 186, 188, 190, 192, 193, 194, 195, 197, 198, 199, 201, 202, 203, 204, 205, 206, 208, 209, 211, 212, 215, 216, 217, 221, 224, 225, 227, 229, 235, 236, 237, 239, 241, 243, 245, 246, 247, 249, 251, 252, 253, 254, 256, 257, 259, 260, 261, 265, 268, 270, 271, 275, 276, 279, 280, 284, 285, 287, 288, 290, 291, 292, 293, 294, 296, 301, 302, 303, 304, 305, 306, 308, 311, 316, 318, 319, 321, 323, 324, 325, 326, 330, 331, 338, 339, 340, 341, 342, 343, 346, 347, 349, 350, 351, 352, 353, 354, 355, 356, 358, 361, 364, 365, 368, 369, 375, 376, 378, 380, 381, 382, 383, 385, 386, 387, 388, 392, 395, 396, 397, 398, 399, 400, 401, 402, 406, 409, 410, 411, 421, 422, 424, 425, 427, 428, 431, 433, 436, 438, 441, 442, 443, 444, 446, 447, 449, 452, 453, 454, 455, 456, 457, 458, 459, 461, 462, 466, 467, 468, 469, 470, 471, 473, 475, 477, 479, 481, 482, 483, 485, 487, 488, 489, 490, 491, 492, 493, 494, 496, 497, 499, 500, 502, 503]\n",
            "i--> 0 indx--> 24 j--> [1, 2, 4, 5, 6, 7, 8, 10, 11, 14, 15, 16, 17, 19, 20, 23, 24, 25, 26, 27, 28, 29, 35, 36, 37, 38, 39, 40, 43, 44, 45, 46, 50, 52, 54, 57, 58, 59, 60, 62, 63, 64, 65, 68, 69, 70, 72, 73, 74, 75, 76, 77, 78, 79, 80, 81, 82, 85, 90, 92, 93, 97, 100, 101, 102, 104, 105, 113, 114, 119, 120, 121, 124, 125, 126, 129, 131, 133, 137, 138, 142, 143, 144, 145, 146, 149, 150, 152, 153, 154, 155, 156, 157, 161, 162, 164, 167, 168, 169, 170, 171, 173, 174, 175, 176, 178, 179, 181, 182, 183, 184, 186, 187, 189, 190, 191, 193, 194, 197, 198, 199, 200, 201, 202, 203, 204, 206, 207, 210, 211, 212, 214, 216, 217, 220, 221, 222, 223, 226, 229, 230, 232, 233, 235, 236, 237, 240, 242, 244, 245, 246, 251, 252, 253, 254, 255, 256, 257, 259, 260, 263, 264, 266, 267, 270, 271, 274, 276, 279, 280, 281, 282, 283, 284, 285, 287, 288, 290, 292, 294, 296, 297, 298, 300, 301, 305, 307, 308, 312, 313, 314, 315, 317, 318, 322, 323, 325, 327, 329, 332, 333, 337, 338, 339, 340, 341, 342, 346, 348, 349, 350, 352, 354, 355, 356, 358, 361, 363, 364, 365, 366, 367, 368, 371, 374, 376, 377, 379, 381, 382, 383, 387, 388, 389, 390, 391, 392, 393, 394, 395, 396, 398, 399, 400, 401, 404, 405, 406, 407, 408, 410, 412, 416, 417, 418, 419, 420, 421, 424, 427, 428, 429, 431, 432, 433, 434, 436, 438, 439, 441, 442, 443, 447, 448, 449, 451, 454, 456, 457, 459, 460, 464, 465, 466, 470, 471, 473, 474, 475, 476, 481, 485, 486, 488, 492, 494, 497, 498, 499, 500, 501, 502, 505]\n",
            "i--> 0 indx--> 26 j--> [1, 2, 4, 5, 6, 7, 8, 9, 10, 14, 15, 16, 17, 19, 20, 21, 22, 24, 26, 28, 30, 33, 34, 35, 36, 42, 43, 44, 45, 46, 49, 51, 52, 54, 55, 57, 62, 63, 64, 66, 68, 69, 70, 73, 74, 76, 78, 79, 82, 83, 84, 85, 87, 88, 90, 91, 92, 93, 94, 96, 98, 99, 100, 102, 105, 106, 107, 108, 109, 110, 111, 113, 114, 115, 117, 118, 119, 120, 125, 127, 129, 131, 132, 133, 135, 136, 137, 140, 141, 142, 144, 149, 150, 153, 155, 156, 157, 158, 161, 163, 164, 165, 167, 168, 169, 170, 171, 173, 174, 176, 178, 180, 181, 182, 183, 184, 186, 187, 188, 189, 190, 195, 196, 197, 198, 201, 203, 204, 205, 206, 208, 212, 213, 214, 215, 217, 218, 219, 221, 223, 227, 228, 229, 230, 232, 233, 234, 237, 238, 239, 240, 241, 242, 245, 247, 248, 249, 251, 252, 253, 254, 255, 256, 258, 259, 260, 261, 262, 265, 267, 271, 272, 274, 275, 277, 279, 280, 281, 283, 284, 285, 287, 289, 290, 291, 294, 295, 302, 305, 307, 308, 309, 310, 312, 313, 314, 316, 317, 319, 323, 326, 328, 329, 333, 334, 335, 339, 340, 342, 343, 346, 347, 351, 352, 354, 355, 356, 357, 358, 359, 360, 361, 362, 367, 372, 373, 376, 377, 378, 380, 381, 383, 384, 385, 386, 387, 389, 390, 391, 393, 395, 396, 398, 399, 401, 403, 406, 407, 409, 412, 415, 417, 418, 419, 421, 422, 423, 424, 425, 426, 428, 429, 435, 437, 440, 444, 446, 449, 450, 451, 452, 453, 454, 455, 456, 457, 458, 460, 463, 464, 465, 466, 467, 468, 475, 476, 477, 478, 480, 481, 482, 485, 486, 488, 489, 490, 491, 493, 495, 496, 499, 500, 504]\n",
            "i--> 0 indx--> 27 j--> [1, 2, 5, 6, 7, 8, 10, 11, 12, 13, 14, 16, 17, 18, 20, 21, 22, 24, 26, 30, 31, 32, 34, 35, 36, 37, 38, 42, 44, 45, 46, 49, 52, 53, 54, 55, 59, 62, 64, 66, 68, 69, 70, 71, 73, 74, 75, 76, 77, 78, 83, 87, 88, 91, 92, 93, 94, 96, 97, 99, 102, 103, 105, 106, 107, 109, 111, 112, 113, 114, 115, 117, 122, 125, 126, 127, 129, 130, 131, 132, 135, 138, 141, 144, 145, 146, 147, 151, 154, 155, 157, 158, 160, 161, 162, 163, 164, 165, 166, 170, 171, 173, 174, 175, 176, 177, 178, 179, 181, 182, 184, 185, 187, 188, 190, 192, 193, 195, 196, 199, 203, 208, 210, 211, 212, 213, 214, 216, 217, 219, 220, 224, 226, 227, 228, 229, 230, 231, 232, 235, 239, 240, 241, 242, 243, 244, 246, 247, 248, 249, 251, 256, 259, 261, 262, 263, 264, 265, 266, 267, 268, 269, 270, 272, 273, 274, 275, 276, 280, 281, 285, 289, 291, 296, 297, 301, 302, 303, 304, 305, 307, 308, 309, 310, 311, 313, 316, 317, 320, 322, 327, 329, 330, 335, 338, 339, 340, 342, 344, 346, 347, 348, 350, 352, 354, 355, 356, 357, 358, 359, 361, 362, 363, 364, 365, 366, 369, 371, 372, 373, 375, 376, 378, 379, 381, 382, 383, 384, 385, 388, 389, 390, 395, 397, 398, 399, 401, 404, 406, 407, 408, 410, 414, 415, 416, 417, 418, 419, 423, 424, 425, 429, 430, 431, 433, 434, 435, 437, 438, 439, 440, 442, 444, 446, 448, 449, 451, 453, 454, 457, 458, 461, 465, 468, 469, 470, 471, 472, 473, 474, 475, 476, 477, 480, 481, 482, 483, 484, 485, 486, 488, 489, 490, 491, 493, 494, 495, 497, 499, 500, 501, 504, 505]\n",
            "i--> 0 indx--> 28 j--> [2, 3, 5, 6, 9, 10, 11, 12, 13, 14, 15, 16, 18, 19, 21, 22, 23, 26, 29, 33, 35, 36, 37, 38, 39, 40, 42, 43, 47, 48, 49, 50, 53, 54, 55, 56, 57, 58, 62, 63, 64, 66, 67, 71, 72, 73, 74, 75, 77, 78, 79, 80, 81, 83, 85, 90, 91, 92, 97, 99, 100, 101, 102, 104, 105, 107, 108, 109, 110, 112, 114, 115, 116, 117, 118, 119, 121, 122, 124, 126, 127, 128, 129, 131, 132, 135, 137, 139, 141, 145, 146, 148, 150, 151, 152, 153, 154, 157, 158, 159, 163, 164, 165, 166, 168, 169, 170, 176, 177, 178, 179, 181, 182, 186, 188, 189, 190, 192, 193, 197, 198, 199, 200, 201, 202, 203, 205, 207, 211, 214, 216, 217, 218, 219, 223, 225, 227, 229, 230, 231, 232, 233, 234, 238, 239, 240, 242, 245, 246, 247, 249, 250, 251, 253, 254, 257, 261, 262, 263, 264, 269, 270, 272, 275, 276, 277, 278, 279, 281, 282, 283, 284, 286, 288, 289, 292, 293, 294, 295, 296, 297, 298, 300, 301, 302, 306, 308, 311, 312, 313, 316, 317, 318, 321, 323, 324, 328, 329, 330, 331, 336, 337, 338, 340, 341, 343, 344, 345, 346, 348, 350, 351, 352, 354, 355, 356, 360, 363, 365, 366, 370, 371, 372, 375, 377, 378, 379, 380, 381, 382, 383, 387, 388, 392, 393, 394, 395, 398, 400, 401, 402, 406, 407, 408, 409, 410, 411, 412, 413, 414, 416, 420, 421, 422, 423, 428, 430, 431, 432, 433, 435, 437, 438, 440, 441, 442, 443, 444, 447, 448, 449, 451, 453, 454, 455, 456, 458, 460, 461, 462, 464, 468, 471, 474, 475, 476, 477, 479, 480, 481, 482, 484, 487, 489, 490, 491, 492, 496, 497, 498, 501, 504, 505]\n",
            "i--> 0 indx--> 29 j--> [1, 2, 3, 6, 7, 8, 9, 10, 11, 12, 13, 14, 15, 16, 17, 18, 22, 25, 26, 27, 28, 29, 30, 31, 33, 34, 35, 36, 37, 38, 39, 40, 41, 43, 45, 47, 49, 50, 51, 54, 55, 56, 57, 59, 60, 62, 63, 66, 68, 69, 70, 72, 73, 74, 75, 76, 80, 83, 84, 87, 89, 90, 91, 92, 93, 95, 96, 97, 98, 99, 101, 102, 103, 105, 106, 111, 112, 114, 115, 116, 120, 122, 123, 125, 126, 127, 128, 130, 131, 132, 133, 135, 137, 140, 142, 149, 150, 151, 152, 153, 154, 155, 156, 160, 162, 163, 168, 169, 170, 174, 175, 176, 179, 183, 184, 185, 187, 188, 189, 192, 193, 194, 198, 201, 202, 203, 204, 205, 206, 208, 210, 211, 212, 213, 215, 217, 220, 223, 224, 225, 227, 228, 229, 230, 231, 232, 233, 235, 237, 238, 241, 242, 243, 244, 245, 246, 247, 248, 249, 251, 254, 257, 260, 261, 262, 263, 266, 272, 274, 276, 277, 278, 279, 280, 281, 283, 284, 285, 288, 289, 291, 292, 293, 298, 300, 301, 304, 305, 306, 307, 309, 310, 311, 312, 313, 315, 316, 318, 320, 321, 325, 328, 330, 332, 334, 335, 339, 340, 341, 342, 343, 344, 346, 347, 348, 350, 352, 353, 355, 357, 358, 363, 365, 366, 367, 368, 369, 370, 371, 372, 374, 377, 378, 382, 383, 384, 386, 387, 388, 389, 391, 392, 395, 396, 397, 398, 399, 400, 401, 403, 406, 407, 408, 409, 411, 412, 416, 421, 423, 424, 425, 427, 428, 429, 432, 435, 437, 438, 442, 443, 448, 449, 450, 451, 452, 453, 454, 455, 456, 458, 461, 462, 463, 464, 468, 469, 470, 471, 472, 475, 476, 477, 479, 481, 482, 483, 485, 488, 489, 492, 494, 496, 502]\n"
          ],
          "name": "stdout"
        }
      ]
    },
    {
      "cell_type": "code",
      "metadata": {
        "id": "wJYlJ2maaJI8",
        "colab_type": "code",
        "colab": {
          "base_uri": "https://localhost:8080/",
          "height": 34
        },
        "outputId": "985c174f-5b75-4955-e36f-139632de5a1e"
      },
      "source": [
        "# list_selected_columns\n",
        "len(x[list_selected_row[0]][:,list_selected_columns[0]][])\n"
      ],
      "execution_count": 71,
      "outputs": [
        {
          "output_type": "execute_result",
          "data": {
            "text/plain": [
              "9"
            ]
          },
          "metadata": {
            "tags": []
          },
          "execution_count": 71
        }
      ]
    },
    {
      "cell_type": "code",
      "metadata": {
        "id": "p5VZh6GvT0Ps",
        "colab_type": "code",
        "colab": {
          "base_uri": "https://localhost:8080/",
          "height": 339
        },
        "outputId": "1b997a5f-f1f3-4e4b-ec88-aa4eb3c637e0"
      },
      "source": [
        "for j,i in enumerate(list_selected_row):\n",
        "  if 0 in i:\n",
        "    "
      ],
      "execution_count": 62,
      "outputs": [
        {
          "output_type": "stream",
          "text": [
            "0 [403, 221, 200, 161, 468, 243, 385, 485, 439, 488, 178, 343, 118, 56, 69, 101, 425, 171, 119, 452, 304, 202, 474, 414, 482, 181, 438, 338, 432, 205, 299, 336, 320, 180, 228, 460, 124, 357, 345, 36, 66, 120, 87, 198, 492, 476, 325, 173, 495, 234, 477, 175, 497, 347, 235, 226, 426, 156, 239, 162, 204, 503, 210, 504, 71, 258, 395, 381, 319, 268, 295, 303, 317, 110, 481, 478, 365, 194, 249, 501, 220, 458, 416, 502, 366, 270, 257, 412, 139, 189, 260, 266, 149, 340, 311, 417, 104, 275, 339, 418, 82, 80, 89, 199, 404, 86, 25, 283, 466, 248, 251, 449, 54, 203, 350, 415, 193, 34, 380, 372, 126, 386, 52, 50, 388, 184, 459, 183, 500, 4, 51, 6, 240, 237, 75, 286, 454, 443, 61, 16, 402, 430, 123, 400, 28, 33, 348, 406, 231, 367, 225, 378, 57, 135, 179, 12, 375, 486, 393, 255, 191, 505, 276, 0, 217, 300, 424, 185, 293, 129, 35, 233, 68, 246, 359, 309, 396, 23, 373, 433, 377, 413, 451, 241, 267, 307, 484, 331, 125, 26, 444, 462, 77, 154, 85, 138, 312, 107, 163, 337, 498, 302, 383, 150, 93, 291, 327, 326, 368, 318, 111, 442, 247, 55, 112, 42, 314, 177, 41, 122, 62, 405, 282, 63, 21, 79, 292, 67, 399, 463, 7, 207, 8, 155, 197, 407, 103, 351, 216, 29, 90, 362, 470, 254, 363, 190, 152, 261, 3, 212, 140, 465, 84, 209, 131, 479, 322, 218, 374, 324, 323, 335, 195, 102, 13, 344, 30, 116, 301, 450, 187, 264, 113, 170, 11, 39, 182, 105, 127, 169, 137, 83, 472, 256, 253, 130, 382, 379, 236, 17, 74, 192, 144, 342, 15, 211, 330, 467, 53, 423, 441, 389, 464]\n",
            "1 [98, 0, 91, 5, 49, 456, 195, 181, 34, 497, 48, 242, 347, 303, 53, 344, 429, 166, 63, 25, 499, 470, 186, 46, 220, 128, 361, 205, 371, 284, 339, 56, 120, 149, 13, 273, 218, 318, 408, 84, 31, 207, 256, 209, 363, 79, 357, 312, 137, 236, 459, 168, 11, 26, 397, 474, 29, 41, 467, 140, 291, 430, 268, 490, 366, 189, 259, 156, 171, 334, 57, 85, 331, 223, 188, 19, 190, 448, 329, 439, 15, 294, 493, 257, 261, 377, 267, 65, 244, 453, 151, 464, 342, 471, 310, 180, 67, 351, 37, 338, 326, 295, 282, 86, 172, 24, 146, 68, 112, 155, 229, 35, 398, 463, 174, 278, 38, 313, 335, 292, 469, 504, 427, 289, 472, 336, 496, 77, 227, 270, 73, 461, 381, 501, 224, 234, 214, 133, 494, 277, 64, 74, 164, 170, 389, 122, 201, 106, 482, 135, 20, 162, 83, 43, 196, 406, 353, 305, 343, 23, 419, 503, 204, 104, 99, 216, 412, 275, 290, 54, 163, 113, 191, 414, 352, 59, 72, 243, 178, 30, 185, 44, 422, 320, 105, 390, 262, 8, 413, 76, 279, 110, 165, 240, 118, 276, 260, 197, 50, 358, 52, 462, 332, 438, 483, 300, 60, 159, 394, 307, 441, 228, 100, 69, 486, 317, 258, 447, 383, 445, 373, 402, 32, 455, 293, 173, 152, 368, 452, 176, 71, 399, 66, 340, 169, 206, 311, 350, 489, 415, 480, 375, 158, 121, 491, 266, 475, 356, 40, 129, 450, 103, 92, 395, 457, 97, 367, 495, 107, 80, 416, 231, 272, 246, 182, 401, 285, 194, 423, 421, 297, 139, 219, 263, 208, 237, 485, 22, 33, 96, 391, 81, 487, 306, 18, 432, 221, 380, 298, 466, 70, 274, 101, 322, 372, 301, 387, 498, 271, 150, 286, 409, 127]\n",
            "2 [146, 71, 275, 298, 164, 156, 133, 269, 114, 222, 429, 72, 473, 253, 263, 330, 12, 148, 334, 190, 125, 77, 171, 384, 433, 196, 230, 124, 149, 215, 205, 472, 249, 141, 310, 195, 362, 242, 436, 475, 407, 405, 374, 198, 252, 31, 295, 276, 165, 340, 43, 44, 58, 183, 51, 398, 408, 232, 137, 383, 187, 231, 348, 105, 323, 470, 283, 126, 390, 145, 422, 25, 379, 370, 181, 333, 95, 163, 451, 112, 320, 39, 120, 178, 305, 5, 66, 286, 292, 184, 248, 13, 161, 347, 424, 218, 88, 229, 127, 100, 83, 91, 225, 33, 48, 99, 122, 246, 152, 61, 337, 365, 281, 458, 336, 93, 439, 480, 154, 285, 20, 301, 256, 381, 264, 241, 214, 244, 98, 50, 104, 16, 207, 130, 457, 70, 371, 308, 447, 79, 32, 497, 118, 441, 239, 110, 501, 267, 144, 289, 476, 47, 238, 449, 221, 193, 220, 380, 303, 201, 361, 492, 217, 435, 322, 21, 481, 158, 111, 279, 367, 325, 319, 474, 54, 468, 280, 461, 24, 326, 219, 226, 360, 151, 86, 206, 121, 403, 505, 499, 59, 108, 224, 194, 177, 346, 427, 0, 307, 413, 116, 90, 321, 2, 358, 394, 85, 329, 417, 311, 341, 459, 169, 128, 211, 385, 170, 445, 375, 437, 466, 117, 136, 376, 203, 250, 419, 76, 52, 338, 443, 84, 172, 157, 316, 168, 109, 37, 396, 258, 103, 260, 227, 500, 420, 82, 81, 368, 428, 364, 309, 353, 300, 255, 28, 467, 119, 418, 69, 471, 339, 22, 233, 235, 36, 257, 228, 278, 352, 176, 442, 287, 359, 67, 179, 489, 345, 3, 209, 268, 270, 355, 296, 299, 271, 15, 101, 212, 123, 68, 409, 78, 404, 372, 56, 478, 160, 240, 42, 486, 197, 313, 491]\n",
            "5 [436, 221, 80, 474, 79, 12, 318, 365, 393, 236, 350, 489, 324, 42, 329, 199, 385, 223, 500, 10, 0, 153, 57, 389, 173, 31, 248, 484, 245, 202, 286, 21, 259, 130, 45, 102, 417, 149, 338, 323, 239, 8, 475, 414, 3, 5, 53, 504, 255, 463, 16, 471, 39, 132, 290, 122, 377, 218, 284, 369, 289, 346, 430, 405, 275, 359, 113, 222, 111, 326, 459, 94, 343, 254, 34, 100, 413, 134, 311, 396, 185, 70, 339, 429, 160, 470, 198, 278, 32, 434, 89, 294, 81, 215, 96, 120, 22, 423, 395, 462, 9, 209, 313, 439, 241, 29, 129, 441, 374, 307, 107, 478, 188, 247, 93, 19, 308, 332, 184, 422, 347, 285, 296, 91, 68, 458, 287, 356, 312, 138, 84, 400, 316, 190, 97, 171, 493, 133, 420, 412, 416, 52, 66, 170, 279, 195, 281, 455, 334, 225, 491, 162, 227, 75, 135, 2, 402, 497, 501, 180, 211, 156, 44, 382, 112, 150, 340, 192, 438, 205, 183, 7, 131, 49, 249, 139, 481, 67, 201, 92, 220, 450, 273, 116, 14, 230, 440, 407, 337, 24, 125, 411, 13, 461, 194, 204, 328, 176, 73, 252, 392, 467, 155, 335, 418, 371, 425, 43, 445, 272, 136, 487, 355, 482, 69, 368, 301, 146, 410, 206, 454, 271, 35, 243, 399, 242, 27, 483, 300, 17, 345, 87, 144, 159, 148, 433, 401, 179, 237, 266, 480, 18, 306, 476, 354, 499, 250, 200, 240, 56, 145, 90, 123, 105, 293, 165, 117, 1, 409, 30, 256, 485, 358, 119, 442, 151, 260, 277, 361, 432, 366, 95, 490, 244, 106, 304, 161, 58, 141, 193, 370, 217, 62, 291, 72, 152, 164, 333, 178, 20, 50, 71, 505, 298, 309, 451, 274, 444, 86, 443, 238, 314, 386]\n",
            "6 [392, 39, 404, 461, 100, 140, 471, 81, 63, 57, 232, 400, 159, 107, 133, 164, 64, 151, 217, 253, 488, 397, 223, 69, 61, 354, 77, 23, 89, 32, 197, 189, 84, 401, 481, 445, 366, 364, 12, 376, 82, 422, 292, 321, 261, 303, 449, 413, 315, 327, 494, 191, 320, 485, 465, 288, 421, 447, 122, 88, 430, 166, 500, 302, 436, 300, 262, 460, 192, 482, 0, 147, 129, 363, 91, 120, 49, 441, 444, 181, 139, 14, 309, 355, 318, 340, 383, 26, 437, 398, 503, 306, 79, 72, 218, 210, 175, 469, 75, 219, 213, 369, 260, 402, 13, 275, 265, 145, 111, 286, 420, 74, 359, 408, 407, 387, 347, 86, 206, 17, 289, 384, 44, 16, 442, 311, 98, 116, 472, 414, 5, 124, 226, 271, 229, 158, 273, 278, 328, 162, 390, 440, 161, 394, 259, 193, 284, 324, 256, 186, 105, 467, 233, 58, 99, 491, 501, 94, 52, 399, 244, 201, 304, 22, 346, 372, 448, 225, 167, 248, 266, 246, 199, 310, 67, 258, 45, 269, 24, 31, 377, 10, 251, 170, 356, 66, 475, 43, 486, 428, 185, 102, 351, 453, 490, 104, 416, 250, 245, 388, 157, 227, 239, 214, 276, 280, 37, 378, 25, 204, 293, 405, 268, 87, 459, 479, 203, 424, 83, 4, 466, 454, 463, 417, 119, 337, 357, 252, 235, 109, 438, 202, 498, 270, 455, 493, 51, 389, 393, 305, 160, 374, 101, 34, 263, 3, 33, 130, 458, 427, 171, 169, 336, 196, 53, 342, 212, 46, 188, 136, 287, 343, 484, 352, 163, 434, 47, 429, 489, 418, 224, 291, 168, 478, 504, 358, 172, 183, 412, 379, 7, 411, 176, 41, 121, 36, 499, 274, 380, 452, 115, 156, 50, 307, 228, 179, 361, 28, 138, 113, 20, 38, 267]\n",
            "7 [87, 208, 489, 288, 82, 109, 115, 151, 448, 80, 182, 431, 235, 412, 102, 113, 462, 25, 8, 64, 83, 255, 480, 11, 403, 364, 16, 481, 269, 396, 440, 310, 41, 405, 56, 340, 384, 4, 252, 414, 369, 468, 434, 3, 202, 31, 322, 281, 143, 474, 24, 59, 276, 220, 69, 306, 494, 373, 483, 505, 277, 15, 81, 196, 366, 7, 243, 496, 106, 219, 470, 404, 125, 461, 391, 374, 249, 175, 290, 121, 466, 55, 473, 400, 148, 206, 79, 501, 43, 260, 497, 332, 195, 308, 263, 437, 459, 325, 352, 14, 368, 267, 423, 457, 53, 406, 99, 190, 105, 159, 262, 92, 345, 426, 197, 136, 26, 155, 114, 294, 177, 180, 234, 465, 312, 39, 21, 386, 258, 410, 73, 203, 447, 503, 6, 271, 205, 309, 324, 344, 129, 492, 201, 168, 122, 360, 427, 164, 251, 284, 356, 194, 261, 435, 415, 91, 134, 183, 495, 502, 279, 498, 36, 420, 33, 460, 19, 32, 199, 484, 316, 93, 221, 137, 65, 192, 40, 475, 392, 135, 237, 37, 499, 139, 84, 244, 453, 63, 390, 200, 259, 299, 119, 488, 12, 268, 167, 383, 239, 458, 247, 154, 350, 227, 178, 104, 209, 385, 198, 157, 398, 60, 71, 377, 450, 353, 313, 329, 289, 371, 283, 444, 95, 162, 449, 0, 490, 388, 335, 428, 225, 429, 471, 296, 5, 166, 128, 293, 382, 189, 328, 295, 433, 248, 67, 30, 97, 485, 76, 184, 476, 144, 463, 472, 361, 226, 482, 346, 46, 354, 161, 20, 116, 229, 214, 467, 413, 58, 236, 38, 90, 47, 319, 326, 218, 270, 394, 138, 133, 425, 280, 265, 181, 378, 441, 52, 28, 266, 173, 100, 397, 292, 407, 253, 98, 150, 169, 367, 291, 153, 370, 211, 359]\n",
            "8 [150, 417, 330, 366, 367, 106, 283, 102, 8, 3, 449, 71, 133, 61, 226, 40, 385, 11, 182, 393, 90, 31, 319, 452, 462, 351, 311, 156, 345, 134, 32, 474, 155, 25, 379, 368, 485, 97, 22, 135, 52, 247, 488, 455, 383, 57, 384, 297, 175, 139, 334, 118, 281, 232, 391, 9, 265, 316, 441, 497, 438, 87, 234, 467, 478, 110, 494, 401, 166, 424, 466, 205, 254, 94, 327, 120, 394, 128, 39, 347, 463, 269, 444, 429, 310, 7, 282, 456, 322, 443, 461, 12, 399, 373, 352, 338, 138, 341, 108, 364, 501, 490, 439, 183, 403, 396, 171, 67, 404, 121, 470, 369, 272, 179, 337, 432, 195, 398, 329, 502, 45, 204, 208, 66, 377, 427, 105, 114, 75, 408, 17, 309, 10, 119, 191, 165, 91, 36, 58, 47, 160, 162, 123, 251, 196, 140, 222, 479, 387, 20, 361, 453, 127, 99, 434, 307, 101, 77, 132, 350, 447, 227, 375, 170, 233, 468, 415, 292, 397, 197, 263, 243, 115, 291, 410, 194, 83, 41, 81, 149, 14, 50, 188, 248, 413, 500, 266, 454, 492, 321, 33, 147, 43, 450, 406, 144, 213, 136, 159, 290, 51, 313, 428, 481, 354, 126, 168, 336, 460, 189, 333, 499, 78, 190, 445, 130, 241, 293, 125, 245, 433, 275, 386, 38, 184, 237, 448, 422, 62, 177, 116, 471, 225, 484, 328, 262, 342, 440, 380, 112, 295, 122, 392, 73, 0, 193, 381, 400, 431, 228, 235, 224, 280, 185, 353, 92, 219, 214, 44, 476, 296, 24, 27, 74, 104, 430, 89, 437, 107, 98, 301, 435, 173, 145, 28, 278, 318, 153, 332, 42, 412, 207, 210, 246, 363, 489, 270, 395, 54, 26, 343, 146, 250, 483, 53, 317, 4, 34, 308, 18, 414, 358, 299]\n",
            "9 [24, 254, 360, 35, 421, 452, 315, 402, 485, 306, 117, 502, 258, 245, 409, 387, 67, 246, 218, 153, 31, 186, 281, 505, 382, 40, 7, 459, 44, 220, 58, 481, 323, 499, 436, 277, 145, 272, 432, 276, 66, 192, 422, 196, 232, 473, 207, 287, 136, 470, 359, 444, 316, 228, 453, 366, 484, 314, 178, 427, 119, 348, 492, 114, 266, 289, 390, 91, 55, 354, 214, 187, 413, 441, 149, 70, 199, 320, 138, 68, 146, 102, 239, 464, 22, 398, 137, 9, 430, 431, 95, 125, 403, 415, 332, 404, 226, 26, 324, 33, 225, 182, 106, 259, 205, 155, 466, 90, 133, 73, 42, 161, 497, 159, 374, 357, 173, 1, 435, 305, 270, 262, 339, 367, 47, 483, 210, 151, 142, 156, 482, 243, 61, 309, 238, 27, 0, 412, 144, 375, 208, 179, 292, 336, 103, 457, 364, 388, 283, 177, 411, 369, 340, 363, 81, 418, 128, 278, 34, 65, 321, 62, 353, 242, 6, 269, 28, 41, 284, 475, 461, 448, 479, 94, 356, 79, 63, 429, 229, 193, 167, 331, 147, 454, 221, 203, 410, 393, 446, 273, 18, 337, 235, 13, 124, 400, 249, 3, 85, 345, 391, 105, 443, 498, 474, 458, 285, 222, 362, 131, 48, 365, 476, 162, 261, 166, 59, 112, 23, 248, 376, 15, 275, 150, 371, 334, 440, 80, 311, 351, 74, 21, 373, 343, 347, 89, 206, 172, 384, 467, 379, 301, 425, 408, 260, 219, 455, 244, 299, 174, 338, 405, 83, 29, 157, 451, 268, 217, 308, 438, 385, 294, 56, 231, 329, 296, 189, 274, 168, 185, 233, 165, 298, 361, 183, 87, 267, 115, 500, 8, 200, 69, 99, 216, 30, 184, 92, 495, 471, 54, 318, 127, 355, 346, 120, 181, 350, 148, 439, 465, 383, 78, 16]\n",
            "12 [121, 406, 219, 467, 436, 69, 470, 160, 125, 322, 94, 307, 495, 229, 0, 84, 394, 167, 400, 195, 206, 337, 101, 236, 98, 500, 313, 350, 328, 304, 297, 68, 498, 62, 234, 37, 164, 39, 306, 237, 460, 76, 291, 91, 215, 389, 87, 435, 180, 231, 265, 99, 133, 232, 342, 12, 127, 339, 430, 501, 224, 274, 256, 143, 444, 149, 55, 451, 321, 347, 487, 334, 176, 416, 315, 401, 450, 249, 220, 421, 19, 414, 433, 178, 494, 410, 174, 201, 312, 354, 272, 377, 47, 348, 221, 137, 254, 108, 499, 114, 71, 14, 305, 113, 222, 240, 458, 258, 466, 28, 132, 437, 11, 488, 107, 241, 370, 85, 130, 355, 454, 385, 268, 492, 459, 289, 54, 445, 260, 382, 424, 119, 156, 391, 23, 374, 504, 25, 275, 329, 311, 407, 51, 432, 279, 49, 33, 463, 138, 175, 27, 373, 442, 369, 36, 59, 17, 26, 473, 74, 439, 210, 122, 298, 70, 154, 351, 170, 104, 153, 479, 408, 109, 250, 352, 165, 379, 82, 349, 245, 480, 411, 333, 60, 199, 200, 182, 77, 80, 283, 316, 124, 282, 384, 387, 43, 53, 145, 361, 404, 217, 92, 253, 360, 266, 110, 103, 73, 302, 20, 419, 146, 332, 193, 493, 209, 288, 429, 227, 269, 186, 66, 247, 440, 409, 38, 194, 46, 141, 44, 10, 299, 395, 168, 376, 40, 233, 426, 362, 364, 102, 3, 413, 346, 207, 320, 358, 159, 58, 390, 117, 228, 203, 50, 309, 7, 293, 452, 273, 441, 251, 415, 294, 397, 308, 218, 491, 22, 403, 42, 192, 277, 126, 412, 29, 183, 5, 161, 263, 353, 285, 465, 162, 216, 484, 75, 169, 365, 502, 417, 396, 278, 482, 425, 343, 244, 78, 474, 243, 483, 155, 225, 2]\n",
            "13 [71, 149, 266, 25, 179, 109, 274, 195, 433, 492, 496, 100, 65, 428, 177, 413, 140, 425, 352, 265, 154, 29, 77, 83, 135, 108, 390, 45, 201, 118, 89, 20, 381, 308, 461, 166, 98, 441, 378, 380, 347, 402, 256, 48, 250, 440, 178, 283, 489, 50, 126, 22, 376, 57, 437, 268, 55, 11, 389, 459, 114, 421, 336, 17, 46, 188, 28, 173, 504, 242, 447, 104, 41, 310, 291, 264, 318, 160, 306, 211, 86, 280, 501, 9, 299, 410, 123, 159, 5, 373, 204, 330, 326, 384, 454, 87, 443, 150, 56, 287, 345, 24, 40, 331, 312, 258, 313, 479, 481, 472, 96, 147, 218, 367, 236, 395, 431, 445, 59, 0, 362, 82, 333, 164, 494, 75, 225, 486, 407, 424, 480, 105, 127, 370, 323, 462, 39, 3, 499, 207, 495, 161, 284, 300, 184, 130, 332, 365, 240, 432, 393, 399, 155, 137, 498, 387, 325, 301, 231, 223, 317, 302, 342, 32, 269, 185, 343, 52, 391, 206, 200, 157, 81, 241, 210, 335, 198, 203, 176, 182, 248, 382, 26, 398, 338, 243, 143, 449, 18, 158, 422, 372, 165, 187, 322, 420, 227, 349, 260, 146, 133, 474, 79, 215, 423, 246, 416, 371, 427, 106, 63, 257, 229, 36, 249, 409, 61, 217, 95, 68, 267, 448, 290, 294, 94, 261, 78, 475, 451, 436, 279, 503, 120, 374, 197, 316, 232, 505, 412, 458, 222, 244, 446, 357, 72, 30, 406, 66, 434, 273, 329, 386, 450, 253, 76, 500, 163, 156, 132, 490, 51, 401, 467, 174, 465, 488, 168, 97, 468, 350, 270, 110, 69, 430, 348, 473, 145, 478, 7, 438, 60, 477, 67, 43, 84, 272, 199, 238, 139, 493, 288, 482, 285, 455, 358, 351, 49, 216, 363, 360, 254, 435, 460]\n",
            "14 [372, 172, 102, 91, 199, 463, 321, 151, 445, 482, 466, 501, 23, 175, 446, 277, 152, 336, 425, 363, 52, 0, 412, 310, 238, 30, 230, 462, 236, 82, 234, 419, 219, 486, 132, 209, 22, 491, 438, 179, 475, 250, 448, 119, 312, 252, 7, 319, 464, 56, 90, 451, 51, 308, 137, 276, 247, 60, 477, 138, 140, 104, 350, 390, 353, 285, 354, 449, 156, 108, 358, 33, 255, 159, 61, 359, 171, 465, 150, 254, 403, 457, 280, 12, 269, 215, 427, 17, 453, 314, 338, 226, 64, 197, 228, 97, 483, 120, 489, 203, 410, 153, 270, 24, 442, 428, 429, 185, 417, 128, 278, 315, 447, 174, 69, 114, 376, 391, 422, 469, 365, 371, 78, 40, 420, 63, 243, 144, 292, 181, 294, 221, 262, 161, 202, 232, 415, 112, 155, 123, 58, 281, 88, 42, 31, 210, 284, 405, 505, 426, 103, 295, 260, 11, 303, 37, 455, 433, 345, 96, 288, 381, 480, 272, 382, 296, 165, 406, 393, 134, 500, 163, 337, 44, 404, 307, 34, 116, 166, 258, 246, 242, 200, 468, 237, 416, 187, 160, 432, 154, 106, 212, 244, 370, 479, 366, 361, 389, 66, 5, 241, 302, 498, 173, 470, 198, 249, 333, 300, 485, 437, 268, 135, 177, 239, 286, 27, 334, 471, 87, 162, 224, 473, 377, 434, 335, 113, 263, 326, 19, 418, 287, 167, 227, 53, 99, 373, 125, 423, 331, 430, 117, 259, 217, 186, 67, 266, 461, 454, 305, 235, 83, 196, 282, 402, 299, 409, 264, 20, 375, 349, 45, 164, 256, 481, 143, 95, 245, 316, 15, 220, 233, 472, 178, 441, 205, 3, 378, 325, 130, 93, 229, 54, 26, 107, 92, 49, 77, 322, 395, 478, 317, 439, 25, 148, 320, 379, 145, 340, 504, 374, 225, 367]\n",
            "15 [237, 354, 284, 449, 120, 414, 171, 272, 466, 58, 186, 485, 483, 50, 303, 471, 224, 187, 321, 363, 300, 342, 265, 197, 92, 329, 29, 379, 80, 308, 465, 306, 81, 366, 199, 430, 277, 434, 422, 395, 52, 388, 469, 436, 151, 183, 461, 8, 486, 448, 87, 312, 369, 346, 72, 491, 78, 392, 88, 201, 76, 133, 125, 416, 404, 91, 264, 337, 380, 169, 217, 362, 335, 381, 48, 66, 207, 278, 85, 355, 11, 146, 208, 285, 296, 153, 118, 0, 283, 100, 325, 397, 205, 496, 244, 421, 502, 31, 378, 250, 65, 446, 33, 36, 73, 164, 42, 332, 492, 32, 122, 12, 110, 505, 310, 149, 178, 442, 307, 138, 318, 173, 398, 338, 320, 200, 365, 175, 263, 276, 372, 209, 328, 274, 89, 126, 203, 144, 262, 453, 38, 305, 463, 358, 241, 198, 497, 383, 288, 189, 121, 503, 14, 70, 134, 252, 20, 330, 411, 191, 401, 315, 343, 204, 71, 478, 6, 425, 193, 161, 391, 423, 487, 233, 5, 488, 295, 468, 102, 361, 426, 299, 408, 123, 160, 368, 289, 136, 455, 280, 112, 282, 231, 387, 375, 139, 500, 56, 458, 459, 314, 495, 339, 454, 47, 349, 413, 405, 227, 259, 479, 26, 67, 167, 376, 324, 451, 402, 107, 406, 428, 174, 294, 403, 481, 210, 493, 238, 18, 179, 494, 302, 3, 467, 242, 311, 219, 445, 249, 255, 202, 195, 222, 313, 498, 181, 119, 176, 472, 74, 400, 254, 331, 475, 15, 154, 163, 79, 464, 371, 55, 322, 221, 213, 188, 28, 390, 180, 348, 140, 19, 41, 196, 256, 385, 253, 382, 489, 135, 82, 298, 450, 393, 384, 194, 45, 165, 94, 456, 98, 417, 235, 16, 190, 61, 460, 270, 64, 275, 232, 192, 2, 499]\n",
            "18 [97, 67, 5, 253, 206, 122, 340, 286, 101, 140, 115, 426, 84, 351, 328, 79, 54, 294, 401, 15, 307, 46, 249, 133, 192, 43, 303, 371, 427, 19, 484, 441, 39, 156, 324, 451, 268, 154, 6, 276, 201, 0, 1, 331, 280, 437, 358, 76, 400, 152, 469, 353, 145, 81, 439, 264, 334, 41, 182, 384, 208, 501, 14, 306, 377, 125, 259, 309, 327, 300, 57, 449, 235, 485, 185, 51, 75, 246, 85, 443, 40, 11, 305, 93, 269, 98, 168, 250, 160, 261, 151, 313, 362, 62, 12, 295, 155, 226, 198, 21, 64, 262, 58, 388, 179, 422, 445, 412, 178, 341, 217, 488, 267, 498, 465, 376, 176, 410, 273, 323, 402, 355, 38, 478, 466, 230, 88, 424, 392, 30, 491, 396, 433, 104, 373, 370, 405, 37, 372, 126, 188, 50, 359, 272, 499, 496, 397, 195, 383, 25, 320, 285, 260, 166, 211, 4, 316, 100, 174, 298, 128, 55, 431, 407, 279, 190, 369, 345, 28, 406, 304, 238, 163, 202, 245, 479, 337, 257, 224, 480, 363, 332, 167, 207, 312, 497, 92, 214, 336, 494, 346, 504, 70, 134, 175, 442, 78, 378, 274, 453, 360, 364, 172, 113, 420, 180, 281, 45, 94, 404, 106, 86, 223, 90, 157, 61, 169, 7, 36, 365, 374, 288, 333, 124, 209, 89, 390, 129, 241, 27, 308, 222, 282, 69, 187, 231, 119, 317, 322, 367, 455, 33, 109, 430, 382, 60, 135, 95, 470, 80, 456, 23, 110, 191, 111, 277, 291, 458, 215, 73, 148, 52, 474, 375, 379, 53, 411, 289, 409, 243, 165, 91, 44, 205, 181, 161, 463, 460, 265, 444, 138, 108, 293, 287, 143, 225, 271, 438, 35, 387, 141, 408, 434, 10, 296, 462, 170, 428, 421, 486, 173, 319, 34]\n",
            "20 [362, 393, 82, 369, 39, 257, 347, 15, 389, 291, 226, 190, 439, 301, 499, 316, 84, 446, 206, 357, 16, 398, 37, 299, 141, 87, 97, 136, 230, 125, 438, 345, 18, 428, 331, 107, 248, 371, 483, 426, 262, 204, 115, 406, 26, 52, 216, 497, 350, 252, 391, 370, 296, 290, 392, 412, 114, 356, 485, 328, 458, 159, 381, 489, 249, 437, 195, 278, 271, 192, 7, 12, 134, 49, 494, 135, 465, 268, 79, 306, 266, 8, 70, 187, 397, 297, 75, 295, 344, 54, 495, 396, 487, 466, 36, 311, 322, 374, 132, 154, 338, 286, 88, 237, 202, 323, 231, 376, 265, 490, 425, 476, 493, 292, 377, 229, 139, 111, 368, 212, 131, 285, 28, 413, 185, 41, 403, 273, 228, 484, 239, 166, 80, 238, 407, 312, 308, 108, 277, 383, 223, 327, 366, 43, 161, 447, 40, 298, 57, 194, 51, 280, 336, 38, 174, 302, 503, 310, 63, 67, 409, 404, 144, 432, 430, 410, 304, 244, 94, 218, 99, 151, 353, 283, 418, 474, 129, 213, 500, 326, 411, 457, 184, 242, 168, 472, 149, 254, 171, 177, 341, 45, 221, 477, 208, 96, 66, 98, 155, 480, 367, 11, 334, 182, 232, 421, 72, 246, 250, 169, 95, 44, 408, 106, 14, 253, 217, 436, 243, 93, 103, 130, 53, 351, 414, 241, 385, 148, 335, 444, 488, 390, 128, 417, 138, 400, 333, 294, 337, 424, 27, 287, 152, 119, 258, 71, 505, 300, 123, 416, 442, 349, 9, 235, 388, 263, 153, 307, 19, 25, 30, 261, 276, 222, 90, 170, 461, 319, 60, 260, 354, 150, 220, 157, 197, 251, 77, 215, 191, 240, 463, 34, 433, 460, 402, 501, 469, 56, 100, 17, 478, 209, 247, 453, 122, 288, 0, 395, 48, 313, 454, 20, 198]\n",
            "21 [162, 499, 177, 146, 218, 27, 241, 293, 365, 94, 139, 5, 82, 441, 15, 0, 364, 284, 103, 149, 395, 336, 249, 242, 86, 1, 378, 214, 452, 298, 134, 73, 67, 99, 197, 44, 376, 379, 500, 77, 87, 62, 479, 290, 141, 54, 234, 444, 127, 429, 106, 380, 465, 32, 230, 185, 374, 369, 350, 212, 240, 17, 158, 399, 322, 126, 40, 227, 427, 335, 117, 118, 148, 130, 273, 426, 490, 173, 497, 377, 74, 48, 250, 12, 199, 396, 282, 132, 417, 394, 181, 61, 340, 329, 439, 205, 438, 47, 295, 447, 386, 196, 397, 85, 460, 391, 53, 63, 338, 451, 14, 373, 496, 484, 466, 81, 200, 144, 468, 326, 337, 314, 342, 291, 183, 328, 160, 206, 348, 402, 29, 226, 453, 180, 491, 223, 309, 138, 264, 433, 333, 253, 220, 246, 270, 315, 101, 190, 354, 483, 9, 286, 410, 259, 233, 405, 58, 392, 229, 224, 35, 21, 18, 458, 75, 46, 174, 478, 215, 120, 151, 404, 467, 332, 387, 228, 292, 78, 122, 155, 56, 358, 481, 471, 179, 112, 413, 147, 150, 222, 294, 504, 121, 368, 111, 407, 502, 20, 13, 129, 424, 55, 505, 37, 325, 366, 154, 308, 495, 341, 123, 420, 119, 390, 191, 104, 163, 254, 299, 243, 261, 193, 231, 176, 475, 355, 245, 59, 263, 105, 482, 409, 16, 311, 317, 247, 235, 477, 403, 26, 436, 492, 108, 327, 275, 25, 414, 90, 164, 334, 352, 388, 116, 305, 330, 318, 421, 393, 307, 244, 238, 165, 161, 204, 69, 473, 88, 39, 38, 266, 219, 137, 28, 169, 470, 503, 312, 50, 195, 357, 124, 51, 283, 406, 153, 297, 109, 347, 494, 287, 456, 2, 449, 128, 423, 10, 271, 463, 351, 157, 4, 172, 95]\n",
            "22 [408, 289, 249, 183, 459, 230, 312, 422, 333, 2, 187, 103, 296, 42, 75, 186, 151, 272, 37, 113, 286, 92, 235, 177, 7, 353, 456, 351, 378, 489, 108, 502, 341, 85, 471, 450, 380, 200, 428, 55, 311, 212, 232, 109, 220, 247, 276, 500, 236, 328, 386, 298, 413, 444, 137, 152, 46, 31, 168, 366, 72, 218, 344, 395, 248, 466, 474, 148, 225, 59, 310, 36, 39, 457, 98, 125, 48, 278, 370, 375, 91, 488, 354, 321, 166, 110, 258, 482, 379, 256, 359, 84, 405, 367, 497, 465, 316, 264, 73, 475, 171, 435, 481, 372, 501, 335, 345, 144, 467, 229, 54, 82, 193, 339, 18, 5, 473, 66, 431, 255, 155, 326, 140, 112, 269, 349, 9, 76, 182, 197, 263, 203, 158, 6, 118, 0, 198, 324, 96, 399, 415, 239, 74, 114, 116, 99, 297, 190, 447, 23, 445, 279, 179, 460, 261, 350, 132, 338, 8, 180, 79, 139, 238, 268, 26, 17, 388, 347, 162, 495, 47, 153, 34, 40, 127, 69, 384, 146, 45, 334, 167, 115, 280, 119, 323, 57, 387, 419, 304, 67, 320, 469, 455, 257, 452, 293, 4, 299, 252, 135, 221, 95, 376, 196, 315, 374, 337, 216, 290, 81, 195, 314, 319, 490, 305, 35, 170, 30, 3, 38, 143, 430, 423, 53, 505, 11, 271, 283, 464, 491, 56, 223, 332, 461, 389, 204, 100, 120, 77, 438, 176, 303, 437, 360, 441, 499, 129, 300, 160, 340, 356, 209, 107, 400, 362, 24, 90, 343, 63, 185, 201, 231, 241, 484, 65, 105, 281, 485, 142, 434, 357, 215, 207, 254, 309, 270, 317, 472, 477, 210, 20, 13, 192, 243, 404, 164, 172, 60, 70, 161, 416, 486, 10, 131, 348, 265, 364, 242, 262, 448, 503, 365, 295]\n",
            "23 [145, 473, 5, 82, 38, 272, 215, 0, 265, 121, 205, 333, 256, 31, 173, 222, 396, 360, 191, 318, 493, 485, 344, 3, 128, 171, 80, 78, 10, 94, 174, 482, 227, 308, 122, 480, 149, 388, 212, 386, 177, 209, 462, 430, 240, 287, 377, 253, 436, 406, 427, 299, 382, 300, 374, 96, 235, 392, 357, 70, 487, 488, 389, 448, 136, 150, 44, 274, 102, 51, 101, 455, 362, 460, 502, 329, 22, 234, 4, 285, 18, 428, 220, 276, 61, 36, 255, 195, 123, 15, 200, 163, 190, 213, 260, 79, 356, 259, 204, 384, 417, 435, 114, 437, 179, 138, 339, 141, 242, 314, 295, 494, 336, 140, 294, 43, 439, 217, 394, 25, 210, 189, 115, 490, 57, 159, 110, 451, 49, 59, 97, 246, 298, 72, 289, 185, 381, 419, 422, 470, 370, 416, 33, 197, 431, 151, 147, 60, 26, 250, 175, 407, 306, 216, 277, 373, 409, 349, 446, 454, 463, 93, 86, 243, 184, 8, 74, 319, 135, 245, 134, 363, 467, 453, 20, 288, 489, 368, 126, 98, 354, 376, 169, 71, 62, 170, 496, 156, 291, 326, 226, 375, 383, 6, 42, 19, 193, 130, 379, 447, 400, 148, 238, 50, 27, 154, 275, 372, 14, 321, 221, 1, 434, 445, 11, 67, 458, 444, 290, 313, 466, 247, 390, 223, 103, 501, 486, 55, 315, 124, 325, 343, 282, 342, 411, 262, 461, 391, 109, 108, 100, 34, 408, 133, 415, 399, 69, 105, 241, 479, 279, 68, 397, 172, 58, 348, 153, 433, 459, 283, 120, 176, 346, 39, 9, 41, 244, 286, 345, 273, 229, 117, 54, 248, 465, 351, 503, 456, 371, 7, 239, 203, 328, 152, 252, 491, 258, 87, 32, 450, 421, 261, 64, 449, 132, 268, 481, 302, 76, 66, 266, 280, 424]\n",
            "25 [195, 198, 397, 435, 47, 54, 218, 247, 412, 136, 61, 341, 167, 27, 459, 191, 360, 350, 313, 329, 110, 215, 398, 471, 371, 153, 451, 26, 201, 477, 90, 399, 293, 395, 217, 184, 296, 64, 446, 416, 382, 0, 494, 472, 433, 231, 96, 463, 219, 79, 137, 330, 155, 355, 31, 441, 336, 238, 447, 177, 142, 353, 476, 311, 504, 288, 347, 467, 439, 102, 393, 465, 99, 389, 34, 151, 458, 239, 100, 255, 505, 270, 384, 176, 295, 108, 262, 485, 157, 111, 5, 436, 234, 172, 119, 39, 415, 75, 376, 6, 400, 8, 92, 377, 209, 182, 410, 322, 372, 244, 342, 232, 495, 401, 86, 206, 154, 37, 434, 492, 106, 402, 432, 421, 281, 449, 265, 464, 388, 68, 224, 1, 283, 32, 498, 497, 158, 80, 115, 144, 130, 74, 169, 491, 59, 425, 308, 249, 178, 332, 407, 452, 66, 205, 442, 258, 190, 168, 321, 285, 116, 226, 269, 15, 356, 248, 118, 126, 140, 394, 291, 105, 55, 457, 132, 21, 52, 385, 256, 237, 230, 391, 214, 380, 430, 35, 346, 461, 114, 294, 82, 387, 171, 290, 354, 123, 496, 251, 30, 103, 357, 363, 194, 286, 131, 444, 134, 417, 305, 261, 314, 479, 320, 127, 279, 245, 440, 361, 260, 478, 275, 73, 71, 264, 263, 146, 428, 502, 125, 173, 207, 501, 241, 223, 392, 160, 165, 338, 317, 93, 233, 85, 94, 24, 107, 72, 343, 22, 423, 488, 91, 427, 12, 189, 67, 489, 365, 121, 95, 315, 469, 38, 274, 445, 199, 203, 345, 462, 490, 414, 335, 228, 50, 188, 213, 378, 78, 112, 419, 304, 267, 500, 62, 9, 221, 337, 379, 242, 344, 470, 70, 280, 187, 473, 17, 138, 211, 369, 180, 148, 156, 429, 411]\n"
          ],
          "name": "stdout"
        }
      ]
    },
    {
      "cell_type": "markdown",
      "metadata": {
        "id": "sbuiwX3OUjUI",
        "colab_type": "text"
      },
      "source": [
        "# <font color='blue'><b>Task 2</b></font>"
      ]
    },
    {
      "cell_type": "code",
      "metadata": {
        "id": "ceW5-D88Uswi",
        "colab_type": "code",
        "colab": {}
      },
      "source": [
        ""
      ],
      "execution_count": null,
      "outputs": []
    },
    {
      "cell_type": "markdown",
      "metadata": {
        "id": "jKTnJdiBVS_e",
        "colab_type": "text"
      },
      "source": [
        "# <font color='blue'><b>Task 3</b></font>"
      ]
    },
    {
      "cell_type": "markdown",
      "metadata": {
        "id": "eXxrvZqHV1Fr",
        "colab_type": "text"
      },
      "source": [
        "<font color='orange'><b>Flowchart for Task 3</b></font>"
      ]
    },
    {
      "cell_type": "markdown",
      "metadata": {
        "id": "NyjwEJ62V6a6",
        "colab_type": "text"
      },
      "source": [
        "<b>Hint: </b> We created 30 models by using 30 samples in TASK-1. Here, we need send query point \"xq\"  to 30 models and perform the regression on the output generated by 30 models."
      ]
    },
    {
      "cell_type": "markdown",
      "metadata": {
        "id": "0emSwLL7VurD",
        "colab_type": "text"
      },
      "source": [
        "![alt text](https://i.imgur.com/Y5cNhQk.png)"
      ]
    },
    {
      "cell_type": "markdown",
      "metadata": {
        "id": "29hjwKlWWDfo",
        "colab_type": "text"
      },
      "source": [
        "*  <font color='blue'><b> Write code for TASK 3 </b></font>"
      ]
    },
    {
      "cell_type": "code",
      "metadata": {
        "id": "i_pUlSD-VYD1",
        "colab_type": "code",
        "colab": {}
      },
      "source": [
        ""
      ],
      "execution_count": null,
      "outputs": []
    },
    {
      "cell_type": "markdown",
      "metadata": {
        "id": "DJHTGEZgWJjR",
        "colab_type": "text"
      },
      "source": [
        "<br><br><br>"
      ]
    },
    {
      "cell_type": "markdown",
      "metadata": {
        "id": "IOdUi-0xWOJ9",
        "colab_type": "text"
      },
      "source": [
        "<font color='red'><b>Write observations for task 1, task 2, task 3 indetail</b></font>"
      ]
    },
    {
      "cell_type": "code",
      "metadata": {
        "id": "AIcax45hWKT-",
        "colab_type": "code",
        "colab": {}
      },
      "source": [
        ""
      ],
      "execution_count": null,
      "outputs": []
    }
  ]
}