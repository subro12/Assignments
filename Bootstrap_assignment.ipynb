{
  "nbformat": 4,
  "nbformat_minor": 0,
  "metadata": {
    "colab": {
      "name": "Bootstrap_assignment.ipynb",
      "provenance": [],
      "collapsed_sections": [],
      "include_colab_link": true
    },
    "kernelspec": {
      "name": "python3",
      "display_name": "Python 3"
    }
  },
  "cells": [
    {
      "cell_type": "markdown",
      "metadata": {
        "id": "view-in-github",
        "colab_type": "text"
      },
      "source": [
        "<a href=\"https://colab.research.google.com/github/subro12/Assignments/blob/master/Bootstrap_assignment.ipynb\" target=\"_parent\"><img src=\"https://colab.research.google.com/assets/colab-badge.svg\" alt=\"Open In Colab\"/></a>"
      ]
    },
    {
      "cell_type": "markdown",
      "metadata": {
        "id": "3sNKZq4XrXQh",
        "colab_type": "text"
      },
      "source": [
        "# <font color='red'><b>Bootstrap assignment</b> </font>"
      ]
    },
    {
      "cell_type": "markdown",
      "metadata": {
        "id": "RAHap1Z3FZC-",
        "colab_type": "text"
      },
      "source": [
        "<b>There will be some functions that start with the word \"grader\" ex: grader_sampples(), grader_30().. etc, you should not change those function definition.\n",
        "\n",
        "Every Grader function has to return True.</b>"
      ]
    },
    {
      "cell_type": "markdown",
      "metadata": {
        "id": "cuxBq_bvrwh2",
        "colab_type": "text"
      },
      "source": [
        "<font color='blue'> <b>Importing packages</b> </font>"
      ]
    },
    {
      "cell_type": "code",
      "metadata": {
        "id": "m6ag91ijrQOs",
        "colab_type": "code",
        "colab": {}
      },
      "source": [
        "import numpy as np # importing numpy for numerical computation\n",
        "from sklearn.datasets import load_boston # here we are using sklearn's boston dataset\n",
        "from sklearn.metrics import mean_squared_error # importing mean_squared_error metric"
      ],
      "execution_count": 1,
      "outputs": []
    },
    {
      "cell_type": "code",
      "metadata": {
        "id": "CcHOsONTt1K_",
        "colab_type": "code",
        "colab": {}
      },
      "source": [
        "boston = load_boston()\n",
        "x=boston.data #independent variables\n",
        "y=boston.target #target variable"
      ],
      "execution_count": 2,
      "outputs": []
    },
    {
      "cell_type": "code",
      "metadata": {
        "id": "pc1htEFYuLRj",
        "colab_type": "code",
        "colab": {
          "base_uri": "https://localhost:8080/",
          "height": 34
        },
        "outputId": "59c78122-e737-4225-c011-70ada23c1ad8"
      },
      "source": [
        "x.shape"
      ],
      "execution_count": 3,
      "outputs": [
        {
          "output_type": "execute_result",
          "data": {
            "text/plain": [
              "(506, 13)"
            ]
          },
          "metadata": {
            "tags": []
          },
          "execution_count": 3
        }
      ]
    },
    {
      "cell_type": "code",
      "metadata": {
        "id": "kQle3T_wuOa3",
        "colab_type": "code",
        "colab": {
          "base_uri": "https://localhost:8080/",
          "height": 272
        },
        "outputId": "1e51ba24-2762-453d-e8b9-f48ca7163467"
      },
      "source": [
        "x[:5]"
      ],
      "execution_count": 4,
      "outputs": [
        {
          "output_type": "execute_result",
          "data": {
            "text/plain": [
              "array([[6.3200e-03, 1.8000e+01, 2.3100e+00, 0.0000e+00, 5.3800e-01,\n",
              "        6.5750e+00, 6.5200e+01, 4.0900e+00, 1.0000e+00, 2.9600e+02,\n",
              "        1.5300e+01, 3.9690e+02, 4.9800e+00],\n",
              "       [2.7310e-02, 0.0000e+00, 7.0700e+00, 0.0000e+00, 4.6900e-01,\n",
              "        6.4210e+00, 7.8900e+01, 4.9671e+00, 2.0000e+00, 2.4200e+02,\n",
              "        1.7800e+01, 3.9690e+02, 9.1400e+00],\n",
              "       [2.7290e-02, 0.0000e+00, 7.0700e+00, 0.0000e+00, 4.6900e-01,\n",
              "        7.1850e+00, 6.1100e+01, 4.9671e+00, 2.0000e+00, 2.4200e+02,\n",
              "        1.7800e+01, 3.9283e+02, 4.0300e+00],\n",
              "       [3.2370e-02, 0.0000e+00, 2.1800e+00, 0.0000e+00, 4.5800e-01,\n",
              "        6.9980e+00, 4.5800e+01, 6.0622e+00, 3.0000e+00, 2.2200e+02,\n",
              "        1.8700e+01, 3.9463e+02, 2.9400e+00],\n",
              "       [6.9050e-02, 0.0000e+00, 2.1800e+00, 0.0000e+00, 4.5800e-01,\n",
              "        7.1470e+00, 5.4200e+01, 6.0622e+00, 3.0000e+00, 2.2200e+02,\n",
              "        1.8700e+01, 3.9690e+02, 5.3300e+00]])"
            ]
          },
          "metadata": {
            "tags": []
          },
          "execution_count": 4
        }
      ]
    },
    {
      "cell_type": "markdown",
      "metadata": {
        "id": "AEa_HqRZloH4",
        "colab_type": "text"
      },
      "source": [
        "## <font color='red'><b>Task 1</b></font>"
      ]
    },
    {
      "cell_type": "markdown",
      "metadata": {
        "id": "YQ5q8IxHNRk3",
        "colab_type": "text"
      },
      "source": [
        "<font color='red'> <b>Step - 1</b></font>"
      ]
    },
    {
      "cell_type": "markdown",
      "metadata": {
        "id": "GJCFCaOzl7Mr",
        "colab_type": "text"
      },
      "source": [
        "*  <font color='blue'><b>Creating samples</b></font><br>\n",
        "    <b> Randomly create 30 samples from the whole boston data points</b>\n",
        "    *  Creating each sample: Consider any random 303(60% of 506) data points from whole data set and then replicate any 203 points from the sampled points\n",
        "    \n",
        "     For better understanding of this procedure lets check this examples, assume we have 10 data points [1,2,3,4,5,6,7,8,9,10], first we take 6 data points randomly , consider we have selected [4, 5, 7, 8, 9, 3] now we will replicate 4 points from [4, 5, 7, 8, 9, 3], consder they are [5, 8, 3,7] so our final sample will be [4, 5, 7, 8, 9, 3, 5, 8, 3,7]\n",
        "* <font color='blue'><b> Create 30 samples </b></font>\n",
        "    *  Note that as a part of the Bagging when you are taking the random samples <b>make sure each of the sample will have different set of columns</b><br>\n",
        "Ex: Assume we have 10 columns[1 ,2 ,3 ,4 ,5 ,6 ,7 ,8 ,9 ,10] for the first sample we will select [3, 4, 5, 9, 1, 2] and for the second sample  [7, 9, 1, 4, 5, 6, 2] and so on...\n",
        "Make sure each sample will have atleast 3 feautres/columns/attributes"
      ]
    },
    {
      "cell_type": "code",
      "metadata": {
        "id": "pgCKS2tJHX0Z",
        "colab_type": "code",
        "colab": {}
      },
      "source": [
        "random.seed(19)\n",
        "sampled_points=random.sample(range(1,507),303)"
      ],
      "execution_count": 19,
      "outputs": []
    },
    {
      "cell_type": "code",
      "metadata": {
        "id": "DRvEAAvVa3M5",
        "colab_type": "code",
        "colab": {}
      },
      "source": [
        "def get_remaining_points(sampled_points):\n",
        "  return random.sample(sampled_points,203)"
      ],
      "execution_count": 25,
      "outputs": []
    },
    {
      "cell_type": "code",
      "metadata": {
        "id": "VsJcoXOrdwUt",
        "colab_type": "code",
        "colab": {
          "base_uri": "https://localhost:8080/",
          "height": 34
        },
        "outputId": "438ea5df-50f3-403a-9210-e49b73fdbbff"
      },
      "source": [
        "int(len(x)*.6)"
      ],
      "execution_count": 28,
      "outputs": [
        {
          "output_type": "execute_result",
          "data": {
            "text/plain": [
              "303"
            ]
          },
          "metadata": {
            "tags": []
          },
          "execution_count": 28
        }
      ]
    },
    {
      "cell_type": "code",
      "metadata": {
        "id": "PRbZV4zsdwrR",
        "colab_type": "code",
        "colab": {}
      },
      "source": [
        ""
      ],
      "execution_count": null,
      "outputs": []
    },
    {
      "cell_type": "markdown",
      "metadata": {
        "id": "zUqFEBSvNjCa",
        "colab_type": "text"
      },
      "source": [
        "<font color='red'><b>Step - 2 </b></font>"
      ]
    },
    {
      "cell_type": "markdown",
      "metadata": {
        "id": "uqi9AhCYNq3Z",
        "colab_type": "text"
      },
      "source": [
        "<font color='blue'><b>Building High Variance Models on each of the sample and finding train MSE value</b></font>"
      ]
    },
    {
      "cell_type": "markdown",
      "metadata": {
        "id": "-lLBnZHXOFln",
        "colab_type": "text"
      },
      "source": [
        "*  Build a regression trees on each of 30 samples.\n",
        "*  Computed the predicted values of each data point(506 data points) in your corpus.\n",
        "*  Predicted house price of $i^{th}$ data point $y^{i}_{pred} =  \\frac{1}{30}\\sum_{k=1}^{30}(\\text{predicted value of } x^{i} \\text{ with } k^{th} \\text{ model})$\n",
        "*  Now calculate the $MSE =  \\frac{1}{506}\\sum_{i=1}^{506}(y^{i} - y^{i}_{pred})^{2}$"
      ]
    },
    {
      "cell_type": "markdown",
      "metadata": {
        "id": "Kls23JLnSN23",
        "colab_type": "text"
      },
      "source": [
        "<font color='red'> <b>Step - 3 </b></font>"
      ]
    },
    {
      "cell_type": "markdown",
      "metadata": {
        "id": "rz2GchkGSWnh",
        "colab_type": "text"
      },
      "source": [
        "*  <font color='blue'><b>Calculating the OOB score </b></font>"
      ]
    },
    {
      "cell_type": "markdown",
      "metadata": {
        "id": "DGHkVV2kSibm",
        "colab_type": "text"
      },
      "source": [
        "*  Predicted house price of $i^{th}$ data point $y^{i}_{pred} =  \\frac{1}{k}\\sum_{\\text{k= model which was buit on samples not included } x^{i}}(\\text{predicted value of } x^{i} \\text{ with } k^{th} \\text{ model})$.\n",
        "*  Now calculate the $OOB Score =  \\frac{1}{506}\\sum_{i=1}^{506}(y^{i} - y^{i}_{pred})^{2}$."
      ]
    },
    {
      "cell_type": "markdown",
      "metadata": {
        "id": "RK860ocxTyoz",
        "colab_type": "text"
      },
      "source": [
        "# <font color='red'><b>Task 2</b></font>"
      ]
    },
    {
      "cell_type": "markdown",
      "metadata": {
        "id": "1dme-N6TUCrY",
        "colab_type": "text"
      },
      "source": [
        "*  <font color='blue'><b>Computing CI of OOB Score and Train MSE</b></font>\n",
        "  *   Repeat Task 1 for 35 times, and for each iteration store the Train MSE and OOB score </li>\n",
        "<li> After this we will have 35 Train MSE values and 35 OOB scores </li>\n",
        "<li> using these 35 values (assume like a sample) find the confidence intravels of MSE and OOB Score </li>\n",
        "<li> you need to report CI of MSE and CI of OOB Score </li>\n",
        "<li> Note: Refer the Central_Limit_theorem.ipynb to check how to find the confidence intravel</li>\n",
        "</ol>"
      ]
    },
    {
      "cell_type": "markdown",
      "metadata": {
        "id": "O6UcH1x9Uwrj",
        "colab_type": "text"
      },
      "source": [
        "# <font color='red'><b>Task 3</b></font>"
      ]
    },
    {
      "cell_type": "markdown",
      "metadata": {
        "id": "bOC_AgsLU7OH",
        "colab_type": "text"
      },
      "source": [
        "*  <font color='blue'><b>Given a single query point predict the price of house.</b></font>"
      ]
    },
    {
      "cell_type": "markdown",
      "metadata": {
        "id": "HYs5jSFdVILe",
        "colab_type": "text"
      },
      "source": [
        "Consider xq= [0.18,20.0,5.00,0.0,0.421,5.60,72.2,7.95,7.0,30.0,19.1,372.13,18.60] \n",
        "Predict the house price for this point as mentioned in the step 2 of Task 1."
      ]
    },
    {
      "cell_type": "markdown",
      "metadata": {
        "id": "_6gxZEsFWm-8",
        "colab_type": "text"
      },
      "source": [
        "<br><br><br>"
      ]
    },
    {
      "cell_type": "markdown",
      "metadata": {
        "id": "V2fHTdS_zpgG",
        "colab_type": "text"
      },
      "source": [
        "# <font color='blue'> <b>Task - 1</b></font>"
      ]
    },
    {
      "cell_type": "markdown",
      "metadata": {
        "id": "e0yGBuryOwHz",
        "colab_type": "text"
      },
      "source": [
        "<font color='blue'><b>Step - 1</b></font>"
      ]
    },
    {
      "cell_type": "markdown",
      "metadata": {
        "id": "lJXX8vf3z073",
        "colab_type": "text"
      },
      "source": [
        "*  <font color='blue'> <b>Creating samples</b></font>"
      ]
    },
    {
      "cell_type": "markdown",
      "metadata": {
        "id": "CSVaWG1F4uCZ",
        "colab_type": "text"
      },
      "source": [
        "<font color='Orange'><b>Algorithm</b></font>\n",
        "\n",
        "![alt text](https://i.imgur.com/BTVYXQ1.jpg/)"
      ]
    },
    {
      "cell_type": "markdown",
      "metadata": {
        "id": "f_oWoN97BhDY",
        "colab_type": "text"
      },
      "source": [
        "*  <font color='blue'><b> Write code for generating samples</b></font>"
      ]
    },
    {
      "cell_type": "code",
      "metadata": {
        "id": "Ph_6D2SDzz7F",
        "colab_type": "code",
        "colab": {}
      },
      "source": [
        "def generating_samples(input_data, target_data):\n",
        "  lnth = len(input_data)\n",
        "  selecting_rows = random.sample(range(0,lnth),int(lnth*.6))\n",
        "  replacing_rows = random.sample(selecting_rows,lnth-len(selecting_rows))\n",
        "  # print(replacing_rows,'\\n',len(replacing_rows))\n",
        "  col_length = len(input_data[0])\n",
        "  # print(col_length)\n",
        "  selecting_columns = random.sample(range(3,13),np.random.randint(3,11))\n",
        "  #     print(\"selecting_rows-->\",selecting_rows)\n",
        "  #     print(\"selecting_columns-->\",selecting_columns)\n",
        "  sample_data = input_data[selecting_rows][:,selecting_columns]\n",
        "  target_of_sample_data = target_data[selecting_rows]\n",
        "  #     print(\"sample_data\")\n",
        "  #     print(sample_data)\n",
        "  replicated_sample_data = input_data[replacing_rows][:,selecting_columns]\n",
        "  #     print(\"replicated_sample_data\")\n",
        "  #     print(replicated_sample_data)\n",
        "  target_of_replicated_sample_data = target_data[replacing_rows]\n",
        "  final_sample_data = np.vstack((sample_data,replicated_sample_data))\n",
        "  final_target_data = np.vstack((target_of_sample_data.reshape(-1,1),target_of_replicated_sample_data.reshape(-1,1)))\n",
        "  return final_sample_data , final_target_data,selecting_rows,selecting_columns"
      ],
      "execution_count": 54,
      "outputs": []
    },
    {
      "cell_type": "code",
      "metadata": {
        "id": "PICU518Pe_EB",
        "colab_type": "code",
        "colab": {
          "base_uri": "https://localhost:8080/",
          "height": 1000
        },
        "outputId": "edfed8d5-ccc5-4c54-bc1e-e38c02b78e57"
      },
      "source": [
        "generating_samples(x,y)"
      ],
      "execution_count": 55,
      "outputs": [
        {
          "output_type": "execute_result",
          "data": {
            "text/plain": [
              "(array([[380.02  ,   4.4619,  10.26  ,   4.    ],\n",
              "        [383.37  ,   5.7209,   5.81  ,   3.    ],\n",
              "        [393.23  ,   2.7019,   9.64  ,   5.    ],\n",
              "        ...,\n",
              "        [388.08  ,   1.6119,  24.16  ,   4.    ],\n",
              "        [396.9   ,   7.309 ,   4.08  ,   2.    ],\n",
              "        [391.27  ,   2.9153,   6.92  ,   5.    ]]), array([[18.2],\n",
              "        [25.3],\n",
              "        [22.6],\n",
              "        [14.5],\n",
              "        [36. ],\n",
              "        [17.9],\n",
              "        [20.6],\n",
              "        [17.5],\n",
              "        [36.4],\n",
              "        [33.3],\n",
              "        [29.9],\n",
              "        [19.2],\n",
              "        [26.6],\n",
              "        [15. ],\n",
              "        [18.3],\n",
              "        [37.6],\n",
              "        [17.8],\n",
              "        [18.9],\n",
              "        [20.6],\n",
              "        [15.1],\n",
              "        [20.1],\n",
              "        [16.5],\n",
              "        [15.6],\n",
              "        [23.9],\n",
              "        [11.9],\n",
              "        [20. ],\n",
              "        [23.8],\n",
              "        [13.4],\n",
              "        [24.1],\n",
              "        [11.5],\n",
              "        [22.8],\n",
              "        [19.4],\n",
              "        [21.1],\n",
              "        [22.2],\n",
              "        [ 8.8],\n",
              "        [21.2],\n",
              "        [23.7],\n",
              "        [14.5],\n",
              "        [33.1],\n",
              "        [13.4],\n",
              "        [21.4],\n",
              "        [17.4],\n",
              "        [21.7],\n",
              "        [12.7],\n",
              "        [21.9],\n",
              "        [21.2],\n",
              "        [21.6],\n",
              "        [19. ],\n",
              "        [ 5. ],\n",
              "        [29.8],\n",
              "        [20.7],\n",
              "        [23.2],\n",
              "        [14.4],\n",
              "        [21.4],\n",
              "        [11.8],\n",
              "        [45.4],\n",
              "        [21.7],\n",
              "        [20.3],\n",
              "        [50. ],\n",
              "        [29.8],\n",
              "        [17.2],\n",
              "        [11.7],\n",
              "        [18.7],\n",
              "        [ 9.6],\n",
              "        [23.9],\n",
              "        [22.2],\n",
              "        [24.5],\n",
              "        [44.8],\n",
              "        [31.1],\n",
              "        [21.9],\n",
              "        [23.3],\n",
              "        [42.8],\n",
              "        [22.6],\n",
              "        [18.6],\n",
              "        [19.6],\n",
              "        [14.4],\n",
              "        [28.4],\n",
              "        [24.3],\n",
              "        [33.4],\n",
              "        [16.1],\n",
              "        [12.1],\n",
              "        [ 6.3],\n",
              "        [23. ],\n",
              "        [24.5],\n",
              "        [25. ],\n",
              "        [23.1],\n",
              "        [43.8],\n",
              "        [26.2],\n",
              "        [23.9],\n",
              "        [ 5. ],\n",
              "        [26.6],\n",
              "        [22.4],\n",
              "        [ 7.2],\n",
              "        [50. ],\n",
              "        [22.2],\n",
              "        [19.3],\n",
              "        [17.1],\n",
              "        [50. ],\n",
              "        [ 9.7],\n",
              "        [23.8],\n",
              "        [32. ],\n",
              "        [22. ],\n",
              "        [17.3],\n",
              "        [29.6],\n",
              "        [27.9],\n",
              "        [24.1],\n",
              "        [20.5],\n",
              "        [48.8],\n",
              "        [50. ],\n",
              "        [15. ],\n",
              "        [ 8.4],\n",
              "        [22. ],\n",
              "        [50. ],\n",
              "        [15. ],\n",
              "        [10.5],\n",
              "        [22. ],\n",
              "        [50. ],\n",
              "        [19.6],\n",
              "        [23.6],\n",
              "        [13.8],\n",
              "        [23. ],\n",
              "        [30.3],\n",
              "        [25.1],\n",
              "        [18.7],\n",
              "        [24.4],\n",
              "        [18.9],\n",
              "        [20.6],\n",
              "        [41.3],\n",
              "        [16.2],\n",
              "        [48.5],\n",
              "        [11.3],\n",
              "        [19.6],\n",
              "        [14. ],\n",
              "        [14.1],\n",
              "        [ 8.5],\n",
              "        [30.8],\n",
              "        [24.4],\n",
              "        [23.1],\n",
              "        [13.8],\n",
              "        [13.2],\n",
              "        [16.1],\n",
              "        [14.9],\n",
              "        [20. ],\n",
              "        [23.5],\n",
              "        [23. ],\n",
              "        [20.6],\n",
              "        [23.7],\n",
              "        [18.4],\n",
              "        [19.8],\n",
              "        [43.1],\n",
              "        [31.6],\n",
              "        [33.1],\n",
              "        [13.8],\n",
              "        [13.3],\n",
              "        [29.4],\n",
              "        [13.3],\n",
              "        [32.7],\n",
              "        [16.5],\n",
              "        [21.5],\n",
              "        [18.6],\n",
              "        [21.4],\n",
              "        [ 8.8],\n",
              "        [22.6],\n",
              "        [10.4],\n",
              "        [22.3],\n",
              "        [17.6],\n",
              "        [ 7.2],\n",
              "        [23.6],\n",
              "        [16.4],\n",
              "        [23.7],\n",
              "        [23.8],\n",
              "        [19.4],\n",
              "        [14.5],\n",
              "        [15.7],\n",
              "        [19.3],\n",
              "        [20. ],\n",
              "        [27.5],\n",
              "        [50. ],\n",
              "        [25. ],\n",
              "        [13.6],\n",
              "        [20.6],\n",
              "        [15.6],\n",
              "        [10.5],\n",
              "        [32.5],\n",
              "        [37.2],\n",
              "        [20.4],\n",
              "        [30.1],\n",
              "        [19.1],\n",
              "        [20.1],\n",
              "        [ 8.5],\n",
              "        [10.2],\n",
              "        [11. ],\n",
              "        [20.3],\n",
              "        [19.5],\n",
              "        [23.3],\n",
              "        [15.2],\n",
              "        [20.8],\n",
              "        [23.9],\n",
              "        [23.2],\n",
              "        [22. ],\n",
              "        [22.7],\n",
              "        [14.2],\n",
              "        [11.9],\n",
              "        [19.3],\n",
              "        [15.6],\n",
              "        [19.1],\n",
              "        [19.6],\n",
              "        [23.8],\n",
              "        [19.3],\n",
              "        [18.7],\n",
              "        [13.1],\n",
              "        [36.2],\n",
              "        [22.8],\n",
              "        [15.4],\n",
              "        [13.8],\n",
              "        [50. ],\n",
              "        [20.4],\n",
              "        [31.5],\n",
              "        [22.5],\n",
              "        [21.7],\n",
              "        [22.5],\n",
              "        [15.2],\n",
              "        [20.1],\n",
              "        [19.8],\n",
              "        [18.9],\n",
              "        [21.4],\n",
              "        [18.4],\n",
              "        [14.6],\n",
              "        [26.4],\n",
              "        [29.1],\n",
              "        [19.9],\n",
              "        [28.7],\n",
              "        [37. ],\n",
              "        [22.9],\n",
              "        [27.1],\n",
              "        [15.6],\n",
              "        [18.1],\n",
              "        [10.2],\n",
              "        [20. ],\n",
              "        [19.1],\n",
              "        [15.6],\n",
              "        [16. ],\n",
              "        [29.6],\n",
              "        [20.2],\n",
              "        [22.5],\n",
              "        [24.6],\n",
              "        [11.8],\n",
              "        [22.9],\n",
              "        [42.3],\n",
              "        [16.6],\n",
              "        [24.7],\n",
              "        [ 7.4],\n",
              "        [50. ],\n",
              "        [35.2],\n",
              "        [24.8],\n",
              "        [23.2],\n",
              "        [31.6],\n",
              "        [35.1],\n",
              "        [24.3],\n",
              "        [21.8],\n",
              "        [23.3],\n",
              "        [50. ],\n",
              "        [20.3],\n",
              "        [22.8],\n",
              "        [20.9],\n",
              "        [ 8.1],\n",
              "        [28.7],\n",
              "        [19.8],\n",
              "        [12. ],\n",
              "        [18. ],\n",
              "        [21.2],\n",
              "        [37.9],\n",
              "        [23.1],\n",
              "        [19.4],\n",
              "        [26.7],\n",
              "        [50. ],\n",
              "        [46. ],\n",
              "        [33.2],\n",
              "        [28. ],\n",
              "        [19.4],\n",
              "        [36.2],\n",
              "        [26.5],\n",
              "        [28.7],\n",
              "        [21.2],\n",
              "        [16.7],\n",
              "        [38.7],\n",
              "        [27. ],\n",
              "        [22.2],\n",
              "        [29.1],\n",
              "        [19.3],\n",
              "        [17.5],\n",
              "        [39.8],\n",
              "        [25. ],\n",
              "        [15.4],\n",
              "        [20.9],\n",
              "        [16.1],\n",
              "        [19.6],\n",
              "        [20.5],\n",
              "        [20.6],\n",
              "        [13.1],\n",
              "        [18.5],\n",
              "        [50. ],\n",
              "        [16.3],\n",
              "        [11.8],\n",
              "        [29.1],\n",
              "        [15.6],\n",
              "        [ 9.7],\n",
              "        [11.3],\n",
              "        [18.9],\n",
              "        [ 8.5],\n",
              "        [17.9],\n",
              "        [16.2],\n",
              "        [20.6],\n",
              "        [23.8],\n",
              "        [19. ],\n",
              "        [21.7],\n",
              "        [22.2],\n",
              "        [22.8],\n",
              "        [13.3],\n",
              "        [50. ],\n",
              "        [22.8],\n",
              "        [18.4],\n",
              "        [23. ],\n",
              "        [17.2],\n",
              "        [22.9],\n",
              "        [25.3],\n",
              "        [50. ],\n",
              "        [24.5],\n",
              "        [15.4],\n",
              "        [15.7],\n",
              "        [43.8],\n",
              "        [23.2],\n",
              "        [16. ],\n",
              "        [21.4],\n",
              "        [14.4],\n",
              "        [36.2],\n",
              "        [18.3],\n",
              "        [ 9.6],\n",
              "        [23.2],\n",
              "        [23.5],\n",
              "        [26.2],\n",
              "        [26.6],\n",
              "        [19.1],\n",
              "        [23.1],\n",
              "        [20.2],\n",
              "        [19.3],\n",
              "        [23.6],\n",
              "        [18. ],\n",
              "        [25. ],\n",
              "        [36. ],\n",
              "        [48.8],\n",
              "        [22.5],\n",
              "        [20.6],\n",
              "        [21.5],\n",
              "        [ 8.8],\n",
              "        [18.9],\n",
              "        [29.8],\n",
              "        [16.5],\n",
              "        [18.6],\n",
              "        [22.5],\n",
              "        [16.1],\n",
              "        [10.2],\n",
              "        [33.1],\n",
              "        [22.6],\n",
              "        [23.8],\n",
              "        [15.2],\n",
              "        [50. ],\n",
              "        [15. ],\n",
              "        [20. ],\n",
              "        [31.6],\n",
              "        [23.9],\n",
              "        [19.2],\n",
              "        [50. ],\n",
              "        [42.3],\n",
              "        [19.3],\n",
              "        [15.1],\n",
              "        [28.7],\n",
              "        [19.8],\n",
              "        [27.5],\n",
              "        [25. ],\n",
              "        [24.7],\n",
              "        [26.6],\n",
              "        [32.7],\n",
              "        [21.1],\n",
              "        [32. ],\n",
              "        [35.1],\n",
              "        [50. ],\n",
              "        [29.4],\n",
              "        [13.2],\n",
              "        [ 7.2],\n",
              "        [16.5],\n",
              "        [13.4],\n",
              "        [11. ],\n",
              "        [20.6],\n",
              "        [13.1],\n",
              "        [20. ],\n",
              "        [32.5],\n",
              "        [13.6],\n",
              "        [23.6],\n",
              "        [24.3],\n",
              "        [10.4],\n",
              "        [20.1],\n",
              "        [22. ],\n",
              "        [15.4],\n",
              "        [13.8],\n",
              "        [37.6],\n",
              "        [22.6],\n",
              "        [20.4],\n",
              "        [30.1],\n",
              "        [ 7.2],\n",
              "        [24.4],\n",
              "        [22.2],\n",
              "        [23. ],\n",
              "        [45.4],\n",
              "        [ 8.1],\n",
              "        [23.1],\n",
              "        [23.9],\n",
              "        [22.9],\n",
              "        [24.6],\n",
              "        [41.3],\n",
              "        [28.7],\n",
              "        [19.3],\n",
              "        [ 6.3],\n",
              "        [14.1],\n",
              "        [14.6],\n",
              "        [27.9],\n",
              "        [22. ],\n",
              "        [20.3],\n",
              "        [21.8],\n",
              "        [17.8],\n",
              "        [21.2],\n",
              "        [24.3],\n",
              "        [20.3],\n",
              "        [19.4],\n",
              "        [17.1],\n",
              "        [29.8],\n",
              "        [18.9],\n",
              "        [20.7],\n",
              "        [21.7],\n",
              "        [10.5],\n",
              "        [19.6],\n",
              "        [23.9],\n",
              "        [19.6],\n",
              "        [25. ],\n",
              "        [20.5],\n",
              "        [38.7],\n",
              "        [50. ],\n",
              "        [31.6],\n",
              "        [14.4],\n",
              "        [19.9],\n",
              "        [35.2],\n",
              "        [24.4],\n",
              "        [22.7],\n",
              "        [20.9],\n",
              "        [10.5],\n",
              "        [19.5],\n",
              "        [23.3],\n",
              "        [12.1],\n",
              "        [23. ],\n",
              "        [21.9],\n",
              "        [20. ],\n",
              "        [20.8],\n",
              "        [12.7],\n",
              "        [33.2],\n",
              "        [ 7.4],\n",
              "        [37. ],\n",
              "        [15.6],\n",
              "        [28. ],\n",
              "        [23.2],\n",
              "        [ 5. ],\n",
              "        [18.7],\n",
              "        [20.1],\n",
              "        [21.7],\n",
              "        [29.6],\n",
              "        [44.8],\n",
              "        [19.1],\n",
              "        [16.1],\n",
              "        [19.6],\n",
              "        [22.6],\n",
              "        [11.9],\n",
              "        [21.2],\n",
              "        [30.8],\n",
              "        [19.4],\n",
              "        [20. ],\n",
              "        [50. ],\n",
              "        [19.1],\n",
              "        [ 8.4],\n",
              "        [18.5],\n",
              "        [23.9],\n",
              "        [16.3],\n",
              "        [29.6],\n",
              "        [15.6],\n",
              "        [27.1],\n",
              "        [19.3],\n",
              "        [46. ],\n",
              "        [50. ],\n",
              "        [28.4],\n",
              "        [ 5. ],\n",
              "        [23.7],\n",
              "        [22. ],\n",
              "        [21.2],\n",
              "        [36.4],\n",
              "        [15.2],\n",
              "        [14. ],\n",
              "        [33.3],\n",
              "        [29.9]]), [14,\n",
              "  42,\n",
              "  174,\n",
              "  430,\n",
              "  258,\n",
              "  412,\n",
              "  502,\n",
              "  17,\n",
              "  192,\n",
              "  196,\n",
              "  178,\n",
              "  117,\n",
              "  349,\n",
              "  10,\n",
              "  497,\n",
              "  226,\n",
              "  453,\n",
              "  54,\n",
              "  487,\n",
              "  390,\n",
              "  492,\n",
              "  8,\n",
              "  134,\n",
              "  81,\n",
              "  406,\n",
              "  36,\n",
              "  320,\n",
              "  423,\n",
              "  201,\n",
              "  389,\n",
              "  308,\n",
              "  66,\n",
              "  270,\n",
              "  62,\n",
              "  418,\n",
              "  44,\n",
              "  238,\n",
              "  31,\n",
              "  303,\n",
              "  142,\n",
              "  96,\n",
              "  170,\n",
              "  12,\n",
              "  30,\n",
              "  254,\n",
              "  78,\n",
              "  313,\n",
              "  339,\n",
              "  398,\n",
              "  473,\n",
              "  269,\n",
              "  391,\n",
              "  48,\n",
              "  75,\n",
              "  445,\n",
              "  280,\n",
              "  71,\n",
              "  79,\n",
              "  163,\n",
              "  188,\n",
              "  408,\n",
              "  424,\n",
              "  113,\n",
              "  436,\n",
              "  343,\n",
              "  87,\n",
              "  494,\n",
              "  224,\n",
              "  193,\n",
              "  364,\n",
              "  239,\n",
              "  253,\n",
              "  90,\n",
              "  352,\n",
              "  21,\n",
              "  141,\n",
              "  95,\n",
              "  158,\n",
              "  306,\n",
              "  452,\n",
              "  402,\n",
              "  399,\n",
              "  326,\n",
              "  248,\n",
              "  52,\n",
              "  16,\n",
              "  98,\n",
              "  249,\n",
              "  503,\n",
              "  405,\n",
              "  85,\n",
              "  212,\n",
              "  415,\n",
              "  186,\n",
              "  333,\n",
              "  103,\n",
              "  441,\n",
              "  371,\n",
              "  392,\n",
              "  168,\n",
              "  187,\n",
              "  120,\n",
              "  123,\n",
              "  185,\n",
              "  407,\n",
              "  351,\n",
              "  247,\n",
              "  262,\n",
              "  368,\n",
              "  375,\n",
              "  419,\n",
              "  67,\n",
              "  161,\n",
              "  410,\n",
              "  386,\n",
              "  504,\n",
              "  372,\n",
              "  59,\n",
              "  88,\n",
              "  374,\n",
              "  219,\n",
              "  197,\n",
              "  236,\n",
              "  60,\n",
              "  250,\n",
              "  9,\n",
              "  355,\n",
              "  157,\n",
              "  127,\n",
              "  203,\n",
              "  382,\n",
              "  151,\n",
              "  140,\n",
              "  431,\n",
              "  404,\n",
              "  39,\n",
              "  208,\n",
              "  172,\n",
              "  373,\n",
              "  32,\n",
              "  310,\n",
              "  446,\n",
              "  459,\n",
              "  65,\n",
              "  132,\n",
              "  94,\n",
              "  481,\n",
              "  133,\n",
              "  330,\n",
              "  261,\n",
              "  57,\n",
              "  277,\n",
              "  474,\n",
              "  138,\n",
              "  175,\n",
              "  475,\n",
              "  341,\n",
              "  342,\n",
              "  218,\n",
              "  102,\n",
              "  464,\n",
              "  384,\n",
              "  205,\n",
              "  380,\n",
              "  169,\n",
              "  244,\n",
              "  401,\n",
              "  173,\n",
              "  460,\n",
              "  243,\n",
              "  314,\n",
              "  109,\n",
              "  23,\n",
              "  126,\n",
              "  211,\n",
              "  76,\n",
              "  100,\n",
              "  257,\n",
              "  63,\n",
              "  20,\n",
              "  484,\n",
              "  24,\n",
              "  440,\n",
              "  183,\n",
              "  179,\n",
              "  118,\n",
              "  259,\n",
              "  171,\n",
              "  104,\n",
              "  397,\n",
              "  379,\n",
              "  428,\n",
              "  121,\n",
              "  106,\n",
              "  58,\n",
              "  22,\n",
              "  77,\n",
              "  84,\n",
              "  176,\n",
              "  285,\n",
              "  358,\n",
              "  421,\n",
              "  505,\n",
              "  119,\n",
              "  146,\n",
              "  467,\n",
              "  471,\n",
              "  167,\n",
              "  45,\n",
              "  340,\n",
              "  156,\n",
              "  4,\n",
              "  72,\n",
              "  149,\n",
              "  145,\n",
              "  204,\n",
              "  13,\n",
              "  237,\n",
              "  298,\n",
              "  110,\n",
              "  207,\n",
              "  451,\n",
              "  469,\n",
              "  108,\n",
              "  11,\n",
              "  479,\n",
              "  28,\n",
              "  147,\n",
              "  184,\n",
              "  194,\n",
              "  361,\n",
              "  217,\n",
              "  190,\n",
              "  92,\n",
              "  7,\n",
              "  143,\n",
              "  135,\n",
              "  388,\n",
              "  46,\n",
              "  486,\n",
              "  155,\n",
              "  61,\n",
              "  252,\n",
              "  463,\n",
              "  86,\n",
              "  177,\n",
              "  144,\n",
              "  83,\n",
              "  202,\n",
              "  47,\n",
              "  43,\n",
              "  387,\n",
              "  370,\n",
              "  273,\n",
              "  82,\n",
              "  472,\n",
              "  227,\n",
              "  279,\n",
              "  230,\n",
              "  493,\n",
              "  216,\n",
              "  162,\n",
              "  309,\n",
              "  111,\n",
              "  255,\n",
              "  490,\n",
              "  89,\n",
              "  317,\n",
              "  477,\n",
              "  128,\n",
              "  485,\n",
              "  182,\n",
              "  347,\n",
              "  153,\n",
              "  220,\n",
              "  267,\n",
              "  282,\n",
              "  99,\n",
              "  80,\n",
              "  49,\n",
              "  181,\n",
              "  101,\n",
              "  5,\n",
              "  116,\n",
              "  420,\n",
              "  97,\n",
              "  160,\n",
              "  242,\n",
              "  278,\n",
              "  328,\n",
              "  499,\n",
              "  180,\n",
              "  482,\n",
              "  443,\n",
              "  69,\n",
              "  432,\n",
              "  131,\n",
              "  122,\n",
              "  338,\n",
              "  378,\n",
              "  114,\n",
              "  195,\n",
              "  413], [11, 7, 12, 8])"
            ]
          },
          "metadata": {
            "tags": []
          },
          "execution_count": 55
        }
      ]
    },
    {
      "cell_type": "markdown",
      "metadata": {
        "id": "MivEQFlm7iOg",
        "colab_type": "text"
      },
      "source": [
        "<font color='cyan'> <b> Grader function - 1 </b> </fongt>"
      ]
    },
    {
      "cell_type": "code",
      "metadata": {
        "id": "AVvuhNzm7uld",
        "colab_type": "code",
        "colab": {
          "base_uri": "https://localhost:8080/",
          "height": 34
        },
        "outputId": "91532fb8-4cb4-4b07-8801-27a9378fcca8"
      },
      "source": [
        "def grader_samples(a,b,c,d):\n",
        "    length = (len(a)==506  and len(b)==506)\n",
        "    sampled = (len(a)-len(set([str(i) for i in a]))==203)\n",
        "    rows_length = (len(c)==303)\n",
        "    column_length= (len(d)>=3)\n",
        "    assert(length and sampled and rows_length and column_length)\n",
        "    return True\n",
        "a,b,c,d = generating_samples(x, y)\n",
        "grader_samples(a,b,c,d)"
      ],
      "execution_count": 56,
      "outputs": [
        {
          "output_type": "execute_result",
          "data": {
            "text/plain": [
              "True"
            ]
          },
          "metadata": {
            "tags": []
          },
          "execution_count": 56
        }
      ]
    },
    {
      "cell_type": "markdown",
      "metadata": {
        "id": "b4LSsmn4Jn2_",
        "colab_type": "text"
      },
      "source": [
        "*  <font color='blue'> <b>Create 30 samples </b>"
      ]
    },
    {
      "cell_type": "markdown",
      "metadata": {
        "id": "3ec7MN6sL2BZ",
        "colab_type": "text"
      },
      "source": [
        "![alt text](https://i.imgur.com/p8eZaWL.jpg)"
      ]
    },
    {
      "cell_type": "code",
      "metadata": {
        "id": "XXlKWjCcBvTk",
        "colab_type": "code",
        "colab": {}
      },
      "source": [
        "# Use generating_samples function to create 30 samples \n",
        "# store these created samples in a list\n",
        "list_input_data =[]\n",
        "list_output_data =[]\n",
        "list_selected_row= []\n",
        "list_selected_columns=[]"
      ],
      "execution_count": null,
      "outputs": []
    },
    {
      "cell_type": "markdown",
      "metadata": {
        "id": "MXUz9VFiMQkh",
        "colab_type": "text"
      },
      "source": [
        "<font color='cyan'> <b>Grader function - 2 </b></font>"
      ]
    },
    {
      "cell_type": "code",
      "metadata": {
        "id": "hCvIq8NuMWOC",
        "colab_type": "code",
        "colab": {}
      },
      "source": [
        "def grader_30(a):\n",
        "    assert(len(a)==30 and len(a[0])==506)\n",
        "    return True\n",
        "grader_30(list_input_data)"
      ],
      "execution_count": null,
      "outputs": []
    },
    {
      "cell_type": "markdown",
      "metadata": {
        "id": "7Pv-mkZkO6dh",
        "colab_type": "text"
      },
      "source": [
        "<br>"
      ]
    },
    {
      "cell_type": "markdown",
      "metadata": {
        "id": "whaHCPB0O8qF",
        "colab_type": "text"
      },
      "source": [
        "<font color='red'><b>Step - 2 </b></font>"
      ]
    },
    {
      "cell_type": "markdown",
      "metadata": {
        "id": "XBy4zXSWPtU8",
        "colab_type": "text"
      },
      "source": [
        "<font color='orange'><b>Flowchart for building tree</b></font>"
      ]
    },
    {
      "cell_type": "markdown",
      "metadata": {
        "id": "5xvH06HPQBdP",
        "colab_type": "text"
      },
      "source": [
        "![alt text](https://i.imgur.com/pcXfSmp.png)"
      ]
    },
    {
      "cell_type": "markdown",
      "metadata": {
        "id": "WRwPO_uHQjul",
        "colab_type": "text"
      },
      "source": [
        "*  <font color='blue'><b> Write code for building regression trees</b></font>"
      ]
    },
    {
      "cell_type": "code",
      "metadata": {
        "id": "YWQp6tRwMthq",
        "colab_type": "code",
        "colab": {}
      },
      "source": [
        ""
      ],
      "execution_count": null,
      "outputs": []
    },
    {
      "cell_type": "markdown",
      "metadata": {
        "id": "21j8BKfAQ1U8",
        "colab_type": "text"
      },
      "source": [
        "<font color='orange'><b>Flowchart for calculating MSE </b></font>"
      ]
    },
    {
      "cell_type": "markdown",
      "metadata": {
        "id": "8Q0mTBD2RBx_",
        "colab_type": "text"
      },
      "source": [
        "![alt text](https://i.imgur.com/sPEE618.png)"
      ]
    },
    {
      "cell_type": "markdown",
      "metadata": {
        "id": "6e-UamlHRjPy",
        "colab_type": "text"
      },
      "source": [
        "After getting predicted_y for each data point, we can use sklearns mean_squared_error to calculate the MSE between predicted_y and actual_y."
      ]
    },
    {
      "cell_type": "markdown",
      "metadata": {
        "id": "TnIMT7_oR312",
        "colab_type": "text"
      },
      "source": [
        "*  <font color='blue'><b> Write code for calculating MSE</b></font>"
      ]
    },
    {
      "cell_type": "code",
      "metadata": {
        "id": "qWhcvMRWRA9b",
        "colab_type": "code",
        "colab": {}
      },
      "source": [
        ""
      ],
      "execution_count": null,
      "outputs": []
    },
    {
      "cell_type": "markdown",
      "metadata": {
        "id": "RuclPDMnSz8F",
        "colab_type": "text"
      },
      "source": [
        "<font color='blue'><b>Step - 3 </b></font>"
      ]
    },
    {
      "cell_type": "markdown",
      "metadata": {
        "id": "ESb9FSIDTM5V",
        "colab_type": "text"
      },
      "source": [
        "<font color='orange'><b>Flowchart for calculating OOB score</b></font>"
      ]
    },
    {
      "cell_type": "markdown",
      "metadata": {
        "id": "HB-d6NMETbd9",
        "colab_type": "text"
      },
      "source": [
        "![alt text](https://i.imgur.com/95S5Mtm.png)"
      ]
    },
    {
      "cell_type": "markdown",
      "metadata": {
        "id": "WW3GOcFzTqbt",
        "colab_type": "text"
      },
      "source": [
        "Now calculate the $OOB Score =  \\frac{1}{506}\\sum_{i=1}^{506}(y^{i} - y^{i}_{pred})^{2}$."
      ]
    },
    {
      "cell_type": "markdown",
      "metadata": {
        "id": "zBqcS03pUYSZ",
        "colab_type": "text"
      },
      "source": [
        "*  <font color='blue'><b> Write code for calculating OOB score </b></font>"
      ]
    },
    {
      "cell_type": "code",
      "metadata": {
        "id": "Fog_6DNdS-h_",
        "colab_type": "code",
        "colab": {}
      },
      "source": [
        ""
      ],
      "execution_count": null,
      "outputs": []
    },
    {
      "cell_type": "markdown",
      "metadata": {
        "id": "sbuiwX3OUjUI",
        "colab_type": "text"
      },
      "source": [
        "# <font color='blue'><b>Task 2</b></font>"
      ]
    },
    {
      "cell_type": "code",
      "metadata": {
        "id": "ceW5-D88Uswi",
        "colab_type": "code",
        "colab": {}
      },
      "source": [
        ""
      ],
      "execution_count": null,
      "outputs": []
    },
    {
      "cell_type": "markdown",
      "metadata": {
        "id": "jKTnJdiBVS_e",
        "colab_type": "text"
      },
      "source": [
        "# <font color='blue'><b>Task 3</b></font>"
      ]
    },
    {
      "cell_type": "markdown",
      "metadata": {
        "id": "eXxrvZqHV1Fr",
        "colab_type": "text"
      },
      "source": [
        "<font color='orange'><b>Flowchart for Task 3</b></font>"
      ]
    },
    {
      "cell_type": "markdown",
      "metadata": {
        "id": "NyjwEJ62V6a6",
        "colab_type": "text"
      },
      "source": [
        "<b>Hint: </b> We created 30 models by using 30 samples in TASK-1. Here, we need send query point \"xq\"  to 30 models and perform the regression on the output generated by 30 models."
      ]
    },
    {
      "cell_type": "markdown",
      "metadata": {
        "id": "0emSwLL7VurD",
        "colab_type": "text"
      },
      "source": [
        "![alt text](https://i.imgur.com/Y5cNhQk.png)"
      ]
    },
    {
      "cell_type": "markdown",
      "metadata": {
        "id": "29hjwKlWWDfo",
        "colab_type": "text"
      },
      "source": [
        "*  <font color='blue'><b> Write code for TASK 3 </b></font>"
      ]
    },
    {
      "cell_type": "code",
      "metadata": {
        "id": "i_pUlSD-VYD1",
        "colab_type": "code",
        "colab": {}
      },
      "source": [
        ""
      ],
      "execution_count": null,
      "outputs": []
    },
    {
      "cell_type": "markdown",
      "metadata": {
        "id": "DJHTGEZgWJjR",
        "colab_type": "text"
      },
      "source": [
        "<br><br><br>"
      ]
    },
    {
      "cell_type": "markdown",
      "metadata": {
        "id": "IOdUi-0xWOJ9",
        "colab_type": "text"
      },
      "source": [
        "<font color='red'><b>Write observations for task 1, task 2, task 3 indetail</b></font>"
      ]
    },
    {
      "cell_type": "code",
      "metadata": {
        "id": "AIcax45hWKT-",
        "colab_type": "code",
        "colab": {}
      },
      "source": [
        ""
      ],
      "execution_count": null,
      "outputs": []
    }
  ]
}